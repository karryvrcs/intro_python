{
 "cells": [
  {
   "cell_type": "markdown",
   "id": "c20cab9c",
   "metadata": {},
   "source": [
    "# Python & Jupyter\n",
    "The basic instructions that computers understand are limited and difficult to work with directly. Instead, we write programs in a programming language. The programming language is then converted into the basic instructions, although we usually do not need to worry about that step. There are many programming languages, but a popular choice is ***Python***. Python is widely available, comparatively easy to learn and use, and reasonably good at many mathematical tasks. For this reason, you will likely use it in many of the modules in your degree. Specialized modules may use other languages, but your skills in Python will transfer over."
   ]
  },
  {
   "cell_type": "markdown",
   "id": "62879b4e",
   "metadata": {},
   "source": [
    "## Jupyter Notebooks\n",
    "\n",
    "We will be demonstrating Python inside ***Jupyter Notebooks***. These allow for text and code to be mixed together, and you can run all of the code \"inside\" the Notebook. You may be viewing these notes as static web-pages instead; a \"live\" Notebook version will be available on Moodle. There are other methods of using Python, like running it in an \"IDE\" or directly from a command line, which you may see later in your studies. Notebooks are divided into ***cells***, which may contain text (like this cell) or code. The following cell contains some Python code which just adds together 3 and 4. You can run the cell by selecting it and then clicking the \"Run\" button at the top, or using the shortcut `Ctrl-Enter`."
   ]
  },
  {
   "cell_type": "code",
   "execution_count": 1,
   "id": "aef2e540",
   "metadata": {
    "run_control": {
     "marked": false
    }
   },
   "outputs": [
    {
     "data": {
      "text/plain": [
       "7"
      ]
     },
     "execution_count": 1,
     "metadata": {},
     "output_type": "execute_result"
    }
   ],
   "source": [
    "3 + 4"
   ]
  },
  {
   "cell_type": "markdown",
   "id": "5a28566b",
   "metadata": {},
   "source": [
    "Learning to use the shortcuts is very handy. You can see a list of other shortcuts via the `Help` menu. This menu also contains a brief \"User Interface Tour\" which you should take."
   ]
  },
  {
   "cell_type": "markdown",
   "id": "c16212df",
   "metadata": {},
   "source": [
    "## Cells\n",
    "\n",
    "To add a new cell, use the `Insert` menu or the shortcuts `A` and `B`, which insert a cell above or below the currently selected cell respectively. You can then change between text (`Markdown`) and `Code` using the `Cell>Cell Type` menu, or using the shortcuts `Y` and `M` respectively. ***Markdown*** is a simple language for formatting text. When you edit a text cell you will see Markdown, and when you run the cell it will \"render\" the Markdown. Try editing this cell by double clicking it or selecting it and pressing `Return`, then running the cell to see the difference. There is a later notebook which discusses how to use Markdown to format your text cells."
   ]
  },
  {
   "cell_type": "markdown",
   "id": "99eb84b1",
   "metadata": {
    "nbgrader": {
     "grade": false,
     "grade_id": "cell-8ee47be47de9124f",
     "locked": true,
     "schema_version": 3,
     "solution": false,
     "task": false
    }
   },
   "source": [
    "## Arithmetic\n",
    "The simplest way to use Python is just as a fancy calculator. As we saw above, we can add using `+`. We can also subtract, multiply, and divide:"
   ]
  },
  {
   "cell_type": "code",
   "execution_count": 2,
   "id": "24257ea6",
   "metadata": {},
   "outputs": [
    {
     "data": {
      "text/plain": [
       "-1"
      ]
     },
     "execution_count": 2,
     "metadata": {},
     "output_type": "execute_result"
    }
   ],
   "source": [
    "3 - 4"
   ]
  },
  {
   "cell_type": "code",
   "execution_count": 3,
   "id": "f99f1943",
   "metadata": {},
   "outputs": [
    {
     "data": {
      "text/plain": [
       "-12"
      ]
     },
     "execution_count": 3,
     "metadata": {},
     "output_type": "execute_result"
    }
   ],
   "source": [
    "3 * -4"
   ]
  },
  {
   "cell_type": "code",
   "execution_count": 4,
   "id": "d47016cb",
   "metadata": {},
   "outputs": [
    {
     "data": {
      "text/plain": [
       "0.75"
      ]
     },
     "execution_count": 4,
     "metadata": {},
     "output_type": "execute_result"
    }
   ],
   "source": [
    "3/4"
   ]
  },
  {
   "cell_type": "markdown",
   "id": "4f3d3c21",
   "metadata": {
    "nbgrader": {
     "grade": false,
     "grade_id": "cell-39001667425c8a98",
     "locked": true,
     "schema_version": 3,
     "solution": false,
     "task": false
    }
   },
   "source": [
    "As the previous output suggests, we can use decimals as normal. We call these ***floating point*** numbers or ***floats*** for short. All of the operations work on them just like you would expect, though there are some rounding issues that arise when using them that we will discuss later."
   ]
  },
  {
   "cell_type": "code",
   "execution_count": 5,
   "id": "1a32c44f",
   "metadata": {},
   "outputs": [
    {
     "data": {
      "text/plain": [
       "1.5"
      ]
     },
     "execution_count": 5,
     "metadata": {},
     "output_type": "execute_result"
    }
   ],
   "source": [
    "0.75 * 2"
   ]
  },
  {
   "cell_type": "markdown",
   "id": "9e507377",
   "metadata": {
    "nbgrader": {
     "grade": false,
     "grade_id": "cell-d7276889452c9daf",
     "locked": true,
     "schema_version": 3,
     "solution": false,
     "task": false
    }
   },
   "source": [
    "In order to take powers, we use `**`, like so:"
   ]
  },
  {
   "cell_type": "code",
   "execution_count": 6,
   "id": "a0529303",
   "metadata": {},
   "outputs": [
    {
     "data": {
      "text/plain": [
       "8"
      ]
     },
     "execution_count": 6,
     "metadata": {},
     "output_type": "execute_result"
    }
   ],
   "source": [
    "2 ** 3"
   ]
  },
  {
   "cell_type": "code",
   "execution_count": 7,
   "id": "43e8807f",
   "metadata": {},
   "outputs": [
    {
     "data": {
      "text/plain": [
       "3.0"
      ]
     },
     "execution_count": 7,
     "metadata": {},
     "output_type": "execute_result"
    }
   ],
   "source": [
    "9 ** 0.5"
   ]
  },
  {
   "cell_type": "markdown",
   "id": "d4fc5bf1",
   "metadata": {
    "nbgrader": {
     "grade": false,
     "grade_id": "cell-c334760e7918a1f7",
     "locked": true,
     "schema_version": 3,
     "solution": false,
     "task": false
    }
   },
   "source": [
    "**Warning**\n",
    "\n",
    "You might be familiar with using `^` for powers, but this means something different in Python and will give you strange answers if you misuse it!"
   ]
  },
  {
   "cell_type": "code",
   "execution_count": 8,
   "id": "664d4d8c",
   "metadata": {},
   "outputs": [
    {
     "data": {
      "text/plain": [
       "1"
      ]
     },
     "execution_count": 8,
     "metadata": {},
     "output_type": "execute_result"
    }
   ],
   "source": [
    "2 ^ 3"
   ]
  },
  {
   "cell_type": "markdown",
   "id": "80de8ee6",
   "metadata": {
    "nbgrader": {
     "grade": false,
     "grade_id": "cell-a24ea188eccfb093",
     "locked": true,
     "schema_version": 3,
     "solution": false,
     "task": false
    }
   },
   "source": [
    "We can do more than one operation in the same line. The order in which operations are carried out follows the usual \"BODMAS/PEMDAS\" rules; brackets are evaluated first, followed by powers, then multiplication and division, then addition and subtraction. To avoid any confusion it's often best to emphasize the order using brackets!"
   ]
  },
  {
   "cell_type": "code",
   "execution_count": 9,
   "id": "73b27d55",
   "metadata": {},
   "outputs": [
    {
     "data": {
      "text/plain": [
       "4.0"
      ]
     },
     "execution_count": 9,
     "metadata": {},
     "output_type": "execute_result"
    }
   ],
   "source": [
    "(0.5 + 1) * 2 + 1"
   ]
  },
  {
   "cell_type": "markdown",
   "id": "fe118f33",
   "metadata": {},
   "source": [
    "We can also do arithmetic with complex numbers. Python uses `j` for the imaginary unit $i$, so you can create complex numbers like so:"
   ]
  },
  {
   "cell_type": "code",
   "execution_count": 10,
   "id": "b8ad47a6",
   "metadata": {},
   "outputs": [
    {
     "data": {
      "text/plain": [
       "(0.5+6j)"
      ]
     },
     "execution_count": 10,
     "metadata": {},
     "output_type": "execute_result"
    }
   ],
   "source": [
    "0.5 + 6j"
   ]
  },
  {
   "cell_type": "markdown",
   "id": "e94c4ea5",
   "metadata": {},
   "source": [
    "Note that it is `6j` and not `6*j`. Arithmetic works as expected:"
   ]
  },
  {
   "cell_type": "code",
   "execution_count": 11,
   "id": "5b3640ae",
   "metadata": {},
   "outputs": [
    {
     "data": {
      "text/plain": [
       "(-1+3j)"
      ]
     },
     "execution_count": 11,
     "metadata": {},
     "output_type": "execute_result"
    }
   ],
   "source": [
    "(1 + 1j) * (1 + 2j)"
   ]
  },
  {
   "cell_type": "markdown",
   "id": "8c186244",
   "metadata": {},
   "source": [
    "## Comments\n",
    "\n",
    "***Comments*** are a crucial tool you can use to make your code easier to understand, write, and maintain. Anything after a `#` symbol in a code cell will be ignored by Python, and we use this to include descriptions of what our code is doing like so:"
   ]
  },
  {
   "cell_type": "code",
   "execution_count": 1,
   "id": "e3bcba61",
   "metadata": {
    "run_control": {
     "marked": false
    }
   },
   "outputs": [
    {
     "data": {
      "text/plain": [
       "29.3"
      ]
     },
     "execution_count": 1,
     "metadata": {},
     "output_type": "execute_result"
    }
   ],
   "source": [
    "# The following comment is not really necessary, but makes a simple example.\n",
    "\n",
    "# Multiply 1.2 by 43, add seven, and divide the whole thing by 2\n",
    "(1.2 * 43 + 7)/2"
   ]
  },
  {
   "cell_type": "markdown",
   "id": "c4867150",
   "metadata": {},
   "source": [
    "You can also include commentary about the code in text cells like this, though this is an option that is particular to Jupyter Notebooks while comments are available in any Python code.\n",
    "\n",
    "Of course, there was no real need to include the comment in the cell above: the code is arguably clearer than the English. You will develop an understanding of how and when to include comments over time. It is best if the comments *explain* the code rather than duplicating what it says, which is not the case in the example above.\n",
    "As a rule of thumb, comment more rather than less, and certainly comment on code that you had to think about, or that does something \"clever\". Anyone else who has to read your code will be grateful (this other person is most likely to be your future self)."
   ]
  },
  {
   "cell_type": "markdown",
   "id": "da9ea2d3",
   "metadata": {},
   "source": [
    "### A brief introduction to Turtles\n",
    "A running example throughout these notes is \"turtle graphics\". Try running the code cell below. You should see a turtle move around the screen and trace out a path."
   ]
  },
  {
   "cell_type": "code",
   "execution_count": 2,
   "id": "3dda7c32",
   "metadata": {},
   "outputs": [
    {
     "data": {
      "application/vnd.jupyter.widget-view+json": {
       "model_id": "535fdd77f7f64ceb8e2d9831654fdb6b",
       "version_major": 2,
       "version_minor": 0
      },
      "text/plain": [
       "Turtle()"
      ]
     },
     "metadata": {},
     "output_type": "display_data"
    }
   ],
   "source": [
    "# Turtles don't come in basic Python, we need to get them from a \"module\"\n",
    "from mobilechelonian import Turtle\n",
    "\n",
    "terry = Turtle()     # create a turtle, and call him terry\n",
    "\n",
    "# terry will trace out the path he moves along, like he has a pen attached to him\n",
    "terry.forward(100)   # move terry forward 100 units\n",
    "terry.left(90)       # turn terry left 90 degrees\n",
    "terry.forward(100)   # move terry forward 100 units again"
   ]
  },
  {
   "cell_type": "markdown",
   "id": "7c4ddc05",
   "metadata": {},
   "source": [
    "We'll explain the meaning of the lines above in later sheets. When a cell has multiple lines of code, as above, Python will run the lines from top to bottom. "
   ]
  },
  {
   "cell_type": "markdown",
   "id": "ba9d5ba0",
   "metadata": {},
   "source": [
    "### TeachingHub etiquette\n",
    "\n",
    "If you are running your Notebooks on the TeachingHub (i.e. running them in your web browser, through the link on Moodle), please be mindful of the fact that each Notebook adds some load to the server. Please don't leave many Notebooks open at once, and after you finish with a Notebook, use \"Close and Halt\" in the File menu to free up the resources (making sure to save any changes first!). At the end of your session, please logout via the button in the top-right corner."
   ]
  },
  {
   "cell_type": "code",
   "execution_count": null,
   "id": "2c4c7ff8",
   "metadata": {},
   "outputs": [],
   "source": []
  }
 ],
 "metadata": {
  "kernelspec": {
   "display_name": "Python 3 (ipykernel)",
   "language": "python",
   "name": "python3"
  },
  "language_info": {
   "codemirror_mode": {
    "name": "ipython",
    "version": 3
   },
   "file_extension": ".py",
   "mimetype": "text/x-python",
   "name": "python",
   "nbconvert_exporter": "python",
   "pygments_lexer": "ipython3",
   "version": "3.9.12"
  },
  "toc": {
   "base_numbering": 1,
   "nav_menu": {},
   "number_sections": false,
   "sideBar": true,
   "skip_h1_title": false,
   "title_cell": "Table of Contents",
   "title_sidebar": "Contents",
   "toc_cell": false,
   "toc_position": {},
   "toc_section_display": true,
   "toc_window_display": true
  },
  "varInspector": {
   "cols": {
    "lenName": 16,
    "lenType": 16,
    "lenVar": 40
   },
   "kernels_config": {
    "python": {
     "delete_cmd_postfix": "",
     "delete_cmd_prefix": "del ",
     "library": "var_list.py",
     "varRefreshCmd": "print(var_dic_list())"
    },
    "r": {
     "delete_cmd_postfix": ") ",
     "delete_cmd_prefix": "rm(",
     "library": "var_list.r",
     "varRefreshCmd": "cat(var_dic_list()) "
    }
   },
   "types_to_exclude": [
    "module",
    "function",
    "builtin_function_or_method",
    "instance",
    "_Feature"
   ],
   "window_display": false
  }
 },
 "nbformat": 4,
 "nbformat_minor": 5
}
