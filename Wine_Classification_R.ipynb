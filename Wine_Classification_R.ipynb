{
 "cells": [
  {
   "attachments": {},
   "cell_type": "markdown",
   "metadata": {},
   "source": [
    "# ID5059 2022-23: Lecture 2\n",
    "\n",
    "## Acknowledgments\n",
    "\n",
    "This notebook is based on:\n",
    "\n",
    "* the corresponding lecture by [Tom Kelsey](https://www.st-andrews.ac.uk/computer-science/people/twk/) in the 2020-21 delivery of ID5059\n",
    "* [Predicting wine quality using Random Forests](https://www.r-bloggers.com/2016/02/predicting-wine-quality-using-random-forests/) by Teja Kodali"
   ]
  },
  {
   "attachments": {},
   "cell_type": "markdown",
   "metadata": {},
   "source": [
    "## Setup\n",
    "\n",
    "See [Software_Setup.ipynb]() for details of options for running Jupyter notebooks.\n",
    "\n",
    "To run R in a VS Code Jupyter notebook, first install R if necessary.\n",
    "\n",
    "Then inside an R shell, run:\n",
    "\n",
    "```R\n",
    "install.packages('IRkernel')\n",
    "IRkernel::installspec()\n",
    "```\n",
    "\n",
    "Restart VS Code and select R from the kernel list."
   ]
  },
  {
   "attachments": {},
   "cell_type": "markdown",
   "metadata": {},
   "source": [
    "## Classification\n",
    "\n",
    "Download data and read into a table."
   ]
  },
  {
   "cell_type": "code",
   "execution_count": null,
   "metadata": {
    "vscode": {
     "languageId": "r"
    }
   },
   "outputs": [],
   "source": [
    "url <- 'https://archive.ics.uci.edu/ml/machine-learning-databases/wine-quality/winequality-white.csv'\n",
    "wine <- read.table(url,fill = TRUE , header = TRUE, sep = \";\" )\n",
    "head(wine)"
   ]
  },
  {
   "attachments": {},
   "cell_type": "markdown",
   "metadata": {},
   "source": [
    "Define some utility functions."
   ]
  },
  {
   "cell_type": "code",
   "execution_count": null,
   "metadata": {
    "vscode": {
     "languageId": "r"
    }
   },
   "outputs": [],
   "source": [
    "quality_categories = sort(c('low', 'normal', 'high'))\n",
    "\n",
    "quality_to_category <- function(quality) {\n",
    "    return (ifelse(quality < 6, 'low', ifelse(quality == 6, 'normal', 'high')))\n",
    "}\n",
    "\n",
    "classification_accuracy <- function(confusion_matrix, number_of_test_cases) {\n",
    "\n",
    "    # Sum the elements on the diagonal, which are the correct classifications.\n",
    "    correct_predictions <- 0\n",
    "    for (j in 1 : nrow(confusion_matrix)) {\n",
    "        correct_predictions <- correct_predictions + confusion_matrix[j, j]\n",
    "    }\n",
    "\n",
    "    return (sprintf(\"%1.f%%\", (correct_predictions / number_of_test_cases) * 100))\n",
    "}\n",
    "\n",
    "index_of_highest_value <- function(vector) {\n",
    "\n",
    "    index = 1\n",
    "    highest = vector[index]\n",
    "\n",
    "    for (i in 2 : length(vector)) {\n",
    "        if (vector[i] > highest) {\n",
    "            index = i\n",
    "            highest = vector[i]\n",
    "        }\n",
    "    }\n",
    "\n",
    "    return (index)\n",
    "}\n",
    "\n",
    "highest_probability_label = function(probability_of_high, probability_of_low, probability_of_normal) {\n",
    "\n",
    "    return (quality_categories[index_of_highest_value(c(probability_of_high, probability_of_low, probability_of_normal))])\n",
    "}\n",
    "\n",
    "scale_to_zero_one <- function(x) { (x - min(x)) / (max(x) - min(x)) }"
   ]
  },
  {
   "attachments": {},
   "cell_type": "markdown",
   "metadata": {},
   "source": [
    "Check the distribution of the quality attribute."
   ]
  },
  {
   "cell_type": "code",
   "execution_count": null,
   "metadata": {
    "vscode": {
     "languageId": "r"
    }
   },
   "outputs": [],
   "source": [
    "barplot(table(wine$quality))"
   ]
  },
  {
   "attachments": {},
   "cell_type": "markdown",
   "metadata": {},
   "source": [
    "Create three (arbitrary) categories for wine quality, and check the distribution of the new category attribute."
   ]
  },
  {
   "cell_type": "code",
   "execution_count": null,
   "metadata": {
    "vscode": {
     "languageId": "r"
    }
   },
   "outputs": [],
   "source": [
    "wine$quality_category <- quality_to_category(wine$quality)\n",
    "wine$quality_category <- as.factor(wine$quality_category)\n",
    "\n",
    "head(wine)\n",
    "barplot(table(wine$quality_category))"
   ]
  },
  {
   "attachments": {},
   "cell_type": "markdown",
   "metadata": {},
   "source": [
    "Split 60-40 into training and test data."
   ]
  },
  {
   "cell_type": "code",
   "execution_count": null,
   "metadata": {
    "vscode": {
     "languageId": "r"
    }
   },
   "outputs": [],
   "source": [
    "# Set a seed for the random generator to make behaviour deterministic, i.e. we always get the same result.\n",
    "set.seed(123)\n",
    "\n",
    "# Generate random indices for the training set.\n",
    "samp <- sample(nrow(wine), 0.6 * nrow(wine))\n",
    "\n",
    "# Extract the training and test sets.\n",
    "train <- wine[samp, ]\n",
    "test <- wine[-samp, ]"
   ]
  },
  {
   "attachments": {},
   "cell_type": "markdown",
   "metadata": {},
   "source": [
    "### Simple regression"
   ]
  },
  {
   "cell_type": "code",
   "execution_count": null,
   "metadata": {
    "vscode": {
     "languageId": "r"
    }
   },
   "outputs": [],
   "source": [
    "library(gam)\n",
    "\n",
    "# Reset the quality category column to use ordered factors.\n",
    "wine$quality_category <- quality_to_category(wine$quality)\n",
    "wine$quality_category <- factor(wine$quality_category, levels = c('low', 'normal', 'high'), ordered = TRUE)\n",
    "\n",
    "# Train a simple regression model predicting 'quality' from all other variables excluding 'quality_category'.\n",
    "simple_regression_model <- gam(quality ~ . -quality_category, data = train)\n",
    "\n",
    "# Summarise the model. The Anova table near the end shows which attributes are significantly correlated with quality.\n",
    "summary(simple_regression_model)"
   ]
  },
  {
   "attachments": {},
   "cell_type": "markdown",
   "metadata": {},
   "source": [
    "Test on the test data and calculate the confusion matrix, using the category corresponding to predicted quality. The categories are in alphabetical order. There's no third row, since none of the quality predictions were exactly equal to 6, and so no predicted 'normal' categories."
   ]
  },
  {
   "cell_type": "code",
   "execution_count": null,
   "metadata": {
    "vscode": {
     "languageId": "r"
    }
   },
   "outputs": [],
   "source": [
    "predictions <- predict(simple_regression_model, test)\n",
    "\n",
    "predicted_categories <- vector(length = nrow(test))\n",
    "\n",
    "for (j in 1 : nrow(test)) {\n",
    "\n",
    "\tpredicted_quality <- predictions[j]\n",
    "\tpredicted_categories[j] <- quality_to_category(predicted_quality)\n",
    "}\n",
    "\n",
    "simple_regression_confusion_matrix <- table(predicted_categories, test$quality_category)\n",
    "simple_regression_confusion_matrix"
   ]
  },
  {
   "attachments": {},
   "cell_type": "markdown",
   "metadata": {},
   "source": [
    "Calculate the accuracy."
   ]
  },
  {
   "cell_type": "code",
   "execution_count": null,
   "metadata": {
    "vscode": {
     "languageId": "r"
    }
   },
   "outputs": [],
   "source": [
    "classification_accuracy(simple_regression_confusion_matrix, nrow(test))"
   ]
  },
  {
   "attachments": {},
   "cell_type": "markdown",
   "metadata": {},
   "source": [
    "### Ordinal logistic regression"
   ]
  },
  {
   "cell_type": "code",
   "execution_count": null,
   "metadata": {
    "vscode": {
     "languageId": "r"
    }
   },
   "outputs": [],
   "source": [
    "library(MASS)\n",
    "\n",
    "# Reset the quality category column to use ordered factors.\n",
    "wine$quality_category <- quality_to_category(wine$quality)\n",
    "wine$quality_category <- factor(wine$quality_category, levels = c('low', 'normal', 'high'), ordered = TRUE)\n",
    "\n",
    "# Train an ordinal logistic regression model predicting 'quality_category' from all other variables excluding 'quality'.\n",
    "ordinal_logistic_regression_model <- polr(quality_category ~ . - quality, data = train)\n",
    "\n",
    "# Summarise the model.\n",
    "summary(ordinal_logistic_regression_model)"
   ]
  },
  {
   "attachments": {},
   "cell_type": "markdown",
   "metadata": {},
   "source": [
    "Test on the test data and calculate the confusion matrix."
   ]
  },
  {
   "cell_type": "code",
   "execution_count": null,
   "metadata": {
    "vscode": {
     "languageId": "r"
    }
   },
   "outputs": [],
   "source": [
    "predictions <- predict(ordinal_logistic_regression_model, test, type = 'probs')\n",
    "predicted_categories <- vector(length = nrow(test))\n",
    "\n",
    "for (j in 1 : nrow(test)) {\n",
    "\n",
    "\t# The probabilities of the various categories, assuming in alphabetical category order.\n",
    "\tprobabilities <- predictions[j,]\n",
    "\n",
    "\t# Record the prediction based on the highest probability.\n",
    "\tpredicted_categories[j] = quality_categories[index_of_highest_value(probabilities)]\n",
    "}\n",
    "\n",
    "ordinal_logistic_regression_confusion_matrix <- table(predicted_categories, test$quality_category)\n",
    "ordinal_logistic_regression_confusion_matrix"
   ]
  },
  {
   "attachments": {},
   "cell_type": "markdown",
   "metadata": {},
   "source": [
    "Calculate the accuracy."
   ]
  },
  {
   "cell_type": "code",
   "execution_count": null,
   "metadata": {
    "vscode": {
     "languageId": "r"
    }
   },
   "outputs": [],
   "source": [
    "classification_accuracy(ordinal_logistic_regression_confusion_matrix, nrow(test))"
   ]
  },
  {
   "attachments": {},
   "cell_type": "markdown",
   "metadata": {},
   "source": [
    "### Random forest"
   ]
  },
  {
   "cell_type": "code",
   "execution_count": null,
   "metadata": {
    "vscode": {
     "languageId": "r"
    }
   },
   "outputs": [],
   "source": [
    "library(randomForest)\n",
    "\n",
    "# Reset the quality category column to use unordered factors.\n",
    "wine$quality_category <- quality_to_category(wine$quality)\n",
    "wine$quality_category <- as.factor(wine$quality_category)\n",
    "\n",
    "# Train a random forest model predicting 'quality_category' from all other variables excluding 'quality'.\n",
    "random_forest_model <- randomForest(quality_category ~ . - quality, data = train)\n",
    "\n",
    "# Summarise the model.\n",
    "summary(random_forest_model)"
   ]
  },
  {
   "attachments": {},
   "cell_type": "markdown",
   "metadata": {},
   "source": [
    "Test on the test data and calculate the confusion matrix."
   ]
  },
  {
   "cell_type": "code",
   "execution_count": null,
   "metadata": {
    "vscode": {
     "languageId": "r"
    }
   },
   "outputs": [],
   "source": [
    "# The predictions are 'quality_category' labels.\n",
    "predictions <- predict(random_forest_model, test)\n",
    "\n",
    "random_forest_confusion_matrix <- table(predictions, test$quality_category)\n",
    "random_forest_confusion_matrix"
   ]
  },
  {
   "attachments": {},
   "cell_type": "markdown",
   "metadata": {},
   "source": [
    "Calculate the accuracy."
   ]
  },
  {
   "cell_type": "code",
   "execution_count": null,
   "metadata": {
    "vscode": {
     "languageId": "r"
    }
   },
   "outputs": [],
   "source": [
    "classification_accuracy(random_forest_confusion_matrix, nrow(test))"
   ]
  },
  {
   "attachments": {},
   "cell_type": "markdown",
   "metadata": {},
   "source": [
    "### Gradient boost random forest"
   ]
  },
  {
   "cell_type": "code",
   "execution_count": null,
   "metadata": {
    "vscode": {
     "languageId": "r"
    }
   },
   "outputs": [],
   "source": [
    "library(caret)\n",
    "library(Ecdat)\n",
    "library(gbm)\n",
    "\n",
    "# Explore parameter combinations for random forest learning.\n",
    "# This can take several minutes to execute.\n",
    "\n",
    "# Reset the quality category column to use unordered factors.\n",
    "wine$quality_category <- quality_to_category(wine$quality)\n",
    "wine$quality_category <- as.factor(wine$quality_category)\n",
    "\n",
    "control <- trainControl(method = \"CV\", number = 10)\n",
    "\n",
    "grid <- expand.grid(\n",
    "\t.n.trees = seq(200, 500, by = 200),\n",
    "\t.interaction.depth = seq(1, 3, by = 2),\n",
    "\t.shrinkage = seq(.01, .09, by = .04),\n",
    "    .n.minobsinnode = seq(1, 5, by = 2))\n",
    "\n",
    "gbm_exploration <- train(quality_category ~ . - quality, data = train, method = 'gbm', trControl = control, tuneGrid = grid)\n",
    "gbm_exploration\n",
    "\n",
    "# The end of the output shows recommended parameter values."
   ]
  },
  {
   "attachments": {},
   "cell_type": "markdown",
   "metadata": {},
   "source": [
    "Plug in the parameter values output by the previous cell."
   ]
  },
  {
   "cell_type": "code",
   "execution_count": null,
   "metadata": {
    "vscode": {
     "languageId": "r"
    }
   },
   "outputs": [],
   "source": [
    "# Train a generalized boosted model predicting 'quality_category' from all other variables excluding 'quality'.\n",
    "\n",
    "generalized_boosted_model <- gbm(quality_category ~ . - quality, data = train,\n",
    "\tn.trees = 400, interaction.depth = 3, shrinkage = .09, n.minobsinnode = 3)\n",
    "\n",
    "# Summarise the model.\n",
    "summary(generalized_boosted_model)"
   ]
  },
  {
   "attachments": {},
   "cell_type": "markdown",
   "metadata": {},
   "source": [
    "Test on the test data and calculate the confusion matrix."
   ]
  },
  {
   "cell_type": "code",
   "execution_count": null,
   "metadata": {
    "vscode": {
     "languageId": "r"
    }
   },
   "outputs": [],
   "source": [
    "# The predictions are probabilities.\n",
    "predictions <- predict(generalized_boosted_model, newdata = test, type = 'response', n.trees = 400)\n",
    "\n",
    "predicted_categories <- vector(length = nrow(test))\n",
    "\n",
    "for (i in 1 : nrow(test)) {\n",
    "\n",
    "\t# Record the prediction based on the highest probability.\n",
    "\tprobability_of_high =   predictions[i]\n",
    "\tprobability_of_low =    predictions[i + nrow(test)]\n",
    "\tprobability_of_normal = predictions[i + 2 * nrow(test)]\n",
    "\n",
    "\tpredicted_categories[i] <- highest_probability_label(probability_of_high, probability_of_low, probability_of_normal)\n",
    "}\n",
    "\n",
    "generalized_boosted_model_confusion_matrix <- table(predicted_categories, test$quality_category)\n",
    "generalized_boosted_model_confusion_matrix"
   ]
  },
  {
   "attachments": {},
   "cell_type": "markdown",
   "metadata": {},
   "source": [
    "Calculate the accuracy."
   ]
  },
  {
   "cell_type": "code",
   "execution_count": null,
   "metadata": {
    "vscode": {
     "languageId": "r"
    }
   },
   "outputs": [],
   "source": [
    "classification_accuracy(generalized_boosted_model_confusion_matrix, nrow(test))"
   ]
  },
  {
   "attachments": {},
   "cell_type": "markdown",
   "metadata": {},
   "source": [
    "### Neural net"
   ]
  },
  {
   "cell_type": "code",
   "execution_count": null,
   "metadata": {
    "vscode": {
     "languageId": "r"
    }
   },
   "outputs": [],
   "source": [
    "library(nnet)\n",
    "\n",
    "# Reset the quality category column to use unordered factors.\n",
    "wine$quality_category <- quality_to_category(wine$quality)\n",
    "wine$quality_category <- as.factor(wine$quality_category)\n",
    "\n",
    "wine1 <- data.frame(wine)\n",
    "\n",
    "# Scale predictor values to [0,1] range (this helps convergence when learning weights).\n",
    "wine1[, 1:11] <- data.frame(lapply(wine1[, 1:11], scale_to_zero_one))\n",
    "\n",
    "# Generate random indices for the new training set.\n",
    "samp1 <- sample(nrow(wine1), 0.6 * nrow(wine1))\n",
    "\n",
    "# Extract the training and test sets.\n",
    "train1 <- wine1[samp, ]\n",
    "test1 <- wine1[-samp, ]\n",
    "\n",
    "# Train a neural net model predicting 'quality_category' from all other variables excluding 'quality'.\n",
    "# Use a one hidden layer NN with ten hidden nodes.\n",
    "neural_net_model <- nnet(quality_category ~ . -quality, data = wine1, subset = row.names(train1),\n",
    "  \tsize = 10, decay = 1.0e-5, maxit = 1000)\n",
    "\n",
    "# Summarise the model.\n",
    "summary(neural_net_model)"
   ]
  },
  {
   "attachments": {},
   "cell_type": "markdown",
   "metadata": {},
   "source": [
    "Test on the test data and calculate the confusion matrix."
   ]
  },
  {
   "cell_type": "code",
   "execution_count": null,
   "metadata": {
    "vscode": {
     "languageId": "r"
    }
   },
   "outputs": [],
   "source": [
    "# The predictions are 'quality_category' labels.\n",
    "predictions <- predict(neural_net_model, test1, type=\"class\")\n",
    "\n",
    "neural_net_confusion_matrix <- table(predictions, test1$quality_category)\n",
    "neural_net_confusion_matrix"
   ]
  },
  {
   "attachments": {},
   "cell_type": "markdown",
   "metadata": {},
   "source": [
    "Calculate the accuracy."
   ]
  },
  {
   "cell_type": "code",
   "execution_count": null,
   "metadata": {
    "vscode": {
     "languageId": "r"
    }
   },
   "outputs": [],
   "source": [
    "classification_accuracy(neural_net_confusion_matrix, nrow(test1))"
   ]
  },
  {
   "attachments": {},
   "cell_type": "markdown",
   "metadata": {},
   "source": [
    "### Neural net 2\n",
    "\n",
    "Try a different neural net classifer."
   ]
  },
  {
   "cell_type": "code",
   "execution_count": null,
   "metadata": {
    "vscode": {
     "languageId": "r"
    }
   },
   "outputs": [],
   "source": [
    "library(RSNNS)\n",
    "\n",
    "# Reset the quality category column to use unordered factors.\n",
    "wine$quality_category <- quality_to_category(wine$quality)\n",
    "wine$quality_category <- as.factor(wine$quality_category)\n",
    "\n",
    "wine2 <- data.frame(wine)\n",
    "\n",
    "wine_values <- wine2[,1:11]\n",
    "wine_targets <- decodeClassLabels(wine2$quality_category)\n",
    "\n",
    "wine2 <- splitForTrainingAndTest(wine_values, wine_targets, ratio = 0.15)\n",
    "wine2 <- normTrainingAndTestSet(wine2)\n",
    "\n",
    "# Train a neural net model predicting 'quality_category' from all other variables excluding 'quality'.\n",
    "# Use 5 hidden layers, each with 7 nodes.\n",
    "neural_net_model2 <- mlp(wine2$inputsTrain, wine2$targetsTrain, \n",
    "\tsize = c(5,7), \n",
    "\tlearnFunc = \"Std_Backpropagation\", learnFuncParams = c(0.1), \n",
    "\thiddenActFunc = \"Act_Logistic\",\n",
    "    maxit = 1000, inputsTest = wine2$inputsTest, targetsTest = wine2$targetsTest)"
   ]
  },
  {
   "attachments": {},
   "cell_type": "markdown",
   "metadata": {},
   "source": [
    "Test on the test data and calculate the confusion matrix."
   ]
  },
  {
   "cell_type": "code",
   "execution_count": null,
   "metadata": {
    "vscode": {
     "languageId": "r"
    }
   },
   "outputs": [],
   "source": [
    "# The predictions are probabilities.\n",
    "predictions <- predict(neural_net_model2, wine2$inputsTest)\n",
    "\n",
    "# Use confusion matrix function from RSNNS.\n",
    "neural_net_confusion_matrix2 <- confusionMatrix(wine2$targetsTest, predictions)\n",
    "neural_net_confusion_matrix2"
   ]
  },
  {
   "cell_type": "code",
   "execution_count": null,
   "metadata": {
    "vscode": {
     "languageId": "r"
    }
   },
   "outputs": [],
   "source": [
    "classification_accuracy(neural_net_confusion_matrix2, nrow(wine2$targetsTest))"
   ]
  },
  {
   "attachments": {},
   "cell_type": "markdown",
   "metadata": {},
   "source": [
    "## Conclusions\n",
    "\n",
    "Results from one run:\n",
    "\n",
    "* simple regression: 46%\n",
    "* ordinal logistic regression: 43%\n",
    "* random forest: 69%\n",
    "* gradient boost random forest: 64%\n",
    "* neural net 1: 57%\n",
    "* neural net 2: 55%"
   ]
  }
 ],
 "metadata": {
  "kernelspec": {
   "display_name": "R",
   "language": "R",
   "name": "ir"
  },
  "language_info": {
   "codemirror_mode": "r",
   "file_extension": ".r",
   "mimetype": "text/x-r-source",
   "name": "R",
   "pygments_lexer": "r",
   "version": "4.2.0"
  },
  "orig_nbformat": 4,
  "vscode": {
   "interpreter": {
    "hash": "aee8b7b246df8f9039afb4144a1f6fd8d2ca17a180786b69acc140d282b71a49"
   }
  }
 },
 "nbformat": 4,
 "nbformat_minor": 2
}
