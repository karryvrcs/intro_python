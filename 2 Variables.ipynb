{
 "cells": [
  {
   "cell_type": "markdown",
   "id": "0db9dce4",
   "metadata": {
    "nbgrader": {
     "grade": false,
     "grade_id": "cell-d53245a1960f25c6",
     "locked": true,
     "schema_version": 3,
     "solution": false,
     "task": false
    }
   },
   "source": [
    "# Variables\n",
    "\n",
    "In earlier sheets, we saw that Python can be used as a calculator. One feature that distinguishes it from a (basic) calculator is the ability to remember values in ***variables***. \n",
    "\n",
    "Suppose we are going through a recipe book which is written using imperial units, and would like to convert all of the measurements into metric units. One of the conversions we would have to do is to replace pounds with grams. In the UK, one pound is precisely defined to be 0.45359237 kg. It would be annoying if we had to type in that number every time we do a conversion, and would likely lead to mistakes.\n",
    "\n",
    "This is where variables come in. We can assign the value of $0.45359237$ to a variable, then use this variable in place of the number."
   ]
  },
  {
   "cell_type": "code",
   "execution_count": 1,
   "id": "14a08683",
   "metadata": {},
   "outputs": [],
   "source": [
    "pounds_to_kg = 0.45359237"
   ]
  },
  {
   "cell_type": "markdown",
   "id": "8e109310",
   "metadata": {
    "nbgrader": {
     "grade": false,
     "grade_id": "cell-31f7ddb3efc37efe",
     "locked": true,
     "schema_version": 3,
     "solution": false,
     "task": false
    }
   },
   "source": [
    "The `=` in the above cell means that we are ***assigning*** the value $0.45359237$ to the variable `pounds_to_kg`.\n",
    "\n",
    "You should not expect Python variables to behave exactly the same way as mathematical variables, though they are similar concepts. One way of thinking about Python variables are that they are just \"labels\" for an object. Here we have made a label called `pounds_to_kg`, which is attached to a single number. Whenever we use the name of a variable in an expression, Python replaces it with whatever object the label is attached to.\n",
    "\n",
    "We can output the contents of a variable by just writing its name as the last thing in a cell:"
   ]
  },
  {
   "cell_type": "code",
   "execution_count": 2,
   "id": "52e8ebb1",
   "metadata": {},
   "outputs": [
    {
     "data": {
      "text/plain": [
       "0.45359237"
      ]
     },
     "execution_count": 2,
     "metadata": {},
     "output_type": "execute_result"
    }
   ],
   "source": [
    "pounds_to_kg"
   ]
  },
  {
   "cell_type": "markdown",
   "id": "74bf3b5f",
   "metadata": {
    "nbgrader": {
     "grade": false,
     "grade_id": "cell-cabd98468fa06f2a",
     "locked": true,
     "schema_version": 3,
     "solution": false,
     "task": false
    }
   },
   "source": [
    "Now if the recipe book calls for $3.6$ pounds of flour, we can easily calculate the number of kilograms:"
   ]
  },
  {
   "cell_type": "code",
   "execution_count": 3,
   "id": "4717057b",
   "metadata": {},
   "outputs": [
    {
     "data": {
      "text/plain": [
       "1.632932532"
      ]
     },
     "execution_count": 3,
     "metadata": {},
     "output_type": "execute_result"
    }
   ],
   "source": [
    "flour_in_pounds = 3.6\n",
    "\n",
    "flour_in_kg = pounds_to_kg * flour_in_pounds\n",
    "\n",
    "flour_in_kg"
   ]
  },
  {
   "cell_type": "markdown",
   "id": "2ff2e0de",
   "metadata": {
    "nbgrader": {
     "grade": false,
     "grade_id": "cell-cf8ea1ca1cb8f7f4",
     "locked": true,
     "schema_version": 3,
     "solution": false,
     "task": false
    }
   },
   "source": [
    "## Reassigning variables\n",
    "\n",
    "Continuing the analogy between labels and variables, we can replace the value of a variable, much like attaching the label to a new object.\n",
    "\n",
    "For example, if our recipe book the recipe book was written in France during the 18th century, we would probably want to use a different conversion factor for the pound (corresponding to the *livre de Paris*):"
   ]
  },
  {
   "cell_type": "code",
   "execution_count": 4,
   "id": "29088a77",
   "metadata": {},
   "outputs": [],
   "source": [
    "pounds_to_kg = 0.4895"
   ]
  },
  {
   "cell_type": "markdown",
   "id": "b3efcf89",
   "metadata": {},
   "source": [
    "In some programming languages, changing `pounds_to_kg` would change any other variables that were initially computed using the variable `pounds_to_kg`. This is **not the case** in Python:"
   ]
  },
  {
   "cell_type": "code",
   "execution_count": 5,
   "id": "6eeab5c9",
   "metadata": {},
   "outputs": [
    {
     "data": {
      "text/plain": [
       "1.632932532"
      ]
     },
     "execution_count": 5,
     "metadata": {},
     "output_type": "execute_result"
    }
   ],
   "source": [
    "flour_in_kg"
   ]
  },
  {
   "cell_type": "markdown",
   "id": "f4e30670",
   "metadata": {},
   "source": [
    "This is still the same value of `flour_in_kg` that we saw above!"
   ]
  },
  {
   "cell_type": "markdown",
   "id": "a7c376cf",
   "metadata": {},
   "source": [
    "The ability to re-assign variables can lead to some code which looks very strange from a mathematical point of view!"
   ]
  },
  {
   "cell_type": "code",
   "execution_count": 6,
   "id": "5fd85240",
   "metadata": {},
   "outputs": [
    {
     "data": {
      "text/plain": [
       "9"
      ]
     },
     "execution_count": 6,
     "metadata": {},
     "output_type": "execute_result"
    }
   ],
   "source": [
    "a = 2\n",
    "a = a * 4 + 1\n",
    "\n",
    "a"
   ]
  },
  {
   "cell_type": "markdown",
   "id": "1e12b24d",
   "metadata": {},
   "source": [
    "The line `a = a * 4 + 1` looks mathematically strange, but it really just means \"re-assign `a` to mean the current value of `a`, multiplied by four, plus one\". Roughly speaking, the `a` on the left-hand side of the `=` means \"the label `a`\", and the `a` on the right-hand side means \"the thing labelled by `a`\"."
   ]
  },
  {
   "cell_type": "markdown",
   "id": "50588cc4",
   "metadata": {},
   "source": [
    "## Viewing variables\n",
    "\n",
    "The simplest way to find the investigate the value of a variable is to simply write it as the last line of a cell:"
   ]
  },
  {
   "cell_type": "code",
   "execution_count": 7,
   "id": "d35c63fd",
   "metadata": {},
   "outputs": [
    {
     "data": {
      "text/plain": [
       "9"
      ]
     },
     "execution_count": 7,
     "metadata": {},
     "output_type": "execute_result"
    }
   ],
   "source": [
    "a"
   ]
  },
  {
   "cell_type": "markdown",
   "id": "a306e8eb",
   "metadata": {},
   "source": [
    "You can also find a list of all of the variables you have defined by writing `%whos`. This might display a number of variables that exist \"in the background\" as well as the ones that you have explicitly defined."
   ]
  },
  {
   "cell_type": "code",
   "execution_count": 8,
   "id": "5cb9e84a",
   "metadata": {},
   "outputs": [
    {
     "name": "stdout",
     "output_type": "stream",
     "text": [
      "Variable          Type     Data/Info\n",
      "------------------------------------\n",
      "a                 int      9\n",
      "flour_in_kg       float    1.632932532\n",
      "flour_in_pounds   float    3.6\n",
      "pounds_to_kg      float    0.4895\n"
     ]
    }
   ],
   "source": [
    "%whos"
   ]
  },
  {
   "cell_type": "markdown",
   "id": "f9adfd1d",
   "metadata": {},
   "source": [
    "Finally, you can open the \"Variable Inspector\" if that extension is available, via a button on the menu bar which looks like a target symbol. It will appear as a floating window detailing all of your variables."
   ]
  },
  {
   "cell_type": "markdown",
   "id": "040635be",
   "metadata": {},
   "source": [
    "## Variable names\n",
    "\n",
    "There are three \"core\" rules for Python variable names. You don't need to memorise these - you will learn them quickly!\n",
    "\n",
    "1. Variable names can only contain letters, numbers, and underscores (`my_1st_variable`)\n",
    "2. Variable names **cannot** start with a number (no `1st_variable`)\n",
    "3. Variable names are case-sensitive (so `a` and `A` are different variable names)\n",
    "\n",
    "Beyond these, there are some useful conventions:\n",
    "\n",
    "1. For multi-word variable names, use underscores between the words (the `snake_case` convention), or start each word other than the first with a capital letter (the `camelCase` convention).\n",
    "2. Variable names should be descriptive: `number_of_loops` is better than `x`\n",
    "3. **Do not** use names that Python already uses, like `sum` or `list`. You can do so in some cases, but **do not**. Such names will be highlighted in green in your Jupyter Notebook."
   ]
  },
  {
   "cell_type": "markdown",
   "id": "e682a14f",
   "metadata": {},
   "source": [
    "## Optional: Multiple labels for one object\n",
    "\n",
    "There is another way that variables are like labels: one object can have multiple labels, and in Python multiple variables can refer to the same thing:"
   ]
  },
  {
   "cell_type": "code",
   "execution_count": 9,
   "id": "50859a43",
   "metadata": {},
   "outputs": [
    {
     "data": {
      "application/vnd.jupyter.widget-view+json": {
       "model_id": "197ff95769d9444388cb51f1c24a7e2a",
       "version_major": 2,
       "version_minor": 0
      },
      "text/plain": [
       "Turtle()"
      ]
     },
     "metadata": {},
     "output_type": "display_data"
    }
   ],
   "source": [
    "from mobilechelonian import Turtle\n",
    "\n",
    "terry = Turtle()   # make a turtle called terry\n",
    "tina  = terry      # now tina stores the same object as terry\n",
    "\n",
    "# calling the commands on either tina or terry will affect the same turtle,\n",
    "# because there is only one turtle!\n",
    "tina.forward(100)\n",
    "terry.left(45)\n",
    "tina.forward(100)"
   ]
  },
  {
   "cell_type": "markdown",
   "id": "e39cb24a",
   "metadata": {},
   "source": [
    "The real story is this: variables simply store an \"address\" which tells Python where to find the object in the computer's memory. In the example above, there is one turtle stored in memory, which does not even know about the variables `terry` or `tina`. Whenever we use the name `terry` or `tina` Python looks up this object using the address stored in `terry` or `tina` and performs the commands on that object."
   ]
  }
 ],
 "metadata": {
  "kernelspec": {
   "display_name": "Python 3 (ipykernel)",
   "language": "python",
   "name": "python3"
  },
  "language_info": {
   "codemirror_mode": {
    "name": "ipython",
    "version": 3
   },
   "file_extension": ".py",
   "mimetype": "text/x-python",
   "name": "python",
   "nbconvert_exporter": "python",
   "pygments_lexer": "ipython3",
   "version": "3.9.12"
  },
  "toc": {
   "base_numbering": 1,
   "nav_menu": {},
   "number_sections": false,
   "sideBar": true,
   "skip_h1_title": false,
   "title_cell": "Table of Contents",
   "title_sidebar": "Contents",
   "toc_cell": false,
   "toc_position": {},
   "toc_section_display": true,
   "toc_window_display": true
  },
  "varInspector": {
   "cols": {
    "lenName": 16,
    "lenType": 16,
    "lenVar": 40
   },
   "kernels_config": {
    "python": {
     "delete_cmd_postfix": "",
     "delete_cmd_prefix": "del ",
     "library": "var_list.py",
     "varRefreshCmd": "print(var_dic_list())"
    },
    "r": {
     "delete_cmd_postfix": ") ",
     "delete_cmd_prefix": "rm(",
     "library": "var_list.r",
     "varRefreshCmd": "cat(var_dic_list()) "
    }
   },
   "position": {
    "height": "287.855px",
    "left": "1310px",
    "right": "20px",
    "top": "120px",
    "width": "350px"
   },
   "types_to_exclude": [
    "module",
    "function",
    "builtin_function_or_method",
    "instance",
    "_Feature"
   ],
   "window_display": true
  }
 },
 "nbformat": 4,
 "nbformat_minor": 5
}
