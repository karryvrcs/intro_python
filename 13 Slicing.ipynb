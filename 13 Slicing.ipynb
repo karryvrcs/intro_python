{
 "cells": [
  {
   "cell_type": "markdown",
   "id": "5a7542d5",
   "metadata": {},
   "source": [
    "# Slicing\n",
    "\n",
    "## List slicing\n",
    "\n",
    "Given a list, it is often useful to be able to extract a sublist from it. One way of achieving this in Python is using ***slicing***. This \"cuts out\" a sublist of a given list. The notation for it is `list_to_slice[start:stop:step]`. We often leave out `step`, in which case consecutive elements will be selected.\n",
    "We can also leave out `start` or `stop`, in which case they will default to \"start of the list\" or \"end of the list\", and we can index from the end using negative numbers. \n",
    "\n",
    "Don't be too concerned with memorising the details - just remember it's possible, and often useful, and refer back to this when you need to!"
   ]
  },
  {
   "cell_type": "code",
   "execution_count": 1,
   "id": "7c021a23",
   "metadata": {},
   "outputs": [],
   "source": [
    "my_list = [0, 1, 2, 3, 4, 5]"
   ]
  },
  {
   "cell_type": "code",
   "execution_count": 2,
   "id": "a176b699",
   "metadata": {},
   "outputs": [
    {
     "data": {
      "text/plain": [
       "[0, 1]"
      ]
     },
     "execution_count": 2,
     "metadata": {},
     "output_type": "execute_result"
    }
   ],
   "source": [
    "# slice from the start of the list, stopping before the 3rd element\n",
    "my_list[0:2]"
   ]
  },
  {
   "cell_type": "code",
   "execution_count": 3,
   "id": "b43d6976",
   "metadata": {
    "run_control": {
     "marked": false
    }
   },
   "outputs": [
    {
     "data": {
      "text/plain": [
       "[1, 2, 3]"
      ]
     },
     "execution_count": 3,
     "metadata": {},
     "output_type": "execute_result"
    }
   ],
   "source": [
    "# slice from the second element, stopping before the fifth element\n",
    "my_list[1:4]"
   ]
  },
  {
   "cell_type": "code",
   "execution_count": 4,
   "id": "0db54fc0",
   "metadata": {},
   "outputs": [
    {
     "data": {
      "text/plain": [
       "[1, 2, 3, 4, 5]"
      ]
     },
     "execution_count": 4,
     "metadata": {},
     "output_type": "execute_result"
    }
   ],
   "source": [
    "# slice from the second element to the end\n",
    "my_list[1:]"
   ]
  },
  {
   "cell_type": "code",
   "execution_count": 5,
   "id": "451fc5f3",
   "metadata": {},
   "outputs": [
    {
     "data": {
      "text/plain": [
       "[0, 1, 2, 3]"
      ]
     },
     "execution_count": 5,
     "metadata": {},
     "output_type": "execute_result"
    }
   ],
   "source": [
    "# slice from the start of the list, stopping before the second-last element\n",
    "my_list[:-2]"
   ]
  },
  {
   "cell_type": "code",
   "execution_count": 6,
   "id": "78e02608",
   "metadata": {},
   "outputs": [
    {
     "data": {
      "text/plain": [
       "[0, 2, 4]"
      ]
     },
     "execution_count": 6,
     "metadata": {},
     "output_type": "execute_result"
    }
   ],
   "source": [
    "# slice from the start of the list, stopping before the last element,\n",
    "# and only taking every other element\n",
    "my_list[0:-1:2]"
   ]
  },
  {
   "cell_type": "markdown",
   "id": "58aeb38c",
   "metadata": {},
   "source": [
    "## Array slicing\n",
    "\n",
    "You may find that you slice arrays more often than lists; it is a very natural way of selecting a subset of some data. Suppose I have a 2-dimensional array, i.e. a matrix. "
   ]
  },
  {
   "cell_type": "code",
   "execution_count": 7,
   "id": "5188d015",
   "metadata": {},
   "outputs": [
    {
     "data": {
      "text/plain": [
       "array([[ 1,  2,  3,  4],\n",
       "       [ 5,  6,  7,  8],\n",
       "       [ 9, 10, 11, 12]])"
      ]
     },
     "execution_count": 7,
     "metadata": {},
     "output_type": "execute_result"
    }
   ],
   "source": [
    "import numpy as np\n",
    "\n",
    "mat = np.array([[1, 2, 3, 4], [5, 6, 7, 8], [9, 10, 11, 12]])\n",
    "\n",
    "mat"
   ]
  },
  {
   "cell_type": "markdown",
   "id": "fdbdb769",
   "metadata": {},
   "source": [
    "I want to select the sub-matrix with entries 6, 7, 10, and 11 from it. I can slice the rows of `mat`:"
   ]
  },
  {
   "cell_type": "code",
   "execution_count": 8,
   "id": "e96d1b3e",
   "metadata": {},
   "outputs": [
    {
     "data": {
      "text/plain": [
       "array([[ 5,  6,  7,  8],\n",
       "       [ 9, 10, 11, 12]])"
      ]
     },
     "execution_count": 8,
     "metadata": {},
     "output_type": "execute_result"
    }
   ],
   "source": [
    "mat[1:]"
   ]
  },
  {
   "cell_type": "markdown",
   "id": "5e458cc4",
   "metadata": {},
   "source": [
    "To slice the columns at the same time, just use a comma:"
   ]
  },
  {
   "cell_type": "code",
   "execution_count": 9,
   "id": "52890812",
   "metadata": {},
   "outputs": [
    {
     "data": {
      "text/plain": [
       "array([[ 6,  7],\n",
       "       [10, 11]])"
      ]
     },
     "execution_count": 9,
     "metadata": {},
     "output_type": "execute_result"
    }
   ],
   "source": [
    "# slice from the second row to the end, and from the second to the third column\n",
    "\n",
    "mat[1:, 1:3]"
   ]
  },
  {
   "cell_type": "markdown",
   "id": "bbc0b791",
   "metadata": {},
   "source": [
    "This idea extends to higher-dimensional arrays; just add extra commas. If you want to take the whole array in a particular dimension (not slice in that \"direction\"), use a `:` to select from the start to the finish.\n",
    "\n",
    "Here's an example using a 3-dimensional array, which you can think of as a cuboid of numbers, where we select the second row, all columns, and last two \"depths\" using slicing. Note that what is a \"row\", \"column\", or \"depth\" depends entirely on your perspective, and it would be more precise to say \"first/second/third dimension\"."
   ]
  },
  {
   "cell_type": "code",
   "execution_count": 10,
   "id": "f4dfdfa3",
   "metadata": {
    "run_control": {
     "marked": false
    }
   },
   "outputs": [
    {
     "data": {
      "text/plain": [
       "array([[[ 0,  1,  2,  3,  4],\n",
       "        [ 5,  6,  7,  8,  9],\n",
       "        [10, 11, 12, 13, 14],\n",
       "        [15, 16, 17, 18, 19]],\n",
       "\n",
       "       [[20, 21, 22, 23, 24],\n",
       "        [25, 26, 27, 28, 29],\n",
       "        [30, 31, 32, 33, 34],\n",
       "        [35, 36, 37, 38, 39]],\n",
       "\n",
       "       [[40, 41, 42, 43, 44],\n",
       "        [45, 46, 47, 48, 49],\n",
       "        [50, 51, 52, 53, 54],\n",
       "        [55, 56, 57, 58, 59]]])"
      ]
     },
     "execution_count": 10,
     "metadata": {},
     "output_type": "execute_result"
    }
   ],
   "source": [
    "# make the cuboid contain 0 ... 59\n",
    "nums = np.array(range(60)) \n",
    "\n",
    "# \"reshape\" the list 0 .. 59 into a 3x4x5 cuboid\n",
    "cuboid = nums.reshape((3, 4, 5))\n",
    "\n",
    "# show the cuboid\n",
    "cuboid"
   ]
  },
  {
   "cell_type": "code",
   "execution_count": 11,
   "id": "baaddceb",
   "metadata": {},
   "outputs": [
    {
     "data": {
      "text/plain": [
       "array([[23, 24],\n",
       "       [28, 29],\n",
       "       [33, 34],\n",
       "       [38, 39]])"
      ]
     },
     "execution_count": 11,
     "metadata": {},
     "output_type": "execute_result"
    }
   ],
   "source": [
    "cuboid[1, :, -2:]"
   ]
  },
  {
   "cell_type": "markdown",
   "id": "036096a8",
   "metadata": {},
   "source": [
    "## Assignment with arrays and lists\n",
    "\n",
    "There is a minor complication when using the assignment operator, `=` with arrays and lists. If we attempt to define a new list (or array) using an old one we actually create a link to the original not a new copy. This means that changing the original effectively changes the new variable at the same time, for example"
   ]
  },
  {
   "cell_type": "code",
   "execution_count": 12,
   "id": "61dccbdd",
   "metadata": {},
   "outputs": [
    {
     "data": {
      "text/plain": [
       "[1, 6, 3, 4]"
      ]
     },
     "execution_count": 12,
     "metadata": {},
     "output_type": "execute_result"
    }
   ],
   "source": [
    "old = [1,2,3,4]\n",
    "\n",
    "new = old\n",
    "\n",
    "old[1] = 6\n",
    "\n",
    "new"
   ]
  },
  {
   "cell_type": "markdown",
   "id": "5fd7bdc9",
   "metadata": {},
   "source": [
    "Sometimes this is desirable but more often than not we wish to have a fresh copy which is not updated when the old variable is. To accomplish this we can assign using a full array slice which forces a copy of the data from old to new."
   ]
  },
  {
   "cell_type": "code",
   "execution_count": 13,
   "id": "1ba5c814",
   "metadata": {},
   "outputs": [
    {
     "data": {
      "text/plain": [
       "[1, 2, 3, 4]"
      ]
     },
     "execution_count": 13,
     "metadata": {},
     "output_type": "execute_result"
    }
   ],
   "source": [
    "old = [1,2,3,4]\n",
    "\n",
    "new[:] = old\n",
    "\n",
    "old[1] = 6\n",
    "\n",
    "new"
   ]
  }
 ],
 "metadata": {
  "kernelspec": {
   "display_name": "Python 3 (ipykernel)",
   "language": "python",
   "name": "python3"
  },
  "language_info": {
   "codemirror_mode": {
    "name": "ipython",
    "version": 3
   },
   "file_extension": ".py",
   "mimetype": "text/x-python",
   "name": "python",
   "nbconvert_exporter": "python",
   "pygments_lexer": "ipython3",
   "version": "3.9.12"
  },
  "toc": {
   "base_numbering": 1,
   "nav_menu": {},
   "number_sections": false,
   "sideBar": true,
   "skip_h1_title": false,
   "title_cell": "Table of Contents",
   "title_sidebar": "Contents",
   "toc_cell": false,
   "toc_position": {},
   "toc_section_display": true,
   "toc_window_display": true
  },
  "varInspector": {
   "cols": {
    "lenName": 16,
    "lenType": 16,
    "lenVar": 40
   },
   "kernels_config": {
    "python": {
     "delete_cmd_postfix": "",
     "delete_cmd_prefix": "del ",
     "library": "var_list.py",
     "varRefreshCmd": "print(var_dic_list())"
    },
    "r": {
     "delete_cmd_postfix": ") ",
     "delete_cmd_prefix": "rm(",
     "library": "var_list.r",
     "varRefreshCmd": "cat(var_dic_list()) "
    }
   },
   "types_to_exclude": [
    "module",
    "function",
    "builtin_function_or_method",
    "instance",
    "_Feature"
   ],
   "window_display": false
  }
 },
 "nbformat": 4,
 "nbformat_minor": 5
}
