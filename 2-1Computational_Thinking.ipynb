{
 "cells": [
  {
   "cell_type": "markdown",
   "id": "836dd073",
   "metadata": {},
   "source": [
    "# Introduction to Computational Thinking\n",
    "\n",
    "In this notebook we will discuss the **process** of solving mathematical problems aided by computation. This process is often referred to as [*computational thinking*](https://en.wikipedia.org/wiki/Computational_thinking) and is something we will be doing quite a lot during the course of this module.\n",
    "\n",
    "## When to compute?\n",
    "\n",
    "Our first step, when beginning to tackle a problem, is to decide if computation is the best approach or a helpful tactic. We are typically hoping to use computation to take some of the leg-work out of an otherwise lengthy, complex or difficult procedure. \n",
    "\n",
    "Consider the definite integral, \n",
    "\n",
    "$$ \n",
    "\\int_a^bf(x)dx, \n",
    "$$ \n",
    "in the case where $f(x)$ is not easily integrated directly, for instance $f(x)=\\frac{1}{\\ln(x)}.$ \n",
    "\n",
    "We might resort to [textbooks](https://openstax.org/books/calculus-volume-2/pages/a-table-of-integrals) in the first instance to check whether we are simply unaware of the required technique or result. We might then try an internet search; perhaps if we're smart we might use a tool like [Wolfram Alpha](https://www.wolframalpha.com/) to quickly find out about the integral. In some respects this is the beginning of our computaional thinking! \n",
    "\n",
    "The first step in our process might be\n",
    "\n",
    "* What is the problem and can computing help?\n",
    " \n",
    "## How to compute?\n",
    "\n",
    "Perhaps a simple search on Wolfram Alpha will give us enough information to solve our problem, however, having found out that this integral has no simple closed-form solution we might now wish to have our own method to compute its value, rather than relying on the [black-box](https://en.wikipedia.org/wiki/Black_box) of a software package. In this case we can make use of well known [numerical approximations](https://link-springer-com.ezproxy.st-andrews.ac.uk/chapter/10.1007/978-1-4842-4246-9_8) to approximate the integral by the composite midpoint rectangle rule, i.e. \n",
    "\n",
    "$$\n",
    "\\int_a^bf(x)dx \\approx h\\sum_{i=0}^{N-1}f\\left(\\frac{x_i+x_{i+1}}{2}\\right).\n",
    "$$\n",
    "\n",
    "It is perfectly possible to perform this midpoint rule calculation by hand, however it is rather onerous, especially if we want to take large $N$ and obtain an accurate result. So, having a bit of Python behind us, we can easily compute this sum *automatically* for various choices of $N,\\,a,\\,b$ or even a different $f(x)$ if we write our code well. For example:"
   ]
  },
  {
   "cell_type": "code",
   "execution_count": 1,
   "id": "14701785",
   "metadata": {},
   "outputs": [
    {
     "data": {
      "text/plain": [
       "1.1184247826314846"
      ]
     },
     "execution_count": 1,
     "metadata": {},
     "output_type": "execute_result"
    }
   ],
   "source": [
    "import numpy as np\n",
    "\n",
    "def f(x):\n",
    "    return 1/np.log(x)\n",
    "\n",
    "def midpoint_integral(a,b,N,f):\n",
    "    h = (b-a)/(N-1)\n",
    "    x = np.linspace(a,b,N)\n",
    "    \n",
    "    return h*np.sum(f(0.5*(x[0:-1]+x[1:])))\n",
    "\n",
    "midpoint_integral(2,3,1000,f)"
   ]
  },
  {
   "cell_type": "markdown",
   "id": "847cd0f3",
   "metadata": {},
   "source": [
    "In this case *why* we use a computer to obtain this result is abundantly clear; we need to speed up an otherwise routine lengthy set of calculations. \n",
    "\n",
    "However what if $f(x)=x^2?$ A computational solution to this problem would not be appropriate as the solution is easily written down with minimal effort.\n",
    "\n",
    "\n",
    "```{tip} \n",
    "*In some cases the automation of a set of calculations could be so advantageous so as to render the impossible possible. For instance, it would probably take centuries of person time to perform the calculations embedded within the simulation of the atmosphere to generate your weather forecast ([see here for more](https://www.metoffice.gov.uk/research/approach/modelling-systems)).*\n",
    "```\n",
    "\n",
    "This brings us to the next part of our *computational thinking* process\n",
    "\n",
    "* Express our problem in a form accessible to a computer (**abstraction**)\n",
    "* Implement the abstracted version of the problem in the required programming language or software package\n",
    "\n",
    "For the purposes of this module, the implementation step is in Python, but the skills you learn here are readily transferred to other languages (e.g. [Julia](https://julialang.org/), [R](https://www.r-project.org/), [C++](https://en.wikipedia.org/wiki/C%2B%2B)) or software packages (e.g. [MATLAB](https://uk.mathworks.com/products/matlab.html), [Octave](https://octave.org/index), [Mathematica](https://www.wolfram.com/mathematica/)).\n",
    "\n",
    "### Abstraction\n",
    "\n",
    "This abstratction is worthy of additional discussion. In the example above, the process of converting the integral into something accessible to the computer actually involved some [*numerical analysis*](https://encore.st-andrews.ac.uk/iii/encore/record/C__Rb2075268) when formulating the midpoint rule. A numerical approach is often the way to proceed when tackling problems in applied mathematics where a complex physical problem is being considered and an approximate solution is the only option (even though a solution might be formally approximate, it might be very good and highly useful!).\n",
    "\n",
    "In other areas of mathematical computing this *abstraction* step can contain the application of different techniques or methods in that area.\n",
    "\n",
    "In statistics, the problem is often one involving the analysis or modelling of real-world data which contains uncertainty and the abstraction might require the user to determine an appropriate model for the data which accounts for errors or stochasticity. Most of statistics can be considered part of an abstraction process to enable meaningful conclusions to be drawn from data.\n",
    "\n",
    "In pure mathematics, the abstraction step could involve the development of a new algorithm. For instance it might be possible to formulate a program to test, by brute force, or *prove by exhaustion*, all the cases in a finite problem. Computer-assisted proofs have solved problems in [graph theory](https://en.wikipedia.org/wiki/Four_color_theorem) and enabled ever larger [prime numbers to be computed](https://en.wikipedia.org/wiki/Great_Internet_Mersenne_Prime_Search).\n",
    "\n",
    "\n",
    "### Pseudocode\n",
    "\n",
    "To assist with abstraction when a complicated code is required we can make use of *pseudocode* to bridge the gap between the stated problem and the implemented program. Pseudocode is a representation of the algorithm or program written in (relatively) plain English but containing the important steps of logic and mathematical operations required. There are no hard-and-fast rules for creating pseudocode but it should **not** be code and it should be easily read by a human user.\n",
    "\n",
    "For the example of the midpoint rule above our pseudocode might have looked something like\n",
    "\n",
    "```{admonition} Pseudocode\n",
    "* Define $f(x)$\n",
    "* Set $a,\\,b$ and $N$\n",
    "* Compute $h = (b-a)/(N-1)$\n",
    "* Set a grid of points $x_0=a,\\, x_1=a+h,\\,\\dots,\\,x_N=b$\n",
    "* Sum over all subintervals $[x_{i-1},x_i]$ the function evaluated at its midpoint, $\\frac{x_{i-1}+x_i}{2}$ and multiply by h\n",
    "* Return the result\n",
    "```\n",
    "\n",
    "Pseudocode is useful for keeping track of the process when you come to the implementation step, and can serve as a useful form of documentation of what you have done.\n"
   ]
  },
  {
   "cell_type": "markdown",
   "id": "8f8cef5e",
   "metadata": {},
   "source": [
    "## What did we compute??\n",
    "\n",
    "It might be tempting to think once we complete step 3 above we are done, but we are not!\n",
    "\n",
    "The final part of the process is to interpret our results and consider:\n",
    "\n",
    "* Are the results correct? (*validate and debug*)\n",
    "\n",
    "This is arguably the checkpoint to determine whether you are really finished with the implementation step! In most cases there are simple ways by which we can check our code is producing the correct results. For instance with the integration example above, how can we be sure that `1.118...` is the right value? One approach might be to test the midpoint rule on an easily integrated function first to make sure our implementation is correct. For instance $g(x) = 3x^2$ then $\\int_2^3g(x)dx = 19.$\n"
   ]
  },
  {
   "cell_type": "code",
   "execution_count": 2,
   "id": "4fefb8b4",
   "metadata": {},
   "outputs": [
    {
     "data": {
      "text/plain": [
       "18.99999974949925"
      ]
     },
     "execution_count": 2,
     "metadata": {},
     "output_type": "execute_result"
    }
   ],
   "source": [
    "def g(x):\n",
    "    return 3*x**2\n",
    "\n",
    "midpoint_integral(2,3,1000,g)"
   ]
  },
  {
   "cell_type": "markdown",
   "id": "0700606d",
   "metadata": {},
   "source": [
    "\n",
    "### Debugging\n",
    "\n",
    "Suppose the result we obtained from our test was not as expected, or when the code was executed we recieve some warnings or errors. Fixing these issues is known as debugging. Often this is the most time consuming and involved part of the entire computational process and so developing good debugging skills is vital!\n",
    "\n",
    "In Chapter 1 in the [**Errors**](error_notebook) notebook we briefly discussed interpreting error messages. In general Python is quite good at showing you what has gone wrong and where, however when we are starting out we still need to build up our familiarity with the technical terms. A good idea, when an error is not obvious, is to check if there is a better description of the *exception* online, e.g. [here](https://docs.python.org/3/library/exceptions.html). \n",
    "\n",
    "Usually *syntax errors* and *runtime errors* are relatively easily fixed; once you understand the error message it often just requires some patience to figure out the fix. Harder, and requiring a little more skill to fix, are the so-called *semantic errors* which occur, not because your code fails to execute, but because the code fails to give the expected result. In such cases there are no error messages to help!\n",
    "\n",
    "In the [*Errors*](error_notebook) notebook we discussed how documenting your code is a useful way to keep track of what you expect your code to do. Part of your documentation might involve the pseudocode we discussed above. If you're still struggling to find your bug here are a few hints or techniques which might help.\n",
    "\n",
    "```{hint}\n",
    "\n",
    "**Simplify**\n",
    "\n",
    "The first thing to do is break your code up into smaller, simpler pieces and try to check each part. This is where having a modular program with good use of functions comes in handy (see section [Good practise part 2](good_practise2)). Sometimes it is helpful to create a *minimal example*, i.e. the smallest code snippet which contains the bug; this usually eliminates many possible sources of error. \n",
    "\n",
    "**Output**\n",
    "\n",
    "It's hard to tell what the internal workings of a program are doing unless we see some output, `print()` is your best friend when debugging! This is particularly useful if you have some iteration or a long calculation because you might be able to spot the point at which the code fails. Outputs don't have to be limited to just a `print` statement, in some cases a plot might help point out where the trouble lies.\n",
    "\n",
    "**Test**\n",
    "\n",
    "This comes back to the validation step referred to earlier. Throughout your debuggging step be on the lookout for simple tests you can put your code through to check it does what you need it to. Sometimes this will also mean thinking about how general your code is. As a simple example, suppose you defined a function involving a term  $x(1+1/x)$ but you didn't test it near zero so missed the singular behaviour. (Rewriting this line ($x+1$) will fix the issue!)\n",
    "\n",
    "\n",
    "**Ask for help**\n",
    "\n",
    "You will, inevitably, have to resort to a more experienced pair of eyes at some point during this module. This is (partly) what the lab sessions are for! We are on hand to help, debugging is a (fun?) part of the process but please don't struggle in silence. This advice carries over to programming outside of this module; seek help when you need it, the internet has some useful [places to ask for help](https://stackoverflow.com/).\n",
    "\n",
    "\n",
    "**Debugging tools**\n",
    "\n",
    "Eventually, it might become necessary (or welcomed!) to turn to some tools to help your bug search. A [*debugger*](https://docs.python.org/3/library/pdb.html) can help you trace through your code to find out where things are going wrong. This is likely a last resort in this module but if you end up doing a lot of programming in your job or on another module you might find a debugger makes hunting bugs a bit more efficient.\n",
    "```\n",
    "\n",
    "In subsequent sections we will touch on other tips and techniques to help reduce the time spent debugging.\n",
    "\n",
    "### Example\n",
    "Here is an example of a bug using the midpoint example, suppose we didn't have the answer above but had written the following code:"
   ]
  },
  {
   "cell_type": "code",
   "execution_count": 3,
   "id": "9cd1c5fe",
   "metadata": {},
   "outputs": [
    {
     "data": {
      "text/plain": [
       "0.6273186412227292"
      ]
     },
     "execution_count": 3,
     "metadata": {},
     "output_type": "execute_result"
    }
   ],
   "source": [
    "def midpoint_integral(a,b,N,f):\n",
    "    h = (b-a)/(N-1)\n",
    "    x = np.linspace(a,b,N)\n",
    "    \n",
    "    return h*np.sum(f((x[0:-1]+x[1:])))\n",
    "\n",
    "midpoint_integral(2,3,1000,f)"
   ]
  },
  {
   "cell_type": "markdown",
   "id": "20f0492c",
   "metadata": {},
   "source": [
    "On the face of it, there appears to be nothing wrong, we got a sensible looking answer, but is it correct? Well, we should really be diligent and test more thoroughly. Using the test involving $g(x)$ from above "
   ]
  },
  {
   "cell_type": "code",
   "execution_count": 4,
   "id": "f8bffb05",
   "metadata": {},
   "outputs": [
    {
     "data": {
      "text/plain": [
       "75.999998997997"
      ]
     },
     "execution_count": 4,
     "metadata": {},
     "output_type": "execute_result"
    }
   ],
   "source": [
    "midpoint_integral(2,3,1000,g)"
   ]
  },
  {
   "cell_type": "markdown",
   "id": "cc3f81e0",
   "metadata": {},
   "source": [
    "Oops, now we are sure there must be an error in the code; but where? \n",
    "\n",
    "Let's simplify and output. Here simplification might just mean taking a small $N,$ examining each component used and checking it is correct."
   ]
  },
  {
   "cell_type": "code",
   "execution_count": 5,
   "id": "18168d24",
   "metadata": {},
   "outputs": [
    {
     "name": "stdout",
     "output_type": "stream",
     "text": [
      "h= 0.2\n",
      "x= [2.  2.2 2.4 2.6 2.8 3. ]\n",
      "g(x) =  [ 52.92  63.48  75.    87.48 100.92]\n"
     ]
    }
   ],
   "source": [
    "a = 2\n",
    "b = 3\n",
    "N = 6  # choose a smaller value to make outputs easier to read\n",
    "\n",
    "h = (b-a)/(N-1)\n",
    "x = np.linspace(a,b,N)\n",
    "\n",
    "print('h=',h)\n",
    "print('x=',x)\n",
    "print('g(x) = ',g((x[0:-1]+x[1:])))"
   ]
  },
  {
   "cell_type": "markdown",
   "id": "f61f137d",
   "metadata": {},
   "source": [
    "Examining this output carefully we can see that there's somthing off in the $g(x)$ function evaluations. We are testing with $g(x)=3x^2$ so the values we expect should roughly start at $g(2)=12$ and go to $g(3)=27.$\n",
    "\n",
    "Consulting the code again, and checking with the psuedocode, we can spot that we should be evaluating at *midpoints*; we missed a factor of $\\frac{1}{2}$! Before going back and fixing the original function we should first test that this fix will give the required result:"
   ]
  },
  {
   "cell_type": "code",
   "execution_count": 6,
   "id": "c6c2bbfb",
   "metadata": {},
   "outputs": [
    {
     "name": "stdout",
     "output_type": "stream",
     "text": [
      "midpoints =  [2.1 2.3 2.5 2.7 2.9]\n",
      "g(mid_x) =  [13.23 15.87 18.75 21.87 25.23]\n",
      "integral =  18.990000000000002\n"
     ]
    }
   ],
   "source": [
    "mid_x = 0.5*(x[0:-1]+x[1:])\n",
    "\n",
    "print('midpoints = ', mid_x)\n",
    "print('g(mid_x) = ', g(mid_x))\n",
    "print('integral = ', h*np.sum(g(mid_x)))"
   ]
  },
  {
   "cell_type": "markdown",
   "id": "61635b42",
   "metadata": {},
   "source": [
    "Notice that the introduction of the variable `mid_x` storing the midpoints might have made us less likely to make this error in the first place.\n",
    "\n",
    "---\n",
    "\n",
    "Once we are happy that our results are correct, the final part of the computational thinking process is to consider\n",
    "\n",
    "\n",
    "* What do the results tell us in the context of the original problem?\n",
    "\n",
    "We leave this part largely for other modules, or specific examples in the lab exercises or projects; really it comes down to using your computational skills and methods to present the results in the best possible way. This might mean creating plots, figures, tables, or exploring parameter values to draw more general conclusions.\n",
    "\n"
   ]
  },
  {
   "cell_type": "markdown",
   "id": "d7aae4c0",
   "metadata": {},
   "source": [
    "## Remember: \n",
    "\n",
    "\n",
    "```{admonition} The computational thinking process\n",
    "1. **D**ecide: What is the problem and can computing help?\n",
    "2. **A**bstract: Express the problem in a form accessible to a computer.\n",
    "3. **I**mplement: Implement the abstracted version of the problem (in Python).\n",
    "4. **V**alidate: Are the results correct? \n",
    "5. **I**nterpret: What do the results tell us in the context of the original problem?\n",
    "6. **D**one!\n",
    "```\n",
    "\n",
    "If you haven't already, now watch the video [*Computational thinking: bisection*]() to see a demonstration of the process in real-time for the bisection method."
   ]
  },
  {
   "cell_type": "code",
   "execution_count": null,
   "id": "8c5898a1",
   "metadata": {},
   "outputs": [],
   "source": []
  }
 ],
 "metadata": {
  "kernelspec": {
   "display_name": "Python 3 (ipykernel)",
   "language": "python",
   "name": "python3"
  },
  "language_info": {
   "codemirror_mode": {
    "name": "ipython",
    "version": 3
   },
   "file_extension": ".py",
   "mimetype": "text/x-python",
   "name": "python",
   "nbconvert_exporter": "python",
   "pygments_lexer": "ipython3",
   "version": "3.9.12"
  }
 },
 "nbformat": 4,
 "nbformat_minor": 5
}
