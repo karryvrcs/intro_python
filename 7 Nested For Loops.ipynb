{
 "cells": [
  {
   "cell_type": "markdown",
   "id": "4dfd68ef",
   "metadata": {},
   "source": [
    "# Nested `for` loops\n",
    "It is often useful to \"nest\" a loop inside another loop. When this occurs, the \"inner\" loop (i.e. the one inside the body of the other loop) will be fully executed, then the \"outer\" loop will iterate; the inner loop will execute again, and so on until the outer loop is finished.\n",
    "\n",
    "This idea is easiest seen by example. Note that the body of the inner loop is indented two levels."
   ]
  },
  {
   "cell_type": "code",
   "execution_count": 1,
   "id": "d661e1bf",
   "metadata": {},
   "outputs": [
    {
     "name": "stdout",
     "output_type": "stream",
     "text": [
      "Start of the outer loop body\n",
      "  Inner loop: the outer loop variable is 0 and inner loop variable is 3\n",
      "  Inner loop: the outer loop variable is 0 and inner loop variable is 4\n",
      "End of the outer loop body\n",
      "Start of the outer loop body\n",
      "  Inner loop: the outer loop variable is 1 and inner loop variable is 3\n",
      "  Inner loop: the outer loop variable is 1 and inner loop variable is 4\n",
      "End of the outer loop body\n"
     ]
    }
   ],
   "source": [
    "for i in range(2):\n",
    "    print(\"Start of the outer loop body\")\n",
    "    for j in range(3, 5):\n",
    "        print(f\"  Inner loop: the outer loop variable is {i} and inner loop variable is {j}\")\n",
    "    print(\"End of the outer loop body\")"
   ]
  },
  {
   "cell_type": "markdown",
   "id": "d1177637",
   "metadata": {},
   "source": [
    "This might seem like a strange thing to want to do, but many problems involve repeating a repetitive task.\n",
    "For example, suppose you have an inbox full of emails you need to respond to. You could represent the basic process of responding to all your emails like this:\n",
    "\n",
    "- For each email in your inbox:\n",
    "    - For each word in the email:\n",
    "        - Read the word\n",
    "    - Think of a response\n",
    "    - For each word of the response:\n",
    "        - Write the word\n",
    "        - Add any necessary punctuation\n",
    "\n",
    "We could also break down writing words into repeatedly typing letters - another level of nesting in our repetition! You can nest loops as much as you want in Python, but if you find yourself with many levels of nesting it is usually a sign that you need to reconsider what you are doing and try to simplify it.\n",
    "\n",
    "Here's another example, where we output some short multiplication tables."
   ]
  },
  {
   "cell_type": "code",
   "execution_count": 2,
   "id": "9f845964",
   "metadata": {},
   "outputs": [
    {
     "name": "stdout",
     "output_type": "stream",
     "text": [
      "7 times table:\n",
      "7 x 1 is 7\n",
      "7 x 2 is 14\n",
      "7 x 3 is 21\n",
      "7 x 4 is 28\n",
      "\n",
      "8 times table:\n",
      "8 x 1 is 8\n",
      "8 x 2 is 16\n",
      "8 x 3 is 24\n",
      "8 x 4 is 32\n",
      "\n",
      "9 times table:\n",
      "9 x 1 is 9\n",
      "9 x 2 is 18\n",
      "9 x 3 is 27\n",
      "9 x 4 is 36\n",
      "\n"
     ]
    }
   ],
   "source": [
    "for i in range(7, 10):\n",
    "    print(f\"{i} times table:\")\n",
    "    for j in range(1, 5):\n",
    "        print(f\"{i} x {j} is {i*j}\")\n",
    "    print() # print a blank line; note that this is only in the \"outer\" loop"
   ]
  },
  {
   "cell_type": "markdown",
   "id": "104653a0",
   "metadata": {},
   "source": [
    "Here's an example with a turtle; we draw a triangle with a small hexagon attached to each corner."
   ]
  },
  {
   "cell_type": "code",
   "execution_count": 3,
   "id": "c539532b",
   "metadata": {},
   "outputs": [
    {
     "data": {
      "application/vnd.jupyter.widget-view+json": {
       "model_id": "b441196b010e436baa4f02cafdf32386",
       "version_major": 2,
       "version_minor": 0
      },
      "text/plain": [
       "Turtle()"
      ]
     },
     "metadata": {},
     "output_type": "display_data"
    }
   ],
   "source": [
    "from mobilechelonian import Turtle\n",
    "\n",
    "leo = Turtle()\n",
    "leo.speed(8)\n",
    "\n",
    "# loop 3 times for the triangle\n",
    "for i in range(3):\n",
    "    leo.forward(100)\n",
    "    # get the hexagon in the right orientation\n",
    "    leo.right(90)\n",
    "\n",
    "    # loop 6 times for the hexagon\n",
    "    for i in range(6):\n",
    "        leo.forward(30)\n",
    "        leo.left(60)\n",
    "\n",
    "    # point the turtle back in the right direction for the next triangle edge\n",
    "    leo.left(210)"
   ]
  },
  {
   "cell_type": "markdown",
   "id": "a65bc17f",
   "metadata": {},
   "source": [
    "Finally, let's use nested loops to compute the double sum\n",
    "$$\n",
    "\\sum_{i = 1}^{10} \\sum_{j = 2 \\text{, j even}}^{20} \\frac{1}{i ^2  j}.\n",
    "$$"
   ]
  },
  {
   "cell_type": "code",
   "execution_count": 4,
   "id": "e4b1cc65",
   "metadata": {},
   "outputs": [
    {
     "data": {
      "text/plain": [
       "2.2696102428056033"
      ]
     },
     "execution_count": 4,
     "metadata": {},
     "output_type": "execute_result"
    }
   ],
   "source": [
    "# start with the total being 0\n",
    "total = 0\n",
    "\n",
    "# Use nested for-loops for the double sum.\n",
    "# The loop variables correspond to the sum indices.\n",
    "for i in range(1, 11):\n",
    "    for j in range(2, 21, 2):\n",
    "        term = 1 / (i**2 * j)\n",
    "        # the next line means \"total = total + term\"\n",
    "        total += term\n",
    "total"
   ]
  },
  {
   "cell_type": "code",
   "execution_count": null,
   "id": "7fd340d3",
   "metadata": {},
   "outputs": [],
   "source": []
  }
 ],
 "metadata": {
  "kernelspec": {
   "display_name": "Python 3 (ipykernel)",
   "language": "python",
   "name": "python3"
  },
  "language_info": {
   "codemirror_mode": {
    "name": "ipython",
    "version": 3
   },
   "file_extension": ".py",
   "mimetype": "text/x-python",
   "name": "python",
   "nbconvert_exporter": "python",
   "pygments_lexer": "ipython3",
   "version": "3.11.0"
  },
  "toc": {
   "base_numbering": 1,
   "nav_menu": {},
   "number_sections": false,
   "sideBar": true,
   "skip_h1_title": false,
   "title_cell": "Table of Contents",
   "title_sidebar": "Contents",
   "toc_cell": false,
   "toc_position": {
    "height": "calc(100% - 180px)",
    "left": "10px",
    "top": "150px",
    "width": "335.994px"
   },
   "toc_section_display": true,
   "toc_window_display": true
  },
  "varInspector": {
   "cols": {
    "lenName": 16,
    "lenType": 16,
    "lenVar": 40
   },
   "kernels_config": {
    "python": {
     "delete_cmd_postfix": "",
     "delete_cmd_prefix": "del ",
     "library": "var_list.py",
     "varRefreshCmd": "print(var_dic_list())"
    },
    "r": {
     "delete_cmd_postfix": ") ",
     "delete_cmd_prefix": "rm(",
     "library": "var_list.r",
     "varRefreshCmd": "cat(var_dic_list()) "
    }
   },
   "types_to_exclude": [
    "module",
    "function",
    "builtin_function_or_method",
    "instance",
    "_Feature"
   ],
   "window_display": false
  }
 },
 "nbformat": 4,
 "nbformat_minor": 5
}
