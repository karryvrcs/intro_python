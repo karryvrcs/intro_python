{
 "cells": [
  {
   "cell_type": "markdown",
   "id": "42d406a2",
   "metadata": {},
   "source": [
    "# Conditionals \n",
    "\n",
    "## Basic `if` statements\n",
    "\n",
    "In the previous worksheets, we've seen two ways in which we can control how the lines of a program are executed  (which we sometimes call the ***control flow*** of the program): we can use `for` loops to repeat lines of code, and functions to separate lines of code into smaller blocks. There is only one more fundamental concept we need for manipulating the control flow. This is the ability to make decisions based on ***conditions***.\n",
    "\n",
    "In normal speech, when giving instructions we often use conditions. For example: \"*if* the traffic light is red *then* stop\". This has a direct analogue in Python: the simple `if` statement, which has the following form:\n",
    "\n",
    "```\n",
    "if <condition>:\n",
    "    body statements\n",
    "next line of code\n",
    "```\n",
    "\n",
    "As always, the indentation is critical. The indented statements are the body of the `if` statement, and will only be executed if the condition holds.\n",
    "\n",
    "In mathematical computing, the conditions we are interested in are often relationships between numbers. For example, we can test whether `a` is equal to `b` using `a == b` (**notice there are *two* `=` signs**).\n",
    "\n",
    "In the following example, we print out when an iteratively-defined sequence has converged."
   ]
  },
  {
   "cell_type": "code",
   "execution_count": 1,
   "id": "75f0c2d0",
   "metadata": {},
   "outputs": [
    {
     "name": "stdout",
     "output_type": "stream",
     "text": [
      "after 8 iterations, x = 0.5\n",
      "after 9 iterations, x = 0.5\n"
     ]
    }
   ],
   "source": [
    "x = 0.9\n",
    "\n",
    "for i in range(1, 10):\n",
    "    x = 2*x*(1-x)\n",
    "    if(x == 0.5):  # if the sequence has converged\n",
    "        print(f\"after {i} iterations, x = {x}\")"
   ]
  },
  {
   "cell_type": "markdown",
   "id": "1d24f567",
   "metadata": {},
   "source": [
    "The condition `x == 0.5` evaluates to one of the two ***boolean*** values `True` or `False`:"
   ]
  },
  {
   "cell_type": "code",
   "execution_count": 2,
   "id": "c3ec4848",
   "metadata": {},
   "outputs": [
    {
     "data": {
      "text/plain": [
       "True"
      ]
     },
     "execution_count": 2,
     "metadata": {},
     "output_type": "execute_result"
    }
   ],
   "source": [
    "x == 0.5"
   ]
  },
  {
   "cell_type": "code",
   "execution_count": 3,
   "id": "1813ec49",
   "metadata": {},
   "outputs": [
    {
     "data": {
      "text/plain": [
       "False"
      ]
     },
     "execution_count": 3,
     "metadata": {},
     "output_type": "execute_result"
    }
   ],
   "source": [
    "x == 1"
   ]
  },
  {
   "cell_type": "markdown",
   "id": "f8f3ebb4",
   "metadata": {},
   "source": [
    "Note that these are not the same thing as the strings `\"True\"` and `\"False\"`!"
   ]
  },
  {
   "cell_type": "code",
   "execution_count": 4,
   "id": "5c07a0e0",
   "metadata": {},
   "outputs": [
    {
     "data": {
      "text/plain": [
       "False"
      ]
     },
     "execution_count": 4,
     "metadata": {},
     "output_type": "execute_result"
    }
   ],
   "source": [
    "True == \"True\""
   ]
  },
  {
   "cell_type": "markdown",
   "id": "ad237b2d",
   "metadata": {},
   "source": [
    "## Relational and logical operators\n",
    "We've seen that you can use `==` to test equality. These is an example of a ***relational operator***. There are several more relational operators available in Python.\n",
    "\n",
    "\n",
    "| Operator    | Description                            |\n",
    "| :---------- | ---------------------------------------|\n",
    "| `<`, `<=`   | less than, less than or equal to       |\n",
    "| `>`, `>=`   | greater than, greater than or equal to |\n",
    "| `==`        | equal to |\n",
    "| `!=`        | not equal to |"
   ]
  },
  {
   "cell_type": "markdown",
   "id": "b9dc0cf8",
   "metadata": {},
   "source": [
    "Here's an example of using `<=` to find when the iteration above is \"close to\" converging."
   ]
  },
  {
   "cell_type": "code",
   "execution_count": 5,
   "id": "89f189b6",
   "metadata": {},
   "outputs": [
    {
     "name": "stdout",
     "output_type": "stream",
     "text": [
      "after 4 iterations, x = 0.4859262511644672\n",
      "after 5 iterations, x = 0.49960385918742867\n",
      "after 6 iterations, x = 0.49999968614491325\n",
      "after 7 iterations, x = 0.49999999999980305\n",
      "after 8 iterations, x = 0.5\n",
      "after 9 iterations, x = 0.5\n"
     ]
    }
   ],
   "source": [
    "x = 0.9\n",
    "err = 0.05\n",
    "\n",
    "for i in range(1, 10):  \n",
    "    x = 2*x*(1-x)\n",
    "    if(abs(x - 0.5) <= err):  # if the difference between x and 0.5 is small enough\n",
    "        print(f\"after {i} iterations, x = {x}\")"
   ]
  },
  {
   "cell_type": "markdown",
   "id": "b290347e",
   "metadata": {},
   "source": [
    "## Divisibility and the modulo operator"
   ]
  },
  {
   "cell_type": "markdown",
   "id": "9ef3cd49",
   "metadata": {},
   "source": [
    "One of the conditions that we often want to test is if an integer $a$ is divisible by another integer $b$. In Python we do this using the ***modulo*** operator `a % b`, which returns the remainder on dividing `a` by `b`:"
   ]
  },
  {
   "cell_type": "code",
   "execution_count": 6,
   "id": "c97beafc",
   "metadata": {},
   "outputs": [
    {
     "data": {
      "text/plain": [
       "3"
      ]
     },
     "execution_count": 6,
     "metadata": {},
     "output_type": "execute_result"
    }
   ],
   "source": [
    "a = 23\n",
    "b = 5\n",
    "\n",
    "a % b"
   ]
  },
  {
   "cell_type": "markdown",
   "id": "3515251d",
   "metadata": {},
   "source": [
    "You can then test if `b` divides `a` like so:"
   ]
  },
  {
   "cell_type": "code",
   "execution_count": 7,
   "id": "5a1f79f0",
   "metadata": {},
   "outputs": [
    {
     "data": {
      "text/plain": [
       "False"
      ]
     },
     "execution_count": 7,
     "metadata": {},
     "output_type": "execute_result"
    }
   ],
   "source": [
    "a % b == 0"
   ]
  },
  {
   "cell_type": "markdown",
   "id": "a6b4fc1e",
   "metadata": {},
   "source": [
    "As an aside, you can also get the quotient of `a` by `b` like so:"
   ]
  },
  {
   "cell_type": "code",
   "execution_count": 8,
   "id": "c0081a0a",
   "metadata": {},
   "outputs": [
    {
     "data": {
      "text/plain": [
       "4"
      ]
     },
     "execution_count": 8,
     "metadata": {},
     "output_type": "execute_result"
    }
   ],
   "source": [
    "a // b"
   ]
  },
  {
   "cell_type": "markdown",
   "id": "d88aba24",
   "metadata": {},
   "source": [
    "## Logical Operators\n",
    "\n",
    "We often need to combine relational operators to form more complex conditions. For example, we may wish to test if a number is divisible by 13 ***and*** is positive. Python allows us to combine together conditions in this way:"
   ]
  },
  {
   "cell_type": "code",
   "execution_count": 9,
   "id": "665ac1e0",
   "metadata": {},
   "outputs": [
    {
     "data": {
      "text/plain": [
       "True"
      ]
     },
     "execution_count": 9,
     "metadata": {},
     "output_type": "execute_result"
    }
   ],
   "source": [
    "n = 52\n",
    "n % 13 == 0 and n > 0"
   ]
  },
  {
   "cell_type": "markdown",
   "id": "de77d8eb",
   "metadata": {},
   "source": [
    "There are three ***logical operators*** offered by Python:\n",
    "\n",
    "| Operator    | Description                            |\n",
    "| :---------- | ---------------------------------------|\n",
    "| `and`       | `True` if both sides evaluate to `True`|\n",
    "| `or`        | `True` if **at least** one side evaluates to `True` |\n",
    "| `not`       | the opposite of whatever follows it |\n",
    "\n",
    "Here are some examples of how they work:"
   ]
  },
  {
   "cell_type": "code",
   "execution_count": 10,
   "id": "474e8673",
   "metadata": {},
   "outputs": [
    {
     "data": {
      "text/plain": [
       "True"
      ]
     },
     "execution_count": 10,
     "metadata": {},
     "output_type": "execute_result"
    }
   ],
   "source": [
    "13 % 2 == 0 or 27 % 5 == 2"
   ]
  },
  {
   "cell_type": "code",
   "execution_count": 11,
   "id": "ad3813f7",
   "metadata": {},
   "outputs": [
    {
     "data": {
      "text/plain": [
       "True"
      ]
     },
     "execution_count": 11,
     "metadata": {},
     "output_type": "execute_result"
    }
   ],
   "source": [
    "13 % 2 == 0 or not 27 % 5 == 0"
   ]
  },
  {
   "cell_type": "markdown",
   "id": "943775ae",
   "metadata": {},
   "source": [
    "The example above is already a little confusing to read; it is good practice to bracket your logical expressions when they become complex."
   ]
  },
  {
   "cell_type": "code",
   "execution_count": 12,
   "id": "3bf039f0",
   "metadata": {},
   "outputs": [
    {
     "data": {
      "text/plain": [
       "True"
      ]
     },
     "execution_count": 12,
     "metadata": {},
     "output_type": "execute_result"
    }
   ],
   "source": [
    "(13 % 2 == 0) or not (27 % 5 == 0)"
   ]
  },
  {
   "cell_type": "markdown",
   "id": "9296501b",
   "metadata": {},
   "source": [
    "## `If-else` statements\n",
    "\n",
    "It is very common in programming that we want the code to do one thing if a condition is true, and a different thing if it is false.\n",
    "In Python, we can achieve this using `if-else` statements, which have the following form:\n",
    "\n",
    "```\n",
    "if <condition>:\n",
    "    lines to run if the condition is true\n",
    "else:\n",
    "    lines to run if the condition is false\n",
    "lines to run regardless of condition\n",
    "```\n",
    "For example, suppose I want to check if I remember the value of $\\sinh(\\log(2))$, and if not I want to be told the correct value."
   ]
  },
  {
   "cell_type": "code",
   "execution_count": 13,
   "id": "033ad639",
   "metadata": {},
   "outputs": [
    {
     "name": "stdout",
     "output_type": "stream",
     "text": [
      "Sorry, the actual value of sinh(log(2)) is 0.75\n"
     ]
    }
   ],
   "source": [
    "import numpy as np\n",
    "\n",
    "remembered_value = 5/4\n",
    "\n",
    "if np.sinh(np.log(2)) == remembered_value:\n",
    "    print(\"Hurray!\")\n",
    "else:\n",
    "    print(\"Sorry, the actual value of sinh(log(2)) is\", np.sinh(np.log(2)))"
   ]
  },
  {
   "cell_type": "markdown",
   "id": "dbcd1f20",
   "metadata": {},
   "source": [
    "## `Elif` statements\n",
    "\n",
    "We often need our programs to choose between more than two options. Suppose we have a number $n$ and we want to compute\n",
    "$$x = \\begin{cases}n^2 & \\text{$2$ divides $n$} \\\\ n^3 & \\text{$3$ divides $n$ but $2$ does not} \\\\ n & \\text{otherwise.} \\end{cases}$$\n",
    "\n",
    "In order to do so, we could nest `if-else` statements as in the cell below. *This is just an example and would be considered bad practice*, as explained afterwards."
   ]
  },
  {
   "cell_type": "code",
   "execution_count": 14,
   "id": "a3357e9d",
   "metadata": {},
   "outputs": [],
   "source": [
    "# Don't do this! See the next text cell for a better method.\n",
    "\n",
    "n = 3\n",
    "\n",
    "if n % 2 == 0:\n",
    "    # n is even, so set x = n ** 2\n",
    "    x = n ** 2\n",
    "else:\n",
    "    # if we're here n isn't even, so we test if it is divisible by 3\n",
    "    if n % 3 == 0:\n",
    "        # n is not even but is divisible by 3, so set x = n ** 3\n",
    "        x = n ** 3\n",
    "    else:\n",
    "        # n is neither even nor divisible by 3, so set x = n\n",
    "        x = n"
   ]
  },
  {
   "cell_type": "code",
   "execution_count": 15,
   "id": "0d2ff052",
   "metadata": {},
   "outputs": [
    {
     "data": {
      "text/plain": [
       "27"
      ]
     },
     "execution_count": 15,
     "metadata": {},
     "output_type": "execute_result"
    }
   ],
   "source": [
    "x"
   ]
  },
  {
   "cell_type": "markdown",
   "id": "cd62e31f",
   "metadata": {},
   "source": [
    "There are other ways of nesting the `if-else` statements to achieve the same result. However, nested conditionals are often *extremely* confusing and are a very common source of bugs in code. Sometimes it is necessary to nest conditionals, but in the example above a better alternative would be to use `elif` statements. These are used inside an `if` or `if-else` statement, and have the following general form:\n",
    "\n",
    "```\n",
    "if <condition 1>:\n",
    "    thing to do if condition 1 holds\n",
    "elif <condition 2>:\n",
    "    thing to do if 1 does not hold but 2 does\n",
    "elif <condition 3>:\n",
    "    thing to do if 1 and 2 do not hold but 3 does\n",
    "...\n",
    "else:\n",
    "    thing to do if none of the conditions hold\n",
    "```"
   ]
  },
  {
   "cell_type": "markdown",
   "id": "9ac043b5",
   "metadata": {},
   "source": [
    "You can have as many `elif`s as you want, and you don't have to include the `else` statement. Here's what the code above would look like using `elif`:"
   ]
  },
  {
   "cell_type": "code",
   "execution_count": 16,
   "id": "0a86ce4f",
   "metadata": {},
   "outputs": [
    {
     "data": {
      "text/plain": [
       "27"
      ]
     },
     "execution_count": 16,
     "metadata": {},
     "output_type": "execute_result"
    }
   ],
   "source": [
    "n = 3\n",
    "if n % 2 == 0:\n",
    "    # n is even\n",
    "    x = n ** 2\n",
    "elif n % 3 == 0:\n",
    "    # n is not even since the first condition failed\n",
    "    # but it is divisible by 3\n",
    "    x = n ** 3\n",
    "else:\n",
    "    # neither condition held, so n is neither even nor divisible by 3\n",
    "    x = n\n",
    "x"
   ]
  },
  {
   "cell_type": "markdown",
   "id": "55298ff4",
   "metadata": {},
   "source": [
    "## Conditional `return` statements\n",
    "\n",
    "We often combine `if-else` statements with `return` statements to determine what a function will return. The following function takes one argument `n`, and returns $n/2$ if $n < 100$ and $2n$ otherwise."
   ]
  },
  {
   "cell_type": "code",
   "execution_count": 17,
   "id": "8d535155",
   "metadata": {},
   "outputs": [],
   "source": [
    "def piecewise_function(n):\n",
    "    if n < 100:\n",
    "        return n/2\n",
    "    else:\n",
    "        return 2 * n"
   ]
  },
  {
   "cell_type": "code",
   "execution_count": 18,
   "id": "70eb3098",
   "metadata": {},
   "outputs": [
    {
     "data": {
      "text/plain": [
       "2.5"
      ]
     },
     "execution_count": 18,
     "metadata": {},
     "output_type": "execute_result"
    }
   ],
   "source": [
    "piecewise_function(5)"
   ]
  },
  {
   "cell_type": "code",
   "execution_count": 19,
   "id": "7c1f6f4e",
   "metadata": {},
   "outputs": [
    {
     "data": {
      "text/plain": [
       "200"
      ]
     },
     "execution_count": 19,
     "metadata": {},
     "output_type": "execute_result"
    }
   ],
   "source": [
    "piecewise_function(100)"
   ]
  },
  {
   "cell_type": "markdown",
   "id": "1941d244",
   "metadata": {},
   "source": [
    "When writing functions which contain `return` statements, the key thing to remember is that as soon as a `return` statement is reached, the function returns the given value **and the function stops**. This is demonstrated by the following example, which returns the smallest (larger than 1) factor of a given number."
   ]
  },
  {
   "cell_type": "code",
   "execution_count": 20,
   "id": "60601e84",
   "metadata": {},
   "outputs": [],
   "source": [
    "def smallest_factor(n):\n",
    "    # go through the values 2 up to n in order, until we find a factor\n",
    "    for i in range(2, n + 1):\n",
    "        # if i divides n, then return i and exit this function immediately\n",
    "        if n % i == 0:\n",
    "            return i"
   ]
  },
  {
   "cell_type": "code",
   "execution_count": 21,
   "id": "40452d26",
   "metadata": {},
   "outputs": [
    {
     "data": {
      "text/plain": [
       "3"
      ]
     },
     "execution_count": 21,
     "metadata": {},
     "output_type": "execute_result"
    }
   ],
   "source": [
    "smallest_factor(15)"
   ]
  },
  {
   "cell_type": "markdown",
   "id": "82d018d6",
   "metadata": {},
   "source": [
    "When writing functions, we are not limited to a single `return` statement inside a function: we can have as many as we want. In the following example, we use this in combination with the fact that return statements exit the function to test if a number is prime. Make you sure understand this example!"
   ]
  },
  {
   "cell_type": "code",
   "execution_count": 22,
   "id": "62b40680",
   "metadata": {},
   "outputs": [],
   "source": [
    "def is_prime(n):\n",
    "    # check whether the number has any factors (we could be cleverer about this range)\n",
    "    for i in range(2, n):\n",
    "        # if i divides n, then n is not prime (since 1 < i < n)\n",
    "        # so return False and exit this function\n",
    "        if n % i == 0:\n",
    "            return False\n",
    "\n",
    "    # If we get to this point, after the for loop, we haven't found any factors\n",
    "    # because otherwise we would have already returned False and exited the function.\n",
    "    # So n must be prime.\n",
    "    return True"
   ]
  },
  {
   "cell_type": "code",
   "execution_count": 23,
   "id": "1b249998",
   "metadata": {},
   "outputs": [
    {
     "data": {
      "text/plain": [
       "True"
      ]
     },
     "execution_count": 23,
     "metadata": {},
     "output_type": "execute_result"
    }
   ],
   "source": [
    "is_prime(17)"
   ]
  },
  {
   "cell_type": "markdown",
   "id": "ff350ceb",
   "metadata": {},
   "source": [
    "## Aside: Patterns\n",
    "\n",
    "The function above follows a very common code ***pattern***. A pattern is like a \"template\" for solving a particular type of problem. Here the more general problem is \"non-existence of an object with some property\", which we can test by iterating through all of the possibilities for that object, returning `False` if one of them has the given property, and returning `True` after exhausting all of the possibilities. It's worth thinking about what patterns you are using while you code. Can you see what the analogous pattern would be for checking \"*existence* of an object with some property\"? What about \"*all* objects have some property\", or \"all objects do not have some property\"?"
   ]
  }
 ],
 "metadata": {
  "kernelspec": {
   "display_name": "Python 3 (ipykernel)",
   "language": "python",
   "name": "python3"
  },
  "language_info": {
   "codemirror_mode": {
    "name": "ipython",
    "version": 3
   },
   "file_extension": ".py",
   "mimetype": "text/x-python",
   "name": "python",
   "nbconvert_exporter": "python",
   "pygments_lexer": "ipython3",
   "version": "3.9.12"
  },
  "toc": {
   "base_numbering": 1,
   "nav_menu": {},
   "number_sections": false,
   "sideBar": true,
   "skip_h1_title": false,
   "title_cell": "Table of Contents",
   "title_sidebar": "Contents",
   "toc_cell": false,
   "toc_position": {},
   "toc_section_display": true,
   "toc_window_display": true
  },
  "varInspector": {
   "cols": {
    "lenName": 16,
    "lenType": 16,
    "lenVar": 40
   },
   "kernels_config": {
    "python": {
     "delete_cmd_postfix": "",
     "delete_cmd_prefix": "del ",
     "library": "var_list.py",
     "varRefreshCmd": "print(var_dic_list())"
    },
    "r": {
     "delete_cmd_postfix": ") ",
     "delete_cmd_prefix": "rm(",
     "library": "var_list.r",
     "varRefreshCmd": "cat(var_dic_list()) "
    }
   },
   "types_to_exclude": [
    "module",
    "function",
    "builtin_function_or_method",
    "instance",
    "_Feature"
   ],
   "window_display": false
  }
 },
 "nbformat": 4,
 "nbformat_minor": 5
}
