{
 "cells": [
  {
   "cell_type": "markdown",
   "id": "480869c4",
   "metadata": {},
   "source": [
    "# Arrays\n",
    "\n",
    "Lists are very \"general\" in the sense that they can contain objects of multiple different types. However, this generality is a trade-off against efficiency. For many applications, we instead use ***arrays***. These are a central feature of `numpy`, and can only contain elements all of the same type (usually `int` or `float`, though `numpy` makes finer distinctions to both of these types). Arrays make operations with large amounts of numeric data much faster."
   ]
  },
  {
   "cell_type": "markdown",
   "id": "243b0bfa",
   "metadata": {},
   "source": [
    "## Creating Arrays\n",
    "\n",
    "There are a number of ways to create arrays."
   ]
  },
  {
   "cell_type": "markdown",
   "id": "63a33ad0",
   "metadata": {},
   "source": [
    "### Conversion from `list`\n",
    "\n",
    "Given a `list` of objects, you can easily create an `array` from it:"
   ]
  },
  {
   "cell_type": "code",
   "execution_count": 1,
   "id": "6ed8bceb",
   "metadata": {},
   "outputs": [
    {
     "data": {
      "text/plain": [
       "array([ 1,  3,  2,  5, 10])"
      ]
     },
     "execution_count": 1,
     "metadata": {},
     "output_type": "execute_result"
    }
   ],
   "source": [
    "import numpy as np\n",
    "my_array = np.array([1, 3, 2, 5, 10])   # make an array from a list\n",
    "my_array"
   ]
  },
  {
   "cell_type": "markdown",
   "id": "2cdedef8",
   "metadata": {},
   "source": [
    "If you try and convert a list of mixed types then `numpy` does its best to convert it to a sensible array - but you may not get what you expect!"
   ]
  },
  {
   "cell_type": "code",
   "execution_count": 2,
   "id": "76f4304f",
   "metadata": {},
   "outputs": [
    {
     "data": {
      "text/plain": [
       "array(['1', '2', '45.3', 'hello'], dtype='<U32')"
      ]
     },
     "execution_count": 2,
     "metadata": {},
     "output_type": "execute_result"
    }
   ],
   "source": [
    "my_list = [1, 2, 45.3, \"hello\"]\n",
    "my_array2 = np.array(my_list)\n",
    "my_array2"
   ]
  },
  {
   "cell_type": "markdown",
   "id": "59949251",
   "metadata": {},
   "source": [
    "You can also create higher-dimensional arrays by converting lists of lists:"
   ]
  },
  {
   "cell_type": "code",
   "execution_count": 3,
   "id": "24655363",
   "metadata": {},
   "outputs": [
    {
     "data": {
      "text/plain": [
       "array([[1, 2],\n",
       "       [3, 4]])"
      ]
     },
     "execution_count": 3,
     "metadata": {},
     "output_type": "execute_result"
    }
   ],
   "source": [
    "np.array([[1, 2], [3, 4]])"
   ]
  },
  {
   "cell_type": "markdown",
   "id": "12f0a980",
   "metadata": {},
   "source": [
    "### `arange` and `linspace`\n",
    "\n",
    "When we are dealing with large arrays, it is impractical to type in each entry by hand. There are a number of helpful functions provided by `numpy` to create arrays with certain properties. To create an array of evenly-spaced values between a `start` and `stop` value, we can use the `arange` or `linspace` functions from `numpy`. \n",
    "\n",
    "With both functions we specify the start and stop values (like with `range`), but with `arange` we specify the spacing between the values, and with `linspace` we specify the number of points we want in the array (with even spacing)."
   ]
  },
  {
   "cell_type": "code",
   "execution_count": 4,
   "id": "e81c37c8",
   "metadata": {},
   "outputs": [
    {
     "data": {
      "text/plain": [
       "array([0. , 0.2, 0.4, 0.6, 0.8, 1. , 1.2, 1.4, 1.6, 1.8, 2. , 2.2, 2.4,\n",
       "       2.6, 2.8, 3. , 3.2, 3.4, 3.6, 3.8, 4. ])"
      ]
     },
     "execution_count": 4,
     "metadata": {},
     "output_type": "execute_result"
    }
   ],
   "source": [
    "np.arange(0.0, 4.2, 0.2)"
   ]
  },
  {
   "cell_type": "code",
   "execution_count": 5,
   "id": "8547baa5",
   "metadata": {},
   "outputs": [
    {
     "data": {
      "text/plain": [
       "array([0.        , 0.46666667, 0.93333333, 1.4       , 1.86666667,\n",
       "       2.33333333, 2.8       , 3.26666667, 3.73333333, 4.2       ])"
      ]
     },
     "execution_count": 5,
     "metadata": {},
     "output_type": "execute_result"
    }
   ],
   "source": [
    "np.linspace(0.0, 4.2, num = 10)"
   ]
  },
  {
   "cell_type": "markdown",
   "id": "36077496",
   "metadata": {},
   "source": [
    "You might have expected the last array to contain `0, 0.42, ..., 4.2` given the argument `num=10`. However, the first point `0` is included as one of these ten points; this means that the spacing is given by `(b-a)/(num-1)` where `a` is the start point and `b` is the end point. If we wanted a spacing of `0.42`, we should use `arange` or give the argument `num=11`:"
   ]
  },
  {
   "cell_type": "code",
   "execution_count": 6,
   "id": "86751bb4",
   "metadata": {},
   "outputs": [
    {
     "data": {
      "text/plain": [
       "array([0.  , 0.42, 0.84, 1.26, 1.68, 2.1 , 2.52, 2.94, 3.36, 3.78, 4.2 ])"
      ]
     },
     "execution_count": 6,
     "metadata": {},
     "output_type": "execute_result"
    }
   ],
   "source": [
    "np.linspace(0.0, 4.2, num = 11)"
   ]
  },
  {
   "cell_type": "markdown",
   "id": "a1d5a32d",
   "metadata": {},
   "source": [
    "### All-zero arrays\n",
    "\n",
    "Another common way to create arrays is by creating an array with all entries 0, then setting the entries to be the correct value. To create an all-zero array, use `np.zeros`:"
   ]
  },
  {
   "cell_type": "code",
   "execution_count": 7,
   "id": "30416e57",
   "metadata": {},
   "outputs": [
    {
     "data": {
      "text/plain": [
       "array([0., 0., 0., 0., 0., 0., 0., 0., 0., 0.])"
      ]
     },
     "execution_count": 7,
     "metadata": {},
     "output_type": "execute_result"
    }
   ],
   "source": [
    "np.zeros(10)"
   ]
  },
  {
   "cell_type": "code",
   "execution_count": 8,
   "id": "8816a90c",
   "metadata": {},
   "outputs": [
    {
     "data": {
      "text/plain": [
       "array([[0., 0., 0., 0., 0.],\n",
       "       [0., 0., 0., 0., 0.],\n",
       "       [0., 0., 0., 0., 0.]])"
      ]
     },
     "execution_count": 8,
     "metadata": {},
     "output_type": "execute_result"
    }
   ],
   "source": [
    "# For multi-dimensional arrays, the dimensions have to be given\n",
    "# as a tuple (dim1, dim2,...) - hence the extra pair of brackets in the line below.\n",
    "np.zeros((3, 5))"
   ]
  },
  {
   "cell_type": "markdown",
   "id": "9d75a8f6",
   "metadata": {},
   "source": [
    "In the following example, we create a $3 \\times 4$ matrix $A$ with entries \n",
    "$$a_{i,j} = \\begin{cases}2i + j & i, j > 1 \\\\ 0 &\\text{otherwise.} \\end{cases}$$\n",
    "for $1 \\leq i \\leq 3$ and $1 \\leq j \\leq 4$.\n",
    "\n",
    "Notice that we index matrices from 1 in mathematics, but from 0 in programming - you have to be very careful with this, and it's best to clarify which you mean."
   ]
  },
  {
   "cell_type": "code",
   "execution_count": 9,
   "id": "dbf98d39",
   "metadata": {},
   "outputs": [
    {
     "data": {
      "text/plain": [
       "array([[ 0.,  0.,  0.,  0.],\n",
       "       [ 0.,  6.,  7.,  8.],\n",
       "       [ 0.,  8.,  9., 10.]])"
      ]
     },
     "execution_count": 9,
     "metadata": {},
     "output_type": "execute_result"
    }
   ],
   "source": [
    "# Create a 3x4 matrix of zeros; notice the argument is a pair (dim1, dim2)\n",
    "dim1 = 3\n",
    "dim2 = 4\n",
    "\n",
    "mat = np.zeros((dim1, dim2))\n",
    "\n",
    "# now set the entries\n",
    "for i in range(1,dim1):\n",
    "    for j in range(1,dim2):\n",
    "        # We use (i + 1) and (j + 1) to agree with the mathematical definition.\n",
    "        mat[i, j] = 2 * (i + 1) + (j + 1)\n",
    "        # Note we don't need multiple square brackets with numpy arrays.\n",
    "        # You could use mat[i][j] instead, but mat[i,j] is more efficient.\n",
    "\n",
    "# view mat\n",
    "mat"
   ]
  },
  {
   "cell_type": "markdown",
   "id": "ccfa156c",
   "metadata": {},
   "source": [
    "### Diagonal arrays\n",
    "\n",
    "We often want to create arrays with entries only on the main diagonal. There are several ways to do this in `numpy`; here are some examples."
   ]
  },
  {
   "cell_type": "code",
   "execution_count": 10,
   "id": "791648b6",
   "metadata": {},
   "outputs": [
    {
     "data": {
      "text/plain": [
       "array([[1., 0., 0.],\n",
       "       [0., 1., 0.],\n",
       "       [0., 0., 1.]])"
      ]
     },
     "execution_count": 10,
     "metadata": {},
     "output_type": "execute_result"
    }
   ],
   "source": [
    "# create the N by N identity matrix with np.identity(N)\n",
    "np.identity(3)"
   ]
  },
  {
   "cell_type": "code",
   "execution_count": 11,
   "id": "146190cc",
   "metadata": {},
   "outputs": [
    {
     "data": {
      "text/plain": [
       "array([[1., 0., 0., 0., 0.],\n",
       "       [0., 1., 0., 0., 0.],\n",
       "       [0., 0., 1., 0., 0.]])"
      ]
     },
     "execution_count": 11,
     "metadata": {},
     "output_type": "execute_result"
    }
   ],
   "source": [
    "# You can also use np.eye(N).\n",
    "# This is more flexible than np.identity - you make extra columns\n",
    "# containing zeros using the \"M\" argument\n",
    "np.eye(3, M = 5)"
   ]
  },
  {
   "cell_type": "code",
   "execution_count": 12,
   "id": "aac94a21",
   "metadata": {},
   "outputs": [
    {
     "data": {
      "text/plain": [
       "array([[1, 0, 0, 0],\n",
       "       [0, 4, 0, 0],\n",
       "       [0, 0, 2, 0],\n",
       "       [0, 0, 0, 6]])"
      ]
     },
     "execution_count": 12,
     "metadata": {},
     "output_type": "execute_result"
    }
   ],
   "source": [
    "# Create an array with specified diagonal entries.\n",
    "# Note the extra brackets to make the argument a single tuple.\n",
    "\n",
    "np.diag((1, 4, 2, 6))"
   ]
  },
  {
   "cell_type": "markdown",
   "id": "f5d211ca",
   "metadata": {},
   "source": [
    "## Working with `arrays`\n",
    "\n",
    "`Numpy` arrays are extremely powerful and we will not attempt to discuss all (or even a small portion) of their features in this Notebook. One of the most useful features is that many `numpy` functions can be applied to all elements of an array at once:"
   ]
  },
  {
   "cell_type": "code",
   "execution_count": 13,
   "id": "85cafe44",
   "metadata": {},
   "outputs": [
    {
     "data": {
      "text/plain": [
       "array([[ 0.        ,  0.        ,  0.        ,  0.        ],\n",
       "       [ 0.        , -0.2794155 ,  0.6569866 ,  0.98935825],\n",
       "       [ 0.        ,  0.98935825,  0.41211849, -0.54402111]])"
      ]
     },
     "execution_count": 13,
     "metadata": {},
     "output_type": "execute_result"
    }
   ],
   "source": [
    "np.sin(mat)"
   ]
  },
  {
   "cell_type": "markdown",
   "id": "de76c2d7",
   "metadata": {},
   "source": [
    "This has many uses, like generating the $y$-coordinates for plots. Applying functions like this to arrays is not only more convenient than using lists and `for`-loops, but often much faster. Unlike lists, we can also do arithmetic with arrays:"
   ]
  },
  {
   "cell_type": "code",
   "execution_count": 14,
   "id": "00fd5dea",
   "metadata": {},
   "outputs": [
    {
     "data": {
      "text/plain": [
       "array([[ 0.        ,  0.        ,  0.        ,  0.        ],\n",
       "       [ 0.        , 11.7205845 , 14.6569866 , 16.98935825],\n",
       "       [ 0.        , 16.98935825, 18.41211849, 19.45597889]])"
      ]
     },
     "execution_count": 14,
     "metadata": {},
     "output_type": "execute_result"
    }
   ],
   "source": [
    "2 * mat + np.sin(mat)"
   ]
  },
  {
   "cell_type": "markdown",
   "id": "dd08b5ff",
   "metadata": {},
   "source": [
    "You can access elements in the same way as for lists:"
   ]
  },
  {
   "cell_type": "code",
   "execution_count": 15,
   "id": "366e1dbb",
   "metadata": {},
   "outputs": [
    {
     "data": {
      "text/plain": [
       "array([0., 6., 7., 8.])"
      ]
     },
     "execution_count": 15,
     "metadata": {},
     "output_type": "execute_result"
    }
   ],
   "source": [
    "# the second element of mat is the row [0, 6, 7, 8]\n",
    "mat[1]"
   ]
  },
  {
   "cell_type": "code",
   "execution_count": 16,
   "id": "7c19645e",
   "metadata": {},
   "outputs": [
    {
     "data": {
      "text/plain": [
       "7.0"
      ]
     },
     "execution_count": 16,
     "metadata": {},
     "output_type": "execute_result"
    }
   ],
   "source": [
    "# We could get the third element of the second row using mat[1][2],\n",
    "# but it is more efficient to do mat[1, 2].\n",
    "# This syntax does not work for lists, only for arrays.\n",
    "\n",
    "mat[1,2]"
   ]
  },
  {
   "cell_type": "markdown",
   "id": "d20b8660",
   "metadata": {},
   "source": [
    "Multiplication using `*` means ***component-wise multiplication***, using the formula $c_{ij} = a_{ij}b_{ij}$."
   ]
  },
  {
   "cell_type": "code",
   "execution_count": 17,
   "id": "bed0a0de",
   "metadata": {},
   "outputs": [
    {
     "data": {
      "text/plain": [
       "array([[1, 2],\n",
       "       [3, 4]])"
      ]
     },
     "execution_count": 17,
     "metadata": {},
     "output_type": "execute_result"
    }
   ],
   "source": [
    "mat = np.array([[1, 2], [3, 4]])\n",
    "mat"
   ]
  },
  {
   "cell_type": "code",
   "execution_count": 18,
   "id": "3a2fab58",
   "metadata": {},
   "outputs": [
    {
     "data": {
      "text/plain": [
       "array([[ 1,  4],\n",
       "       [ 9, 16]])"
      ]
     },
     "execution_count": 18,
     "metadata": {},
     "output_type": "execute_result"
    }
   ],
   "source": [
    "mat * mat"
   ]
  },
  {
   "cell_type": "markdown",
   "id": "72d7e1e5",
   "metadata": {},
   "source": [
    "For ***standard matrix multiplication***, use `@` instead:"
   ]
  },
  {
   "cell_type": "code",
   "execution_count": 19,
   "id": "76ef3209",
   "metadata": {},
   "outputs": [
    {
     "data": {
      "text/plain": [
       "array([[ 7, 10],\n",
       "       [15, 22]])"
      ]
     },
     "execution_count": 19,
     "metadata": {},
     "output_type": "execute_result"
    }
   ],
   "source": [
    "mat @ mat"
   ]
  },
  {
   "cell_type": "code",
   "execution_count": null,
   "id": "ababf6e9",
   "metadata": {},
   "outputs": [],
   "source": []
  }
 ],
 "metadata": {
  "kernelspec": {
   "display_name": "Python 3 (ipykernel)",
   "language": "python",
   "name": "python3"
  },
  "language_info": {
   "codemirror_mode": {
    "name": "ipython",
    "version": 3
   },
   "file_extension": ".py",
   "mimetype": "text/x-python",
   "name": "python",
   "nbconvert_exporter": "python",
   "pygments_lexer": "ipython3",
   "version": "3.9.12"
  },
  "toc": {
   "base_numbering": 1,
   "nav_menu": {},
   "number_sections": false,
   "sideBar": true,
   "skip_h1_title": false,
   "title_cell": "Table of Contents",
   "title_sidebar": "Contents",
   "toc_cell": false,
   "toc_position": {},
   "toc_section_display": true,
   "toc_window_display": true
  },
  "varInspector": {
   "cols": {
    "lenName": 16,
    "lenType": 16,
    "lenVar": 40
   },
   "kernels_config": {
    "python": {
     "delete_cmd_postfix": "",
     "delete_cmd_prefix": "del ",
     "library": "var_list.py",
     "varRefreshCmd": "print(var_dic_list())"
    },
    "r": {
     "delete_cmd_postfix": ") ",
     "delete_cmd_prefix": "rm(",
     "library": "var_list.r",
     "varRefreshCmd": "cat(var_dic_list()) "
    }
   },
   "types_to_exclude": [
    "module",
    "function",
    "builtin_function_or_method",
    "instance",
    "_Feature"
   ],
   "window_display": false
  }
 },
 "nbformat": 4,
 "nbformat_minor": 5
}
