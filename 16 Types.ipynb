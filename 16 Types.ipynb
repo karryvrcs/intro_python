{
 "cells": [
  {
   "cell_type": "markdown",
   "id": "d781f0c7",
   "metadata": {},
   "source": [
    "# Types\n",
    "In Python, everything has a *type*. These types are used to determine what sort of behaviour objects should have. For example, real numbers have type `int` or `float`:"
   ]
  },
  {
   "cell_type": "code",
   "execution_count": 1,
   "id": "0ba61462",
   "metadata": {},
   "outputs": [
    {
     "data": {
      "text/plain": [
       "int"
      ]
     },
     "execution_count": 1,
     "metadata": {},
     "output_type": "execute_result"
    }
   ],
   "source": [
    "type(-33)"
   ]
  },
  {
   "cell_type": "code",
   "execution_count": 2,
   "id": "a1909c4f",
   "metadata": {},
   "outputs": [
    {
     "data": {
      "text/plain": [
       "float"
      ]
     },
     "execution_count": 2,
     "metadata": {},
     "output_type": "execute_result"
    }
   ],
   "source": [
    "type(1.32)"
   ]
  },
  {
   "cell_type": "markdown",
   "id": "18d26fa7",
   "metadata": {},
   "source": [
    "Similarly, strings have type `str`."
   ]
  },
  {
   "cell_type": "code",
   "execution_count": 3,
   "id": "9d8a49ee",
   "metadata": {},
   "outputs": [
    {
     "data": {
      "text/plain": [
       "str"
      ]
     },
     "execution_count": 3,
     "metadata": {},
     "output_type": "execute_result"
    }
   ],
   "source": [
    "type(\"Hello\")"
   ]
  },
  {
   "cell_type": "markdown",
   "id": "3ce7ae08",
   "metadata": {},
   "source": [
    "Booleans (`True` and `False`) have type `bool`."
   ]
  },
  {
   "cell_type": "code",
   "execution_count": 4,
   "id": "9d9aaa0b",
   "metadata": {},
   "outputs": [
    {
     "data": {
      "text/plain": [
       "bool"
      ]
     },
     "execution_count": 4,
     "metadata": {},
     "output_type": "execute_result"
    }
   ],
   "source": [
    "type(True)"
   ]
  },
  {
   "cell_type": "markdown",
   "id": "b8e79e61",
   "metadata": {},
   "source": [
    "And turtles have type `mobilechelonian.Turtle`."
   ]
  },
  {
   "cell_type": "code",
   "execution_count": 5,
   "id": "729587af",
   "metadata": {},
   "outputs": [
    {
     "data": {
      "application/vnd.jupyter.widget-view+json": {
       "model_id": "3ad8721bc87c4af38286af4b6f8df772",
       "version_major": 2,
       "version_minor": 0
      },
      "text/plain": [
       "Turtle()"
      ]
     },
     "metadata": {},
     "output_type": "display_data"
    },
    {
     "data": {
      "text/plain": [
       "mobilechelonian.Turtle"
      ]
     },
     "execution_count": 5,
     "metadata": {},
     "output_type": "execute_result"
    }
   ],
   "source": [
    "from mobilechelonian import Turtle\n",
    "terry = Turtle()\n",
    "type(terry)"
   ]
  },
  {
   "cell_type": "markdown",
   "id": "03a01750",
   "metadata": {},
   "source": [
    "Because it doesn't make sense to add turtles together, there is no `+` operation for things of type `mobilechelonian.Turtle`. Similarly, there is no `forward` method for `int`. This is what we mean when we say that the type of an object should determine what sort of behaviour it has. This description is not quite accurate, and if you are interested in why you should research \"Python duck typing\"."
   ]
  },
  {
   "cell_type": "code",
   "execution_count": 6,
   "id": "e80b20dd",
   "metadata": {},
   "outputs": [
    {
     "ename": "AttributeError",
     "evalue": "'int' object has no attribute 'forward'",
     "output_type": "error",
     "traceback": [
      "\u001b[0;31m---------------------------------------------------------------------------\u001b[0m",
      "\u001b[0;31mAttributeError\u001b[0m                            Traceback (most recent call last)",
      "Input \u001b[0;32mIn [6]\u001b[0m, in \u001b[0;36m<cell line: 2>\u001b[0;34m()\u001b[0m\n\u001b[1;32m      1\u001b[0m a \u001b[38;5;241m=\u001b[39m \u001b[38;5;241m12\u001b[39m\n\u001b[0;32m----> 2\u001b[0m \u001b[43ma\u001b[49m\u001b[38;5;241;43m.\u001b[39;49m\u001b[43mforward\u001b[49m(\u001b[38;5;241m10\u001b[39m)\n",
      "\u001b[0;31mAttributeError\u001b[0m: 'int' object has no attribute 'forward'"
     ]
    }
   ],
   "source": [
    "a = 12\n",
    "a.forward(10)"
   ]
  },
  {
   "cell_type": "markdown",
   "id": "054dba8e",
   "metadata": {},
   "source": [
    "There are many more types in Python, both built-in and in modules like `numpy` or `mobilechelonian`."
   ]
  },
  {
   "cell_type": "markdown",
   "id": "a2a3c4bf",
   "metadata": {},
   "source": [
    "## Conversion between types"
   ]
  },
  {
   "cell_type": "markdown",
   "id": "166ac530",
   "metadata": {},
   "source": [
    "We often have objects of one type, that we would prefer to have a different type. For example, we could have the string `\"1241\"` representing the number $1241$, but if we wish to do any arithmetic on this number we would have problems:"
   ]
  },
  {
   "cell_type": "code",
   "execution_count": 7,
   "id": "9050dd00",
   "metadata": {},
   "outputs": [
    {
     "ename": "TypeError",
     "evalue": "unsupported operand type(s) for +: 'int' and 'str'",
     "output_type": "error",
     "traceback": [
      "\u001b[0;31m---------------------------------------------------------------------------\u001b[0m",
      "\u001b[0;31mTypeError\u001b[0m                                 Traceback (most recent call last)",
      "Input \u001b[0;32mIn [7]\u001b[0m, in \u001b[0;36m<cell line: 2>\u001b[0;34m()\u001b[0m\n\u001b[1;32m      1\u001b[0m n \u001b[38;5;241m=\u001b[39m \u001b[38;5;124m\"\u001b[39m\u001b[38;5;124m1241\u001b[39m\u001b[38;5;124m\"\u001b[39m\n\u001b[0;32m----> 2\u001b[0m \u001b[38;5;241;43m3\u001b[39;49m\u001b[43m \u001b[49m\u001b[38;5;241;43m+\u001b[39;49m\u001b[43m \u001b[49m\u001b[43mn\u001b[49m\n",
      "\u001b[0;31mTypeError\u001b[0m: unsupported operand type(s) for +: 'int' and 'str'"
     ]
    }
   ],
   "source": [
    "n = \"1241\"\n",
    "3 + n"
   ]
  },
  {
   "cell_type": "markdown",
   "id": "57132069",
   "metadata": {},
   "source": [
    "Python gives us a `TypeError`, telling us that it does not make sense to use the operation `+` on types `int` and `str`. In order to add them, we should first convert `n` to an `int`: "
   ]
  },
  {
   "cell_type": "code",
   "execution_count": 8,
   "id": "168d7fa2",
   "metadata": {},
   "outputs": [
    {
     "data": {
      "text/plain": [
       "1244"
      ]
     },
     "execution_count": 8,
     "metadata": {},
     "output_type": "execute_result"
    }
   ],
   "source": [
    "3 + int(n)"
   ]
  },
  {
   "cell_type": "markdown",
   "id": "9f06165b",
   "metadata": {},
   "source": [
    "Note that having done `int(n)` has not made `n` an `int` - it just `returned` an `int`. If we wanted to make `n` an `int` we should write"
   ]
  },
  {
   "cell_type": "code",
   "execution_count": 9,
   "id": "d75a6023",
   "metadata": {},
   "outputs": [],
   "source": [
    "n = int(n)"
   ]
  },
  {
   "cell_type": "markdown",
   "id": "2240742e",
   "metadata": {},
   "source": [
    "This same idea applies to many types - if you want to convert `x` into a particular type `some_type`, you should use `some_type(x)`. This may or may not work, depending on whether Python has a way of doing the conversion. For example, Python doesn't know how to convert an `int` into a `set`:"
   ]
  },
  {
   "cell_type": "code",
   "execution_count": 10,
   "id": "fa83bce4",
   "metadata": {},
   "outputs": [
    {
     "ename": "TypeError",
     "evalue": "'int' object is not iterable",
     "output_type": "error",
     "traceback": [
      "\u001b[0;31m---------------------------------------------------------------------------\u001b[0m",
      "\u001b[0;31mTypeError\u001b[0m                                 Traceback (most recent call last)",
      "Input \u001b[0;32mIn [10]\u001b[0m, in \u001b[0;36m<cell line: 2>\u001b[0;34m()\u001b[0m\n\u001b[1;32m      1\u001b[0m n \u001b[38;5;241m=\u001b[39m \u001b[38;5;241m1241\u001b[39m\n\u001b[0;32m----> 2\u001b[0m \u001b[38;5;28;43mset\u001b[39;49m\u001b[43m(\u001b[49m\u001b[43mn\u001b[49m\u001b[43m)\u001b[49m\n",
      "\u001b[0;31mTypeError\u001b[0m: 'int' object is not iterable"
     ]
    }
   ],
   "source": [
    "n = 1241\n",
    "set(n)"
   ]
  },
  {
   "cell_type": "markdown",
   "id": "0d851af5",
   "metadata": {},
   "source": [
    "But it does know how to convert a `list` into a `set`:"
   ]
  },
  {
   "cell_type": "code",
   "execution_count": 11,
   "id": "38d2de91",
   "metadata": {},
   "outputs": [
    {
     "data": {
      "text/plain": [
       "{1241}"
      ]
     },
     "execution_count": 11,
     "metadata": {},
     "output_type": "execute_result"
    }
   ],
   "source": [
    "set([n])"
   ]
  },
  {
   "cell_type": "markdown",
   "id": "68c6ba8b",
   "metadata": {},
   "source": [
    "And it knows how to convert a `str` into a `set`:"
   ]
  },
  {
   "cell_type": "code",
   "execution_count": 12,
   "id": "a0fda8b2",
   "metadata": {},
   "outputs": [
    {
     "data": {
      "text/plain": [
       "{' ', 'H', 'W', 'd', 'e', 'l', 'o', 'r'}"
      ]
     },
     "execution_count": 12,
     "metadata": {},
     "output_type": "execute_result"
    }
   ],
   "source": [
    "s = \"Hello World\"\n",
    "set(s)"
   ]
  },
  {
   "cell_type": "code",
   "execution_count": null,
   "id": "928e25e3",
   "metadata": {},
   "outputs": [],
   "source": []
  }
 ],
 "metadata": {
  "kernelspec": {
   "display_name": "Python 3 (ipykernel)",
   "language": "python",
   "name": "python3"
  },
  "language_info": {
   "codemirror_mode": {
    "name": "ipython",
    "version": 3
   },
   "file_extension": ".py",
   "mimetype": "text/x-python",
   "name": "python",
   "nbconvert_exporter": "python",
   "pygments_lexer": "ipython3",
   "version": "3.9.12"
  },
  "toc": {
   "base_numbering": 1,
   "nav_menu": {},
   "number_sections": false,
   "sideBar": true,
   "skip_h1_title": false,
   "title_cell": "Table of Contents",
   "title_sidebar": "Contents",
   "toc_cell": false,
   "toc_position": {},
   "toc_section_display": true,
   "toc_window_display": true
  },
  "varInspector": {
   "cols": {
    "lenName": 16,
    "lenType": 16,
    "lenVar": 40
   },
   "kernels_config": {
    "python": {
     "delete_cmd_postfix": "",
     "delete_cmd_prefix": "del ",
     "library": "var_list.py",
     "varRefreshCmd": "print(var_dic_list())"
    },
    "r": {
     "delete_cmd_postfix": ") ",
     "delete_cmd_prefix": "rm(",
     "library": "var_list.r",
     "varRefreshCmd": "cat(var_dic_list()) "
    }
   },
   "types_to_exclude": [
    "module",
    "function",
    "builtin_function_or_method",
    "instance",
    "_Feature"
   ],
   "window_display": false
  }
 },
 "nbformat": 4,
 "nbformat_minor": 5
}
