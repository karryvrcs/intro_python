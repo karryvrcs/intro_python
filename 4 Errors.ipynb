{
 "cells": [
  {
   "cell_type": "markdown",
   "id": "27f5ec79",
   "metadata": {},
   "source": [
    "(error_notebook)= \n",
    "# Errors\n",
    "A lot of the time you spend programming will be in the process of \"debugging\" your code. This is the process of removing mistakes (\"bugs\") from the code so that it produces the correct answer. There are three categories of mistake, usually called ***errors***."
   ]
  },
  {
   "cell_type": "markdown",
   "id": "60e05cd8",
   "metadata": {},
   "source": [
    "## Syntax errors\n",
    "***Syntax errors*** are when you write code that Python simply cannot understand, because it doesn't follow the rules of Python code. For example, the following code cell produces an `SyntaxError`, because Python expects something to follow the plus sign."
   ]
  },
  {
   "cell_type": "code",
   "execution_count": 1,
   "id": "6d34e5e9",
   "metadata": {},
   "outputs": [
    {
     "ename": "SyntaxError",
     "evalue": "invalid syntax (94439829.py, line 1)",
     "output_type": "error",
     "traceback": [
      "\u001b[0;36m  Input \u001b[0;32mIn [1]\u001b[0;36m\u001b[0m\n\u001b[0;31m    a = 1 +\u001b[0m\n\u001b[0m           ^\u001b[0m\n\u001b[0;31mSyntaxError\u001b[0m\u001b[0;31m:\u001b[0m invalid syntax\n"
     ]
    }
   ],
   "source": [
    "a = 1 +"
   ]
  },
  {
   "cell_type": "markdown",
   "id": "ee45aa13",
   "metadata": {},
   "source": [
    "Syntax errors are detected before Python tries to run your code. You will probably need to fix a lot of syntax errors as you learn to code in Python, but thankfully Python is quite good at telling you where the mistake is. In the example above, Python indicates with an arrow that there is a problem after the `+` sign. This arrow is often useful and usually points to the correct place, but you should be aware that sometimes Python will be confused and tell you that the error is later than it is (very often on the next line)."
   ]
  },
  {
   "cell_type": "markdown",
   "id": "f2390483",
   "metadata": {},
   "source": [
    "## Runtime Errors\n",
    "***Runtime errors*** occur when the code seems to be valid, but for some reason Python cannot do what you told it to. In the following code cell, we intend to compute $a(3 + 12.4)$ for $a = 4$."
   ]
  },
  {
   "cell_type": "code",
   "execution_count": 2,
   "id": "ff79661d",
   "metadata": {},
   "outputs": [
    {
     "ename": "TypeError",
     "evalue": "'int' object is not callable",
     "output_type": "error",
     "traceback": [
      "\u001b[0;31m---------------------------------------------------------------------------\u001b[0m",
      "\u001b[0;31mTypeError\u001b[0m                                 Traceback (most recent call last)",
      "Input \u001b[0;32mIn [2]\u001b[0m, in \u001b[0;36m<cell line: 2>\u001b[0;34m()\u001b[0m\n\u001b[1;32m      1\u001b[0m a \u001b[38;5;241m=\u001b[39m \u001b[38;5;241m4\u001b[39m\n\u001b[0;32m----> 2\u001b[0m \u001b[43ma\u001b[49m\u001b[43m(\u001b[49m\u001b[38;5;241;43m3\u001b[39;49m\u001b[43m \u001b[49m\u001b[38;5;241;43m+\u001b[39;49m\u001b[43m \u001b[49m\u001b[38;5;241;43m12.4\u001b[39;49m\u001b[43m)\u001b[49m\n",
      "\u001b[0;31mTypeError\u001b[0m: 'int' object is not callable"
     ]
    }
   ],
   "source": [
    "a = 4\n",
    "a(3 + 12.4)"
   ]
  },
  {
   "cell_type": "markdown",
   "id": "1d072d62",
   "metadata": {},
   "source": [
    "This produces an error because Python thinks we are trying to call a function called `a` with the argument $3 + 12.4$, but `a` simply contains a number! It's not a syntax error, because `a(3 + 12.4)` is perfectly valid Python code if `a` happens to be the name of a function when that line is reached. Another example is the following, where we end up accidentally dividing by 0."
   ]
  },
  {
   "cell_type": "code",
   "execution_count": 3,
   "id": "937eac18",
   "metadata": {},
   "outputs": [
    {
     "ename": "ZeroDivisionError",
     "evalue": "division by zero",
     "output_type": "error",
     "traceback": [
      "\u001b[0;31m---------------------------------------------------------------------------\u001b[0m",
      "\u001b[0;31mZeroDivisionError\u001b[0m                         Traceback (most recent call last)",
      "Input \u001b[0;32mIn [3]\u001b[0m, in \u001b[0;36m<cell line: 2>\u001b[0;34m()\u001b[0m\n\u001b[1;32m      1\u001b[0m a \u001b[38;5;241m=\u001b[39m \u001b[38;5;241m3\u001b[39m\n\u001b[0;32m----> 2\u001b[0m b \u001b[38;5;241m=\u001b[39m \u001b[38;5;241;43m4\u001b[39;49m\u001b[43m \u001b[49m\u001b[38;5;241;43m/\u001b[39;49m\u001b[43m \u001b[49m\u001b[43m(\u001b[49m\u001b[38;5;241;43m3\u001b[39;49m\u001b[43m \u001b[49m\u001b[38;5;241;43m-\u001b[39;49m\u001b[43m \u001b[49m\u001b[43ma\u001b[49m\u001b[43m)\u001b[49m\n",
      "\u001b[0;31mZeroDivisionError\u001b[0m: division by zero"
     ]
    }
   ],
   "source": [
    "a = 3\n",
    "b = 4 / (3 - a)"
   ]
  },
  {
   "cell_type": "markdown",
   "id": "cf31b576",
   "metadata": {},
   "source": [
    "Here's another extremely common source of runtime errors: try restarting the kernel through the Kernel menu and then running the following cell."
   ]
  },
  {
   "cell_type": "code",
   "execution_count": 4,
   "id": "ab8d1ade",
   "metadata": {},
   "outputs": [
    {
     "ename": "NameError",
     "evalue": "name 'np' is not defined",
     "output_type": "error",
     "traceback": [
      "\u001b[0;31m---------------------------------------------------------------------------\u001b[0m",
      "\u001b[0;31mNameError\u001b[0m                                 Traceback (most recent call last)",
      "Input \u001b[0;32mIn [4]\u001b[0m, in \u001b[0;36m<cell line: 1>\u001b[0;34m()\u001b[0m\n\u001b[0;32m----> 1\u001b[0m \u001b[43mnp\u001b[49m\u001b[38;5;241m.\u001b[39msin(\u001b[38;5;241m0\u001b[39m)\n",
      "\u001b[0;31mNameError\u001b[0m: name 'np' is not defined"
     ]
    }
   ],
   "source": [
    "np.sin(0)"
   ]
  },
  {
   "cell_type": "markdown",
   "id": "fa9a23d7",
   "metadata": {},
   "source": [
    "A `NameError` will probably be produced telling you that `np` is not defined; this is because it hasn't been `import`ed yet, and the fix is to ensure that any module you use is `import`ed before it is used. You will likely encounter this error a lot!"
   ]
  },
  {
   "cell_type": "markdown",
   "id": "0a5f4001",
   "metadata": {},
   "source": [
    "## Semantic errors\n",
    "***Semantic errors*** occur when code runs, but does not produce the results that you expect. This is usually the most annoying sort of error to debug, since Python cannot tell you where the mistake is. When trying to fix semantic errors, its important to remember that Python very rarely makes mistakes; the problem is almost always that you are not telling it to do what you think you are!\n",
    "\n",
    "For example, we can obtain the number of digits of a number $n$ by rounding down the base-10 logarithm of $n$ and adding 1. *Numpy* provides a `log` function, and a `floor` function for rounding down, so we might try the following."
   ]
  },
  {
   "cell_type": "code",
   "execution_count": 5,
   "id": "d9184339",
   "metadata": {},
   "outputs": [
    {
     "data": {
      "text/plain": [
       "6.0"
      ]
     },
     "execution_count": 5,
     "metadata": {},
     "output_type": "execute_result"
    }
   ],
   "source": [
    "import numpy as np\n",
    "n = 312\n",
    "number_of_digits = np.floor(np.log(n)) + 1\n",
    "number_of_digits"
   ]
  },
  {
   "cell_type": "markdown",
   "id": "997fd049",
   "metadata": {},
   "source": [
    "The output of the last cell doesn't seem right! What went wrong? If we check the [list](https://numpy.org/doc/stable/reference/routines.math.html#) of mathematical functions provided by `numpy` again, we notice that `log` computes the natural logarithm rather than the base-10 logarithm. The function we need is called `log10`."
   ]
  },
  {
   "cell_type": "code",
   "execution_count": 6,
   "id": "f50decbb",
   "metadata": {},
   "outputs": [
    {
     "data": {
      "text/plain": [
       "3.0"
      ]
     },
     "execution_count": 6,
     "metadata": {},
     "output_type": "execute_result"
    }
   ],
   "source": [
    "n = 312\n",
    "number_of_digits = np.floor(np.log10(n)) + 1\n",
    "number_of_digits"
   ]
  },
  {
   "cell_type": "markdown",
   "id": "6aad753b",
   "metadata": {},
   "source": [
    "One of your best methods of preventing semantics errors is to *document* your code. Documenting your code means writing a description of what it is supposed to achieve. It goes hand-in-hand with adding comments to your code. In Jupyter Notebooks, we usually write about the code and/or provide an overview of how it works inside text cells like this one, and give more detailed discussion in comments inside the code. This idea is demonstated in the next few cells, which contain a semantic error:"
   ]
  },
  {
   "cell_type": "markdown",
   "id": "271278e5",
   "metadata": {},
   "source": [
    "In the following cell, we create a turtle on screen, and have it draw an equilateral triangle of side-length 100 units."
   ]
  },
  {
   "cell_type": "code",
   "execution_count": 7,
   "id": "99662cd0",
   "metadata": {},
   "outputs": [
    {
     "data": {
      "application/vnd.jupyter.widget-view+json": {
       "model_id": "a5d001d5abdb40ad9d4feb571b61d353",
       "version_major": 2,
       "version_minor": 0
      },
      "text/plain": [
       "Turtle()"
      ]
     },
     "metadata": {},
     "output_type": "display_data"
    }
   ],
   "source": [
    "from mobilechelonian import Turtle\n",
    "terry = Turtle()   # create a turtle, and call him terry\n",
    "\n",
    "terry.forward(100)  # move forward 100 steps to draw one side of the triangle\n",
    "# corner angle of an equilateral triangle is 60 degrees, so turn 60 degrees to the left\n",
    "terry.left(60)\n",
    "terry.forward(100)\n",
    "terry.home()       # return to start to draw last side of triangle"
   ]
  },
  {
   "cell_type": "markdown",
   "id": "8a5f7e63",
   "metadata": {},
   "source": [
    "Writing down what the code is *supposed* to achieve is good practice; it clarifies the code for both you and any other reader of your Notebook. In the example above, a reader can clearly see that the code does not do the right thing, since the triangle is not equilateral. Without explanations, the reader could waste a lot of time trying to work out what the code is intended to do (and in this case would never even know that it is incorrect!)"
   ]
  }
 ],
 "metadata": {
  "kernelspec": {
   "display_name": "Python 3 (ipykernel)",
   "language": "python",
   "name": "python3"
  },
  "language_info": {
   "codemirror_mode": {
    "name": "ipython",
    "version": 3
   },
   "file_extension": ".py",
   "mimetype": "text/x-python",
   "name": "python",
   "nbconvert_exporter": "python",
   "pygments_lexer": "ipython3",
   "version": "3.9.12"
  },
  "toc": {
   "base_numbering": 1,
   "nav_menu": {},
   "number_sections": false,
   "sideBar": true,
   "skip_h1_title": false,
   "title_cell": "Table of Contents",
   "title_sidebar": "Contents",
   "toc_cell": false,
   "toc_position": {
    "height": "calc(100% - 180px)",
    "left": "10px",
    "top": "150px",
    "width": "165px"
   },
   "toc_section_display": true,
   "toc_window_display": true
  },
  "varInspector": {
   "cols": {
    "lenName": 16,
    "lenType": 16,
    "lenVar": 40
   },
   "kernels_config": {
    "python": {
     "delete_cmd_postfix": "",
     "delete_cmd_prefix": "del ",
     "library": "var_list.py",
     "varRefreshCmd": "print(var_dic_list())"
    },
    "r": {
     "delete_cmd_postfix": ") ",
     "delete_cmd_prefix": "rm(",
     "library": "var_list.r",
     "varRefreshCmd": "cat(var_dic_list()) "
    }
   },
   "position": {
    "height": "144.844px",
    "left": "937px",
    "right": "20px",
    "top": "110px",
    "width": "350px"
   },
   "types_to_exclude": [
    "module",
    "function",
    "builtin_function_or_method",
    "instance",
    "_Feature"
   ],
   "window_display": false
  }
 },
 "nbformat": 4,
 "nbformat_minor": 5
}
