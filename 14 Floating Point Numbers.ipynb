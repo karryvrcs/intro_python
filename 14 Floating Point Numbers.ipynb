{
 "cells": [
  {
   "cell_type": "markdown",
   "id": "dc0653ca",
   "metadata": {},
   "source": [
    "# Floating point numbers"
   ]
  },
  {
   "cell_type": "markdown",
   "id": "14249f22",
   "metadata": {},
   "source": [
    "We've seen that we can represent decimals using `floats`, and also that these `floats` can sometimes have strange behaviour."
   ]
  },
  {
   "cell_type": "code",
   "execution_count": 1,
   "id": "04833098",
   "metadata": {},
   "outputs": [
    {
     "data": {
      "text/plain": [
       "0.30000000000000004"
      ]
     },
     "execution_count": 1,
     "metadata": {},
     "output_type": "execute_result"
    }
   ],
   "source": [
    "0.1 + 0.2"
   ]
  },
  {
   "cell_type": "markdown",
   "id": "cfb85cb2",
   "metadata": {},
   "source": [
    "It's important to understand what is going on here. A ***floating point number*** is one that is (approximately) represented in a format similar to \"scientific notation\", but where the number of significant figures and the base of the exponent is fixed. For example, we might fix the number of significant figures at $16$ and the base as $10$, and represent two numbers of very different magnitudes:\n",
    "\n",
    "$$ \n",
    "\\sqrt{2} \\approx 1.414213562373095 \\times 10^{0}, \\\\\n",
    "e^{35} \\approx  1.586013452313431 \\times 10^{15}.\n",
    "$$\n"
   ]
  },
  {
   "cell_type": "markdown",
   "id": "4c63375f",
   "metadata": {},
   "source": [
    "The significant digits are called the ***significand*** or ***mantissa***, and the exponent is conveniently called the exponent.\n",
    "\n",
    "Note that the error in the second approximation will be much larger in absolute value. The term \"floating point\" refers to how the exponent moves the decimal point across the significant figures. \n",
    "\n",
    "Computers typically use a floating-point system to represent non-integer real numbers. The system used by Python is a little different to the representation above. It assumes that the point lies after the last significant digit, rather than after the first as above. It also uses base-2 (binary), and stores 53 significant binary digits (***bits***) along with 11 bits for the exponent, for a total of 64 bits (8 bytes). This system is called a ***double-precision*** float. The two numbers above would be represented as follows:\n",
    "\n",
    "$$\n",
    "\\sqrt{2} \\approx 6369051672525773 \\times 2^{-52}, \\\\\n",
    "e^{35} \\approx 6344053809253723 \\times 2^{-2}.\n",
    "$$\n",
    "\n",
    "Here we have given the significands and exponents in base ten for convenience, but they would be stored in binary.\n",
    "\n",
    "Since $2^{53} \\approx 10^{16}$, we roughly get 16 significant decimal digits in a double-precision float. There are also ***single-precision*** floats, which take up 4 bytes (24 significant bits and 8 exponent bits). This translates into around 7 significant decimal digits. "
   ]
  },
  {
   "cell_type": "markdown",
   "id": "c24ca6d8",
   "metadata": {},
   "source": [
    "## Precision and the machine epsilon"
   ]
  },
  {
   "cell_type": "markdown",
   "id": "82f4e0e6",
   "metadata": {},
   "source": [
    "Since there are a fixed number of significant digits, there are often issues when adding together numbers of different magnitudes. Consider the following:"
   ]
  },
  {
   "cell_type": "code",
   "execution_count": 2,
   "id": "8c285311",
   "metadata": {},
   "outputs": [
    {
     "data": {
      "text/plain": [
       "True"
      ]
     },
     "execution_count": 2,
     "metadata": {},
     "output_type": "execute_result"
    }
   ],
   "source": [
    "import numpy as np\n",
    "\n",
    "np.exp(35) + 0.1 == np.exp(35)"
   ]
  },
  {
   "cell_type": "markdown",
   "id": "e4a1c59a",
   "metadata": {},
   "source": [
    "Since the exponent for $e^{35}$ is large, the fixed 53 significant bits cannot show the difference between $e^{35}$ and $e^{35} + 0.1$.\n",
    "\n",
    "A very important example comes from considering numbers just slightly larger than 1."
   ]
  },
  {
   "cell_type": "code",
   "execution_count": 3,
   "id": "621a351c",
   "metadata": {},
   "outputs": [
    {
     "data": {
      "text/plain": [
       "False"
      ]
     },
     "execution_count": 3,
     "metadata": {},
     "output_type": "execute_result"
    }
   ],
   "source": [
    "# 1e-14 is shorthand for 10**(-14).\n",
    "# Test if Python can distinguish between 1 + 1e-14 and 1\n",
    "1 + 1e-14 == 1"
   ]
  },
  {
   "cell_type": "code",
   "execution_count": 4,
   "id": "f30d1045",
   "metadata": {},
   "outputs": [
    {
     "data": {
      "text/plain": [
       "False"
      ]
     },
     "execution_count": 4,
     "metadata": {},
     "output_type": "execute_result"
    }
   ],
   "source": [
    "1 + 1e-15 == 1"
   ]
  },
  {
   "cell_type": "code",
   "execution_count": 5,
   "id": "ea824b67",
   "metadata": {},
   "outputs": [
    {
     "data": {
      "text/plain": [
       "True"
      ]
     },
     "execution_count": 5,
     "metadata": {},
     "output_type": "execute_result"
    }
   ],
   "source": [
    "1 + 1e-16 == 1"
   ]
  },
  {
   "cell_type": "markdown",
   "id": "f947014a",
   "metadata": {},
   "source": [
    "Python cannot distinguish between $1$ and $1 + 10^{-16}$; they are represented by the same float. This value of $10^{-16}$ is a good approximation for $2^{-53}$, which is the \"true\" largest value $\\varepsilon$ such that Python cannot distinguish between $1$ and $1 + \\varepsilon$. This value $\\varepsilon$ is called the ***machine epsilon***, and represents the relative error that appears in floating point representations.\n",
    "\n",
    "It is important to remember that the machine epsilon is a relative error. The gaps between indistinguishable floats grow as the exponent increases, and shrink as it decreases - the machine epsilon is the gap when the exponent is 0. The machine epsilon ***is not*** the smallest representible number - see the [section on underflow](#Overflow-and-underflow).\n",
    "\n",
    "We saw above that $e^{35}$ and $e^{35} + 0.1$ also could not be distinguished. We can use the machine epsilon to get a rough estimate for the largest value $\\delta$ such that $e^{35} + \\delta$ is indistinguishable from $e^{35}$ as follows:"
   ]
  },
  {
   "cell_type": "code",
   "execution_count": 6,
   "id": "8f0f6dda",
   "metadata": {},
   "outputs": [
    {
     "data": {
      "text/plain": [
       "0.17608286521236036"
      ]
     },
     "execution_count": 6,
     "metadata": {},
     "output_type": "execute_result"
    }
   ],
   "source": [
    "delta = np.exp(35) * 2**-53\n",
    "\n",
    "delta"
   ]
  },
  {
   "cell_type": "code",
   "execution_count": 7,
   "id": "71edb36f",
   "metadata": {},
   "outputs": [
    {
     "data": {
      "text/plain": [
       "False"
      ]
     },
     "execution_count": 7,
     "metadata": {},
     "output_type": "execute_result"
    }
   ],
   "source": [
    "np.exp(35) + delta == np.exp(35)"
   ]
  },
  {
   "cell_type": "code",
   "execution_count": 8,
   "id": "2f0dc875",
   "metadata": {},
   "outputs": [
    {
     "data": {
      "text/plain": [
       "True"
      ]
     },
     "execution_count": 8,
     "metadata": {},
     "output_type": "execute_result"
    }
   ],
   "source": [
    "np.exp(35) + 0.5 * delta == np.exp(35)"
   ]
  },
  {
   "cell_type": "markdown",
   "id": "de70ee53",
   "metadata": {},
   "source": [
    "## Binary representations\n",
    "\n",
    "There is another issue that can crop up with floats: the fact that they use a binary representation means that some simple decimals cannot be easily represented. For example, the number $0.1$ is a nice decimal fraction, but cannot be represented as a finite binary fraction. This can cause some strange effects:"
   ]
  },
  {
   "cell_type": "code",
   "execution_count": 9,
   "id": "19e361a7",
   "metadata": {},
   "outputs": [
    {
     "data": {
      "text/plain": [
       "0.30000000000000004"
      ]
     },
     "execution_count": 9,
     "metadata": {},
     "output_type": "execute_result"
    }
   ],
   "source": [
    "a = 0.1\n",
    "3 * a"
   ]
  },
  {
   "cell_type": "code",
   "execution_count": 10,
   "id": "c1894b71",
   "metadata": {},
   "outputs": [
    {
     "data": {
      "text/plain": [
       "False"
      ]
     },
     "execution_count": 10,
     "metadata": {},
     "output_type": "execute_result"
    }
   ],
   "source": [
    "3 * a == 0.3"
   ]
  },
  {
   "cell_type": "markdown",
   "id": "543096e9",
   "metadata": {},
   "source": [
    "The issue here is that `a` will be the closest representable float to $0.1$, and `3 * a` is then not necessarily the closest float to the true value $0.3$. You can find out the representation that Python is using:"
   ]
  },
  {
   "cell_type": "code",
   "execution_count": 11,
   "id": "26eae204",
   "metadata": {},
   "outputs": [
    {
     "data": {
      "text/plain": [
       "(3602879701896397, 36028797018963968)"
      ]
     },
     "execution_count": 11,
     "metadata": {},
     "output_type": "execute_result"
    }
   ],
   "source": [
    "(0.1).as_integer_ratio()"
   ]
  },
  {
   "cell_type": "code",
   "execution_count": 12,
   "id": "8b92427e",
   "metadata": {},
   "outputs": [
    {
     "data": {
      "text/plain": [
       "55.0"
      ]
     },
     "execution_count": 12,
     "metadata": {},
     "output_type": "execute_result"
    }
   ],
   "source": [
    "np.log2(36028797018963968)"
   ]
  },
  {
   "cell_type": "markdown",
   "id": "c376b3a2",
   "metadata": {},
   "source": [
    "This means that $0.1$ is being represented as $\\frac{3602879701896397}{2^{55}}$."
   ]
  },
  {
   "cell_type": "markdown",
   "id": "2d57f346",
   "metadata": {},
   "source": [
    "## Comparing floats\n",
    "\n",
    "Given the issues above, it is often not a good idea to directly compare floats `x` and `y` using `x == y`. Instead, consider testing their absolute difference: `abs(x - y) <= err` for some fixed value of `err`."
   ]
  },
  {
   "cell_type": "markdown",
   "id": "6ba5ffdb",
   "metadata": {},
   "source": [
    "# Overflow and underflow"
   ]
  },
  {
   "cell_type": "markdown",
   "id": "649ca195",
   "metadata": {},
   "source": [
    "As well as the limitations discussed above, caused by the number of significant bits, there are limitations caused by the fixed number of bits available for the exponent. Since we have 11 bits available for the exponent, and one of those bits is used to determine whether it is positive or negative, the exponent can go up to $2^{10} - 1$."
   ]
  },
  {
   "cell_type": "code",
   "execution_count": 13,
   "id": "63407a8e",
   "metadata": {},
   "outputs": [
    {
     "data": {
      "text/plain": [
       "8.98846567431158e+307"
      ]
     },
     "execution_count": 13,
     "metadata": {},
     "output_type": "execute_result"
    }
   ],
   "source": [
    "2.0 ** (2 ** 10 - 1)"
   ]
  },
  {
   "cell_type": "code",
   "execution_count": 14,
   "id": "453da514",
   "metadata": {},
   "outputs": [
    {
     "ename": "OverflowError",
     "evalue": "(34, 'Result too large')",
     "output_type": "error",
     "traceback": [
      "\u001b[0;31m---------------------------------------------------------------------------\u001b[0m",
      "\u001b[0;31mOverflowError\u001b[0m                             Traceback (most recent call last)",
      "Input \u001b[0;32mIn [14]\u001b[0m, in \u001b[0;36m<cell line: 1>\u001b[0;34m()\u001b[0m\n\u001b[0;32m----> 1\u001b[0m \u001b[38;5;241;43m2.0\u001b[39;49m\u001b[43m \u001b[49m\u001b[38;5;241;43m*\u001b[39;49m\u001b[38;5;241;43m*\u001b[39;49m\u001b[43m \u001b[49m\u001b[43m(\u001b[49m\u001b[38;5;241;43m2\u001b[39;49m\u001b[43m \u001b[49m\u001b[38;5;241;43m*\u001b[39;49m\u001b[38;5;241;43m*\u001b[39;49m\u001b[43m \u001b[49m\u001b[38;5;241;43m10\u001b[39;49m\u001b[43m)\u001b[49m\n",
      "\u001b[0;31mOverflowError\u001b[0m: (34, 'Result too large')"
     ]
    }
   ],
   "source": [
    "2.0 ** (2 ** 10)"
   ]
  },
  {
   "cell_type": "markdown",
   "id": "489639a7",
   "metadata": {},
   "source": [
    "An `OverflowError` occurs when the result of a calculation is too large to fit in a `float`.\n",
    "\n",
    "A similar issue can occur when the exponent gets too small, though here we don't get an error."
   ]
  },
  {
   "cell_type": "code",
   "execution_count": 15,
   "id": "3e8de70b",
   "metadata": {},
   "outputs": [
    {
     "data": {
      "text/plain": [
       "5e-324"
      ]
     },
     "execution_count": 15,
     "metadata": {},
     "output_type": "execute_result"
    }
   ],
   "source": [
    "2**-1074 "
   ]
  },
  {
   "cell_type": "code",
   "execution_count": 16,
   "id": "01241443",
   "metadata": {},
   "outputs": [
    {
     "data": {
      "text/plain": [
       "0.0"
      ]
     },
     "execution_count": 16,
     "metadata": {},
     "output_type": "execute_result"
    }
   ],
   "source": [
    "2**-1075"
   ]
  },
  {
   "cell_type": "markdown",
   "id": "5b18c8a8",
   "metadata": {},
   "source": [
    "## Infinity and NaN"
   ]
  },
  {
   "cell_type": "markdown",
   "id": "5b65a804",
   "metadata": {},
   "source": [
    "If we directly create a `float` which is too large, Python will treat it like infinity."
   ]
  },
  {
   "cell_type": "code",
   "execution_count": 17,
   "id": "ccf58f07",
   "metadata": {},
   "outputs": [
    {
     "data": {
      "text/plain": [
       "inf"
      ]
     },
     "execution_count": 17,
     "metadata": {},
     "output_type": "execute_result"
    }
   ],
   "source": [
    "# 2.3 * (10**310) is, of course, equal to infinity\n",
    "2.3e310"
   ]
  },
  {
   "cell_type": "markdown",
   "id": "18773563",
   "metadata": {},
   "source": [
    "The other special value is `nan`, standing for \"not a number\", which can arise if your calculations take a strange turn like multiplying infinity by 0."
   ]
  },
  {
   "cell_type": "code",
   "execution_count": 18,
   "id": "a8eb1db3",
   "metadata": {
    "run_control": {
     "marked": false
    }
   },
   "outputs": [
    {
     "data": {
      "text/plain": [
       "nan"
      ]
     },
     "execution_count": 18,
     "metadata": {},
     "output_type": "execute_result"
    }
   ],
   "source": [
    "# infinity times 0 is not a number\n",
    "2.3e310 * 0"
   ]
  },
  {
   "cell_type": "code",
   "execution_count": 19,
   "id": "574d8287",
   "metadata": {},
   "outputs": [
    {
     "data": {
      "text/plain": [
       "nan"
      ]
     },
     "execution_count": 19,
     "metadata": {},
     "output_type": "execute_result"
    }
   ],
   "source": [
    "# infinity minus infinity is not a number\n",
    "2.3e310 - 4.5e350"
   ]
  }
 ],
 "metadata": {
  "kernelspec": {
   "display_name": "Python 3 (ipykernel)",
   "language": "python",
   "name": "python3"
  },
  "language_info": {
   "codemirror_mode": {
    "name": "ipython",
    "version": 3
   },
   "file_extension": ".py",
   "mimetype": "text/x-python",
   "name": "python",
   "nbconvert_exporter": "python",
   "pygments_lexer": "ipython3",
   "version": "3.9.12"
  },
  "toc": {
   "base_numbering": 1,
   "nav_menu": {},
   "number_sections": false,
   "sideBar": true,
   "skip_h1_title": false,
   "title_cell": "Table of Contents",
   "title_sidebar": "Contents",
   "toc_cell": false,
   "toc_position": {},
   "toc_section_display": true,
   "toc_window_display": true
  },
  "varInspector": {
   "cols": {
    "lenName": 16,
    "lenType": 16,
    "lenVar": 40
   },
   "kernels_config": {
    "python": {
     "delete_cmd_postfix": "",
     "delete_cmd_prefix": "del ",
     "library": "var_list.py",
     "varRefreshCmd": "print(var_dic_list())"
    },
    "r": {
     "delete_cmd_postfix": ") ",
     "delete_cmd_prefix": "rm(",
     "library": "var_list.r",
     "varRefreshCmd": "cat(var_dic_list()) "
    }
   },
   "types_to_exclude": [
    "module",
    "function",
    "builtin_function_or_method",
    "instance",
    "_Feature"
   ],
   "window_display": false
  }
 },
 "nbformat": 4,
 "nbformat_minor": 5
}
