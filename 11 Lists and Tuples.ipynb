{
 "cells": [
  {
   "cell_type": "markdown",
   "id": "a9861219",
   "metadata": {},
   "source": [
    "# Lists\n",
    "Previous sheets only showed very simple \"types\" of data in Python: integers, floating point numbers, and strings. A great deal of programming involves manipulating different combinations of these data types. In order to do so, we often store them in ***data structures***. The simplest of these data structures is the `list`. A `list` is precisely what it claims to be: a sequence of objects in some order."
   ]
  },
  {
   "cell_type": "code",
   "execution_count": 1,
   "id": "2eb4a1af",
   "metadata": {},
   "outputs": [],
   "source": [
    "my_first_list = [\"apple\", 3, \"banana\", 4.2]"
   ]
  },
  {
   "cell_type": "markdown",
   "id": "7944787d",
   "metadata": {},
   "source": [
    "The variable `my_first_list` now contains 4 objects: 2 strings, an integer, and a float. We can store *any* object in a list, including some things you might not necessarily think of as objects. For example, in Python functions are objects, so we can store functions in lists!"
   ]
  },
  {
   "cell_type": "code",
   "execution_count": 2,
   "id": "597f8070",
   "metadata": {},
   "outputs": [],
   "source": [
    "import numpy as np\n",
    "my_function_list = [np.sin, np.cos, np.tan]"
   ]
  },
  {
   "cell_type": "markdown",
   "id": "d116401c",
   "metadata": {},
   "source": [
    "We can add things to the end of a list:"
   ]
  },
  {
   "cell_type": "code",
   "execution_count": 3,
   "id": "feec98e8",
   "metadata": {},
   "outputs": [
    {
     "data": {
      "text/plain": [
       "['apple', 3, 'banana', 4.2, 23]"
      ]
     },
     "execution_count": 3,
     "metadata": {},
     "output_type": "execute_result"
    }
   ],
   "source": [
    "my_first_list.append(23)\n",
    "my_first_list"
   ]
  },
  {
   "cell_type": "markdown",
   "id": "66b2feb1",
   "metadata": {},
   "source": [
    "And we can remove things from a list:"
   ]
  },
  {
   "cell_type": "code",
   "execution_count": 4,
   "id": "9a80e027",
   "metadata": {},
   "outputs": [
    {
     "data": {
      "text/plain": [
       "['apple', 3, 'banana', 23]"
      ]
     },
     "execution_count": 4,
     "metadata": {},
     "output_type": "execute_result"
    }
   ],
   "source": [
    "my_first_list.remove(4.2)\n",
    "my_first_list"
   ]
  },
  {
   "cell_type": "markdown",
   "id": "c3a74f69",
   "metadata": {},
   "source": [
    "In order to access the elements of the list, we use square brackets:"
   ]
  },
  {
   "cell_type": "code",
   "execution_count": 5,
   "id": "b863134b",
   "metadata": {},
   "outputs": [
    {
     "data": {
      "text/plain": [
       "'apple'"
      ]
     },
     "execution_count": 5,
     "metadata": {},
     "output_type": "execute_result"
    }
   ],
   "source": [
    "my_first_list[0]"
   ]
  },
  {
   "cell_type": "markdown",
   "id": "3c1c0dfd",
   "metadata": {},
   "source": [
    "***Important note: the first element of a list has index 0! This is a very common source of errors.***"
   ]
  },
  {
   "cell_type": "code",
   "execution_count": 6,
   "id": "a16f9caa",
   "metadata": {},
   "outputs": [
    {
     "data": {
      "text/plain": [
       "23"
      ]
     },
     "execution_count": 6,
     "metadata": {},
     "output_type": "execute_result"
    }
   ],
   "source": [
    "my_first_list[3]"
   ]
  },
  {
   "cell_type": "markdown",
   "id": "6f2f493e",
   "metadata": {},
   "source": [
    "We can also count from the end using negative numbers; this can be very convenient!"
   ]
  },
  {
   "cell_type": "code",
   "execution_count": 7,
   "id": "3a2eb0ba",
   "metadata": {},
   "outputs": [
    {
     "data": {
      "text/plain": [
       "23"
      ]
     },
     "execution_count": 7,
     "metadata": {},
     "output_type": "execute_result"
    }
   ],
   "source": [
    "my_first_list[-1]"
   ]
  },
  {
   "cell_type": "markdown",
   "id": "8d29e7bd",
   "metadata": {},
   "source": [
    "To check whether an element is in a list, you can use `in`:"
   ]
  },
  {
   "cell_type": "code",
   "execution_count": 8,
   "id": "f0804918",
   "metadata": {},
   "outputs": [
    {
     "data": {
      "text/plain": [
       "True"
      ]
     },
     "execution_count": 8,
     "metadata": {},
     "output_type": "execute_result"
    }
   ],
   "source": [
    "\"banana\" in my_first_list"
   ]
  },
  {
   "cell_type": "markdown",
   "id": "f0d2ba2d",
   "metadata": {},
   "source": [
    "To create an empty list, use `[]`:"
   ]
  },
  {
   "cell_type": "code",
   "execution_count": 9,
   "id": "ddbaf324",
   "metadata": {},
   "outputs": [],
   "source": [
    "empty_list = []"
   ]
  },
  {
   "cell_type": "markdown",
   "id": "e2ea134d",
   "metadata": {},
   "source": [
    "You can get the length of a list using `len`:"
   ]
  },
  {
   "cell_type": "code",
   "execution_count": 10,
   "id": "6875b0e5",
   "metadata": {},
   "outputs": [
    {
     "data": {
      "text/plain": [
       "4"
      ]
     },
     "execution_count": 10,
     "metadata": {},
     "output_type": "execute_result"
    }
   ],
   "source": [
    "len(my_first_list)"
   ]
  },
  {
   "cell_type": "markdown",
   "id": "bd7f631f",
   "metadata": {},
   "source": [
    "We could use `len` to help us loop through a list:"
   ]
  },
  {
   "cell_type": "code",
   "execution_count": 11,
   "id": "0a91c787",
   "metadata": {},
   "outputs": [
    {
     "name": "stdout",
     "output_type": "stream",
     "text": [
      "my_first_list element 0: apple\n",
      "my_first_list element 1: 3\n",
      "my_first_list element 2: banana\n",
      "my_first_list element 3: 23\n"
     ]
    }
   ],
   "source": [
    "for i in range(len(my_first_list)):\n",
    "    print(f\"my_first_list element {i}: {my_first_list[i]}\")"
   ]
  },
  {
   "cell_type": "markdown",
   "id": "5632d002",
   "metadata": {},
   "source": [
    "However, Python provides a more elegant way of looping through a list; in general it has the form\n",
    "```\n",
    "for x in some_list:\n",
    "    loop body\n",
    "statements to run after loop\n",
    "```"
   ]
  },
  {
   "cell_type": "code",
   "execution_count": 12,
   "id": "67365bb3",
   "metadata": {},
   "outputs": [
    {
     "data": {
      "text/plain": [
       "['appleappleapple', 9, 'bananabananabanana', 69]"
      ]
     },
     "execution_count": 12,
     "metadata": {},
     "output_type": "execute_result"
    }
   ],
   "source": [
    "L = []\n",
    "for x in my_first_list:\n",
    "    L.append(x * 3)  # this will multiply numbers by 3, and repeat strings 3 times\n",
    "L"
   ]
  },
  {
   "cell_type": "markdown",
   "id": "5b26ce01",
   "metadata": {},
   "source": [
    "If you want to loop through the elements of a list and their positions at the same time, use `enumerate`:"
   ]
  },
  {
   "cell_type": "code",
   "execution_count": 13,
   "id": "53e763ea",
   "metadata": {},
   "outputs": [
    {
     "name": "stdout",
     "output_type": "stream",
     "text": [
      "my first list, element 0: apple\n",
      "my first list, element 1: 3\n",
      "my first list, element 2: banana\n",
      "my first list, element 3: 23\n"
     ]
    }
   ],
   "source": [
    "for i, x in enumerate(my_first_list):\n",
    "    # i will refer to the position in the list, x to the element\n",
    "    print(f\"my first list, element {i}: {x}\")"
   ]
  },
  {
   "cell_type": "markdown",
   "id": "88b9eb98",
   "metadata": {},
   "source": [
    "You can pass lists as arguments to a function, just like any other variable:"
   ]
  },
  {
   "cell_type": "code",
   "execution_count": 14,
   "id": "ab842fc9",
   "metadata": {},
   "outputs": [
    {
     "data": {
      "text/plain": [
       "4"
      ]
     },
     "execution_count": 14,
     "metadata": {},
     "output_type": "execute_result"
    }
   ],
   "source": [
    "# Returns the first even number from a list.\n",
    "def first_even_number(L):\n",
    "    for x in L:\n",
    "        if x % 2 == 0:\n",
    "            return x\n",
    "\n",
    "# This might look like five arguments, but is actually just one argument in a list.\n",
    "first_even_number([3, 5, 4, 6, 8])"
   ]
  },
  {
   "cell_type": "markdown",
   "id": "d26b7c46",
   "metadata": {},
   "source": [
    "## Nested Lists\n",
    "One of the most important type of object we can store in a list is other lists.\n",
    "In the following example, we create a list containing 2 lists, each of length 2. We might use this to represent a $2\\times 2$ matrix, where each inner list represents a row."
   ]
  },
  {
   "cell_type": "code",
   "execution_count": 15,
   "id": "5e95ef4e",
   "metadata": {},
   "outputs": [],
   "source": [
    "mat = [[1, 0], [-0.3, 4]]"
   ]
  },
  {
   "cell_type": "markdown",
   "id": "746bb2f4",
   "metadata": {},
   "source": [
    "In order to access the elements of the inner lists, simply use two sets of square brackets like so:"
   ]
  },
  {
   "cell_type": "code",
   "execution_count": 16,
   "id": "a3902ab1",
   "metadata": {},
   "outputs": [
    {
     "data": {
      "text/plain": [
       "0"
      ]
     },
     "execution_count": 16,
     "metadata": {},
     "output_type": "execute_result"
    }
   ],
   "source": [
    "# first row, second entry\n",
    "mat[0][1]"
   ]
  },
  {
   "cell_type": "markdown",
   "id": "e83d2ed6",
   "metadata": {},
   "source": [
    "In practice, if you are working with matrices of numbers you will almost always want to use an `array` from `numpy` instead of a list-of-lists; these are detailed in another Notebook."
   ]
  },
  {
   "cell_type": "markdown",
   "id": "8cd67ebc",
   "metadata": {},
   "source": [
    "Aside: we can even put a list inside itself! This is almost always a recipe for trouble."
   ]
  },
  {
   "cell_type": "code",
   "execution_count": 17,
   "id": "5c1eb218",
   "metadata": {},
   "outputs": [
    {
     "data": {
      "text/plain": [
       "[1, 2, 3, [...]]"
      ]
     },
     "execution_count": 17,
     "metadata": {},
     "output_type": "execute_result"
    }
   ],
   "source": [
    "L = [1, 2, 3]\n",
    "L.append(L)\n",
    "L"
   ]
  },
  {
   "cell_type": "markdown",
   "id": "47ec20e9",
   "metadata": {},
   "source": [
    "# Tuples\n",
    "\n",
    "Another way of representing a sequence of objects is as a `tuple`. These behave very similarly to lists, with the major difference that you cannot alter the contents of a tuple once it is created (it is ***immutable***). This might seem inconvenient, but it is often very useful. The guarantee that a tuple will not change can add some \"safety\" to your code and make it easier to reason with. To create a tuple, use round brackets `( )` instead of square brackets:"
   ]
  },
  {
   "cell_type": "code",
   "execution_count": 18,
   "id": "ad8abcd5",
   "metadata": {},
   "outputs": [
    {
     "data": {
      "text/plain": [
       "2"
      ]
     },
     "execution_count": 18,
     "metadata": {},
     "output_type": "execute_result"
    }
   ],
   "source": [
    "tup = (1, 2, 3)\n",
    "\n",
    "# access the elements just like a list\n",
    "tup[1]"
   ]
  },
  {
   "cell_type": "markdown",
   "id": "a01e8399",
   "metadata": {},
   "source": [
    "If you need to create a tuple with a single element (say the number $1$), you cannot just write `(1)` as you would write `[1]` to create a list. This is because Python will interpret `(1)` as a bracketed expression which evaluates to $1$, rather than a tuple containing $1$. Instead, write `(1,)`:"
   ]
  },
  {
   "cell_type": "code",
   "execution_count": 19,
   "id": "3c6e8b74",
   "metadata": {},
   "outputs": [
    {
     "data": {
      "text/plain": [
       "1"
      ]
     },
     "execution_count": 19,
     "metadata": {},
     "output_type": "execute_result"
    }
   ],
   "source": [
    "tup = (1,)\n",
    "\n",
    "len(tup)"
   ]
  },
  {
   "cell_type": "markdown",
   "id": "6780a6d9",
   "metadata": {},
   "source": [
    "Since tuples are immutable, you cannot add or remove elements from them:"
   ]
  },
  {
   "cell_type": "code",
   "execution_count": 20,
   "id": "87882434",
   "metadata": {},
   "outputs": [
    {
     "ename": "AttributeError",
     "evalue": "'tuple' object has no attribute 'append'",
     "output_type": "error",
     "traceback": [
      "\u001b[0;31m---------------------------------------------------------------------------\u001b[0m",
      "\u001b[0;31mAttributeError\u001b[0m                            Traceback (most recent call last)",
      "Input \u001b[0;32mIn [20]\u001b[0m, in \u001b[0;36m<cell line: 1>\u001b[0;34m()\u001b[0m\n\u001b[0;32m----> 1\u001b[0m \u001b[43mtup\u001b[49m\u001b[38;5;241;43m.\u001b[39;49m\u001b[43mappend\u001b[49m(\u001b[38;5;241m1\u001b[39m)\n",
      "\u001b[0;31mAttributeError\u001b[0m: 'tuple' object has no attribute 'append'"
     ]
    }
   ],
   "source": [
    "tup.append(1)"
   ]
  },
  {
   "cell_type": "markdown",
   "id": "9203995e",
   "metadata": {},
   "source": [
    "You can convert between tuples and lists using the `tuple` and `list` functions:"
   ]
  },
  {
   "cell_type": "code",
   "execution_count": 21,
   "id": "fb63bf1c",
   "metadata": {},
   "outputs": [
    {
     "data": {
      "text/plain": [
       "(1, 2, 3)"
      ]
     },
     "execution_count": 21,
     "metadata": {},
     "output_type": "execute_result"
    }
   ],
   "source": [
    "L = [1, 2, 3]\n",
    "\n",
    "tuple(L)"
   ]
  },
  {
   "cell_type": "code",
   "execution_count": 22,
   "id": "d2517a06",
   "metadata": {},
   "outputs": [
    {
     "data": {
      "text/plain": [
       "['a', 'b', 'c']"
      ]
     },
     "execution_count": 22,
     "metadata": {},
     "output_type": "execute_result"
    }
   ],
   "source": [
    "tup = (\"a\", \"b\", \"c\")\n",
    "\n",
    "list(tup)"
   ]
  },
  {
   "cell_type": "code",
   "execution_count": null,
   "id": "a3ebe715",
   "metadata": {},
   "outputs": [],
   "source": []
  }
 ],
 "metadata": {
  "kernelspec": {
   "display_name": "Python 3 (ipykernel)",
   "language": "python",
   "name": "python3"
  },
  "language_info": {
   "codemirror_mode": {
    "name": "ipython",
    "version": 3
   },
   "file_extension": ".py",
   "mimetype": "text/x-python",
   "name": "python",
   "nbconvert_exporter": "python",
   "pygments_lexer": "ipython3",
   "version": "3.9.12"
  },
  "toc": {
   "base_numbering": 1,
   "nav_menu": {},
   "number_sections": false,
   "sideBar": true,
   "skip_h1_title": false,
   "title_cell": "Table of Contents",
   "title_sidebar": "Contents",
   "toc_cell": false,
   "toc_position": {},
   "toc_section_display": true,
   "toc_window_display": true
  },
  "varInspector": {
   "cols": {
    "lenName": 16,
    "lenType": 16,
    "lenVar": 40
   },
   "kernels_config": {
    "python": {
     "delete_cmd_postfix": "",
     "delete_cmd_prefix": "del ",
     "library": "var_list.py",
     "varRefreshCmd": "print(var_dic_list())"
    },
    "r": {
     "delete_cmd_postfix": ") ",
     "delete_cmd_prefix": "rm(",
     "library": "var_list.r",
     "varRefreshCmd": "cat(var_dic_list()) "
    }
   },
   "types_to_exclude": [
    "module",
    "function",
    "builtin_function_or_method",
    "instance",
    "_Feature"
   ],
   "window_display": false
  }
 },
 "nbformat": 4,
 "nbformat_minor": 5
}
