{
 "cells": [
  {
   "cell_type": "markdown",
   "id": "ecfba879",
   "metadata": {
    "nbgrader": {
     "grade": false,
     "grade_id": "cell-044c350e54f322db",
     "locked": true,
     "schema_version": 3,
     "solution": false,
     "task": false
    }
   },
   "source": [
    "# Modules and numpy\n",
    "\n",
    "The basic Python language doesn't contain many more commands for doing maths. If we want more complex commands like trigonometric functions, we have to `import` a ***module*** which offers those commands. There are a number of modules that provide mathematical functions. The one you will most commonly use is `numpy` (which stands for numerical Python). There are several ways of importing modules. For now, we'll import `numpy` in the following conventional way:"
   ]
  },
  {
   "cell_type": "code",
   "execution_count": 1,
   "id": "38178072",
   "metadata": {},
   "outputs": [],
   "source": [
    "import numpy as np"
   ]
  },
  {
   "cell_type": "markdown",
   "id": "14b2f453",
   "metadata": {
    "nbgrader": {
     "grade": false,
     "grade_id": "cell-6fbbf0a3cee70a20",
     "locked": true,
     "schema_version": 3,
     "solution": false,
     "task": false
    }
   },
   "source": [
    "The previous cell told Python to make the `numpy` module available, and call it `np`. We could call it anything other than `np`, but `np` is a conventional name for `numpy`.\n",
    "We can now use the functions provided by `numpy` like so:"
   ]
  },
  {
   "cell_type": "code",
   "execution_count": 2,
   "id": "88e4f170",
   "metadata": {},
   "outputs": [
    {
     "data": {
      "text/plain": [
       "1.0"
      ]
     },
     "execution_count": 2,
     "metadata": {},
     "output_type": "execute_result"
    }
   ],
   "source": [
    "np.cos(0)"
   ]
  },
  {
   "cell_type": "markdown",
   "id": "9f41014e",
   "metadata": {},
   "source": [
    "Note that `numpy` works in radians. You can get the value of pi using `np.pi`, so we can compute:"
   ]
  },
  {
   "cell_type": "code",
   "execution_count": 3,
   "id": "c3e2d7e7",
   "metadata": {},
   "outputs": [
    {
     "data": {
      "text/plain": [
       "0.49999999999999994"
      ]
     },
     "execution_count": 3,
     "metadata": {},
     "output_type": "execute_result"
    }
   ],
   "source": [
    "np.sin(np.pi / 6)"
   ]
  },
  {
   "cell_type": "markdown",
   "id": "3285006c",
   "metadata": {
    "nbgrader": {
     "grade": false,
     "grade_id": "cell-1c8955cc17a83ad3",
     "locked": true,
     "schema_version": 3,
     "solution": false,
     "task": false
    }
   },
   "source": [
    "The output of the last cell looks a bit funny - it should be 0.5 exactly. When dealing with floating point numbers, there will always be some rounding errors in the computations, and you shouldn't rely on getting exact values. You will see more on this in further notebooks.\n",
    "\n",
    "When we write `np.cos(0)`, we are \"*calling the function `np.cos` with argument 0*\". We will later see how to write and call our own functions.\n",
    "\n",
    "`Numpy` contains many other useful mathematical functions, listed [here](https://numpy.org/doc/stable/reference/routines.math.html#). It's not worth trying to remember all of them; just remember that this list exists!\n",
    "\n",
    "We could have also imported `numpy` using `import numpy`. We would then use the functions in it by writing, for example, `numpy.cos(0)`."
   ]
  },
  {
   "cell_type": "markdown",
   "id": "4318b4cf",
   "metadata": {},
   "source": [
    "### A Warning\n",
    "\n",
    "You will occasionally see material import `numpy` or other modules using the following format:"
   ]
  },
  {
   "cell_type": "code",
   "execution_count": 4,
   "id": "7d65cdeb",
   "metadata": {},
   "outputs": [
    {
     "data": {
      "text/plain": [
       "-1.0"
      ]
     },
     "execution_count": 4,
     "metadata": {},
     "output_type": "execute_result"
    }
   ],
   "source": [
    "from numpy import *\n",
    "\n",
    "# now we can use the functions from numpy without putting np. before them\n",
    "cos(pi)"
   ]
  },
  {
   "cell_type": "markdown",
   "id": "d5cb6e70",
   "metadata": {},
   "source": [
    "***Do not do this.*** While it might seem innocuous and indeed useful at first, it is actually considered dangerous and bad practice. If you do want to be able to use things from `numpy` without putting `np.` before them, you should import them like this:"
   ]
  },
  {
   "cell_type": "code",
   "execution_count": 5,
   "id": "db3056f3",
   "metadata": {},
   "outputs": [
    {
     "data": {
      "text/plain": [
       "-1.0"
      ]
     },
     "execution_count": 5,
     "metadata": {},
     "output_type": "execute_result"
    }
   ],
   "source": [
    "from numpy import cos, pi\n",
    "\n",
    "cos(pi)"
   ]
  },
  {
   "cell_type": "markdown",
   "id": "41bcfd8e",
   "metadata": {},
   "source": [
    "## Other modules\n",
    "\n",
    "There are many other modules available in Python - far too many to list - but you can import any of them in the same way as shown above provided they are installed on your computer.\n",
    "\n",
    "One example that we have already seen is `mobilechelonian`. We import this using the final syntax shown above:"
   ]
  },
  {
   "cell_type": "code",
   "execution_count": 6,
   "id": "955b1af8",
   "metadata": {},
   "outputs": [
    {
     "data": {
      "application/vnd.jupyter.widget-view+json": {
       "model_id": "22c8958fcb5d49218df6da85e19f55d7",
       "version_major": 2,
       "version_minor": 0
      },
      "text/plain": [
       "Turtle()"
      ]
     },
     "metadata": {},
     "output_type": "display_data"
    }
   ],
   "source": [
    "from mobilechelonian import Turtle\n",
    "\n",
    "donna = Turtle()\n",
    "\n",
    "donna.forward(50)\n",
    "donna.left(720)"
   ]
  }
 ],
 "metadata": {
  "kernelspec": {
   "display_name": "Python 3 (ipykernel)",
   "language": "python",
   "name": "python3"
  },
  "language_info": {
   "codemirror_mode": {
    "name": "ipython",
    "version": 3
   },
   "file_extension": ".py",
   "mimetype": "text/x-python",
   "name": "python",
   "nbconvert_exporter": "python",
   "pygments_lexer": "ipython3",
   "version": "3.9.12"
  },
  "toc": {
   "base_numbering": 1,
   "nav_menu": {},
   "number_sections": false,
   "sideBar": true,
   "skip_h1_title": false,
   "title_cell": "Table of Contents",
   "title_sidebar": "Contents",
   "toc_cell": false,
   "toc_position": {},
   "toc_section_display": true,
   "toc_window_display": true
  },
  "varInspector": {
   "cols": {
    "lenName": 16,
    "lenType": 16,
    "lenVar": 40
   },
   "kernels_config": {
    "python": {
     "delete_cmd_postfix": "",
     "delete_cmd_prefix": "del ",
     "library": "var_list.py",
     "varRefreshCmd": "print(var_dic_list())"
    },
    "r": {
     "delete_cmd_postfix": ") ",
     "delete_cmd_prefix": "rm(",
     "library": "var_list.r",
     "varRefreshCmd": "cat(var_dic_list()) "
    }
   },
   "types_to_exclude": [
    "module",
    "function",
    "builtin_function_or_method",
    "instance",
    "_Feature"
   ],
   "window_display": false
  }
 },
 "nbformat": 4,
 "nbformat_minor": 5
}
