{
 "cells": [
  {
   "cell_type": "markdown",
   "id": "63e39cc2",
   "metadata": {},
   "source": [
    "# For loops\n",
    "\n",
    "Without us telling it otherwise, Python will execute code within a cell from top to bottom, with each line being run once. However, most of the important tasks that computers are used for involve repeating steps a large number of times. A computer's ability to repeat steps quickly is one of the main things that make them so useful. We can have Python repeat lines by simply copy and pasting them:"
   ]
  },
  {
   "cell_type": "code",
   "execution_count": 1,
   "id": "cd9cb2c3",
   "metadata": {},
   "outputs": [
    {
     "data": {
      "application/vnd.jupyter.widget-view+json": {
       "model_id": "e8ca8b4ac55042a38aeaf924c7f8a595",
       "version_major": 2,
       "version_minor": 0
      },
      "text/plain": [
       "Turtle()"
      ]
     },
     "metadata": {},
     "output_type": "display_data"
    }
   ],
   "source": [
    "from mobilechelonian import Turtle\n",
    "\n",
    "tina = Turtle()\n",
    "\n",
    "# make tina go a bit faster for convenience\n",
    "tina.speed(5)\n",
    "\n",
    "# draw a square by repeatedly moving forward then turning left 90 degrees\n",
    "tina.forward(60)\n",
    "tina.left(90)\n",
    "tina.forward(60)\n",
    "tina.left(90)\n",
    "tina.forward(60)\n",
    "tina.left(90)\n",
    "tina.forward(60)\n",
    "tina.left(90)"
   ]
  },
  {
   "cell_type": "markdown",
   "id": "8512dbf0",
   "metadata": {},
   "source": [
    "Doing this has many problems; for example, it is prone to mistakes, difficult to read, and difficult to modify (imagine we realised we wanted a hexagon instead). A `for` loop makes the code much tidier:"
   ]
  },
  {
   "cell_type": "code",
   "execution_count": 2,
   "id": "4a3226a9",
   "metadata": {},
   "outputs": [
    {
     "data": {
      "application/vnd.jupyter.widget-view+json": {
       "model_id": "a42e21217d254ae9b9a51abc9813522a",
       "version_major": 2,
       "version_minor": 0
      },
      "text/plain": [
       "Turtle()"
      ]
     },
     "metadata": {},
     "output_type": "display_data"
    }
   ],
   "source": [
    "raph = Turtle()\n",
    "\n",
    "# make tina go a bit faster for convenience\n",
    "raph.speed(5)\n",
    "\n",
    "# To repeat something 4 times, we use the following syntax\n",
    "for i in range(4):\n",
    "    # these indented lines will be repeated 4 times\n",
    "    raph.forward(60)\n",
    "    raph.left(90)\n",
    "\n",
    "# To create any other regular polygon, you would only need to change two numbers"
   ]
  },
  {
   "cell_type": "markdown",
   "id": "fe7fab21",
   "metadata": {},
   "source": [
    "Let's break down the code above. When we want Python to repeat a process a certain *number* of times, or once for each object in some sequence, we typically use a `for` loop. The alternative is to loop until some *condition* is satisfied, which we will see in a later notebook on `while` loops. The `for` loop has the basic syntax\n",
    "\n",
    "```\n",
    "for x in some_sequence:\n",
    "    indented body statements to be repeated, possibly making use of x\n",
    "next thing to do, not repeated\n",
    "```\n",
    "\n",
    "In the example above, the `some_sequence` is `range(4)`, which represents the sequence `0, 1, 2, 3`.\n",
    "In that example, we didn't really care about what the sequence was, only that it had four elements in it so that the code would be repeated four times (note that the variable `i` was never used).\n",
    "\n",
    "Here's an example where we actually use the sequence in the `for` loop:"
   ]
  },
  {
   "cell_type": "code",
   "execution_count": 3,
   "id": "923be5b8",
   "metadata": {},
   "outputs": [
    {
     "name": "stdout",
     "output_type": "stream",
     "text": [
      "i is 0\n",
      "i squared is 0\n",
      "i is 1\n",
      "i squared is 1\n",
      "i is 2\n",
      "i squared is 4\n",
      "i is 3\n",
      "i squared is 9\n",
      "now the loop is done, and the final value of i is 3\n"
     ]
    }
   ],
   "source": [
    "for i in range(4):\n",
    "    print(f\"i is {i}\")\n",
    "    print(f\"i squared is {i**2}\")\n",
    "# any following unindented lines will not be repeated\n",
    "print(f\"now the loop is done, and the final value of i is {i}\")"
   ]
  },
  {
   "cell_type": "markdown",
   "id": "fb8fdaf2",
   "metadata": {},
   "source": [
    "You can use any variables in your `for` loop; the only requirement is that `some_sequence` makes sense to \"loop over\". The technical name for this is that `some_sequence` is ***iterable***, and it includes things like `lists`, `sets`, `tuples`, and `ranges`, and most objects which \"contain\" other objects.\n",
    "\n",
    "The ***body*** statements are repeated once for each value in the sequence. Like regular code, they are executed from top to bottom within a `for` loop. It is important to remember that the body statements are all executed in sequence for each value of `x`, rather than executing the first statement for all `x`, and then the second statement for all `x`, and so on. You can see this behaviour in the examples above.\n"
   ]
  },
  {
   "cell_type": "markdown",
   "id": "520807a8",
   "metadata": {},
   "source": [
    "## Computing sums and pseudocode\n",
    "\n",
    "A common example of where you might use a `for`-loop is to sum up some values. For example, let's try to compute the sum\n",
    "\n",
    "\\\\[ S(n) = \\sum_{i = 1}^{n} i^{10}, \\\\]\n",
    "\n",
    "where $n$ is fixed. When we are trying to write code to solve a problem, it is often the best strategy to first understand how we would systematically do the computation by hand. To compute $S(n)$, the simplest method is to keep a running total, starting with zero and adding $i^{10}$ to the total for $i = 1, \\ldots, n$. We might write this down in the following way:\n",
    "\n",
    "- We have some fixed $n \\in \\mathbb{N}$\n",
    "- Start with the total being 0  \n",
    "- For $i = 1, 2, \\ldots, n$:  \n",
    "    - Add $i^{10}$ to the total\n",
    "- Report the total as the answer\n",
    "\n",
    "We call this sort of description of how to systematically solve a problem ***pseudocode***. Pseudocode is not code and there is no specific standard which you must follow when writing it, but it should be possible to turn pseudocode directly into code. For example, the pseudocode above translates directly into Python like so:"
   ]
  },
  {
   "cell_type": "code",
   "execution_count": 4,
   "id": "58f2c4ab",
   "metadata": {},
   "outputs": [
    {
     "data": {
      "text/plain": [
       "14914341925"
      ]
     },
     "execution_count": 4,
     "metadata": {},
     "output_type": "execute_result"
    }
   ],
   "source": [
    "# fix a value of n\n",
    "n = 10\n",
    "\n",
    "# start with the total being 0\n",
    "total = 0\n",
    "\n",
    "# loop through i = 0, 1, ..., n\n",
    "for i in range(n + 1):\n",
    "    # add i**10 to the total\n",
    "    total = total + i**10\n",
    "\n",
    "# report the total as the answer\n",
    "total"
   ]
  },
  {
   "cell_type": "markdown",
   "id": "8eba1dd4",
   "metadata": {},
   "source": [
    "## Ranges\n",
    "\n",
    "In the example above, we used the command `range(4)` to create the sequence `0, 1, 2, 3`. Ranges are a very common way of making sequences of integers. You can see the numbers in a `range` by using the `list` command:"
   ]
  },
  {
   "cell_type": "code",
   "execution_count": 5,
   "id": "ae0ea1a7",
   "metadata": {},
   "outputs": [
    {
     "data": {
      "text/plain": [
       "[0, 1, 2, 3]"
      ]
     },
     "execution_count": 5,
     "metadata": {},
     "output_type": "execute_result"
    }
   ],
   "source": [
    "list(range(4))"
   ]
  },
  {
   "cell_type": "markdown",
   "id": "db8e8fa3",
   "metadata": {},
   "source": [
    "By default, a `range` starts at `0` and stops ***before*** reaching the stop value. You can change where the range starts by providing a `start` value as well:"
   ]
  },
  {
   "cell_type": "code",
   "execution_count": 6,
   "id": "045e1e61",
   "metadata": {},
   "outputs": [
    {
     "data": {
      "text/plain": [
       "[4, 5, 6, 7, 8, 9]"
      ]
     },
     "execution_count": 6,
     "metadata": {},
     "output_type": "execute_result"
    }
   ],
   "source": [
    "list(range(4, 10))"
   ]
  },
  {
   "cell_type": "markdown",
   "id": "82b6fb99",
   "metadata": {},
   "source": [
    "Sometimes we don't want the integers to increase by `1` each time. We can change this by giving a `step` argument. For example, to produce the odd numbers between 1 and 21 (inclusive), we could start at 1 and step by 2 each time:"
   ]
  },
  {
   "cell_type": "code",
   "execution_count": 7,
   "id": "62e2c0e1",
   "metadata": {},
   "outputs": [
    {
     "data": {
      "text/plain": [
       "[1, 3, 5, 7, 9, 11, 13, 15, 17, 19, 21]"
      ]
     },
     "execution_count": 7,
     "metadata": {},
     "output_type": "execute_result"
    }
   ],
   "source": [
    "list(range(1, 22, 2))"
   ]
  },
  {
   "cell_type": "markdown",
   "id": "d3aaf0c9",
   "metadata": {},
   "source": [
    "The `stop` value doesn't have to be precisely 1 more than the final value; it just has to be *less than or equal to* than the next value that the step would produce. In the previous example, using `23` as the stop value would produce the same result."
   ]
  },
  {
   "cell_type": "code",
   "execution_count": 8,
   "id": "c0a4bd29",
   "metadata": {},
   "outputs": [
    {
     "data": {
      "text/plain": [
       "[1, 3, 5, 7, 9, 11, 13, 15, 17, 19, 21]"
      ]
     },
     "execution_count": 8,
     "metadata": {},
     "output_type": "execute_result"
    }
   ],
   "source": [
    "list(range(1, 23, 2))"
   ]
  },
  {
   "cell_type": "markdown",
   "id": "28640a05",
   "metadata": {},
   "source": [
    "We can also go backwards by giving a negative step value. Note that in this case, the final element of the `range` will be *greater* than the `stop` value."
   ]
  },
  {
   "cell_type": "code",
   "execution_count": 9,
   "id": "a4541876",
   "metadata": {},
   "outputs": [
    {
     "data": {
      "text/plain": [
       "[23, 21, 19, 17, 15, 13]"
      ]
     },
     "execution_count": 9,
     "metadata": {},
     "output_type": "execute_result"
    }
   ],
   "source": [
    "list(range(23, 11, -2))"
   ]
  },
  {
   "cell_type": "markdown",
   "id": "613c4aa8",
   "metadata": {},
   "source": [
    "## Looping over lists\n",
    "\n",
    "It is very common to loop over a `range`, but you can also loop over other things. We'll see more on `lists` later, but for now here is an example where we iterate over a `list` of strings:"
   ]
  },
  {
   "cell_type": "code",
   "execution_count": 10,
   "id": "db080060",
   "metadata": {},
   "outputs": [
    {
     "name": "stdout",
     "output_type": "stream",
     "text": [
      "'apple' has 5 letters\n",
      "'durian' has 6 letters\n",
      "'mangosteen' has 10 letters\n",
      "'pear' has 4 letters\n"
     ]
    }
   ],
   "source": [
    "fruits = [\"apple\", \"durian\", \"mangosteen\", \"pear\"]\n",
    "for fruit in fruits:\n",
    "    print(f\"'{fruit}' has {len(fruit)} letters\")"
   ]
  }
 ],
 "metadata": {
  "kernelspec": {
   "display_name": "Python 3 (ipykernel)",
   "language": "python",
   "name": "python3"
  },
  "language_info": {
   "codemirror_mode": {
    "name": "ipython",
    "version": 3
   },
   "file_extension": ".py",
   "mimetype": "text/x-python",
   "name": "python",
   "nbconvert_exporter": "python",
   "pygments_lexer": "ipython3",
   "version": "3.9.12"
  },
  "toc": {
   "base_numbering": 1,
   "nav_menu": {},
   "number_sections": false,
   "sideBar": true,
   "skip_h1_title": false,
   "title_cell": "Table of Contents",
   "title_sidebar": "Contents",
   "toc_cell": false,
   "toc_position": {},
   "toc_section_display": true,
   "toc_window_display": true
  },
  "varInspector": {
   "cols": {
    "lenName": 16,
    "lenType": 16,
    "lenVar": 40
   },
   "kernels_config": {
    "python": {
     "delete_cmd_postfix": "",
     "delete_cmd_prefix": "del ",
     "library": "var_list.py",
     "varRefreshCmd": "print(var_dic_list())"
    },
    "r": {
     "delete_cmd_postfix": ") ",
     "delete_cmd_prefix": "rm(",
     "library": "var_list.r",
     "varRefreshCmd": "cat(var_dic_list()) "
    }
   },
   "types_to_exclude": [
    "module",
    "function",
    "builtin_function_or_method",
    "instance",
    "_Feature"
   ],
   "window_display": false
  }
 },
 "nbformat": 4,
 "nbformat_minor": 5
}
