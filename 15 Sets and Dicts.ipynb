{
 "cells": [
  {
   "cell_type": "markdown",
   "id": "393371dd",
   "metadata": {},
   "source": [
    "# Sets and Dicts\n",
    "\n",
    "## Data structures\n",
    "\n",
    "So far, we have seen three main examples of data structures: *lists*, *tuples*, and *arrays*. These all do roughly the same thing: store a sequence of objects, and allow you to access the objects using their position in the sequence. This is only one way of arranging data, though it is perhaps the most important. When computer scientists and mathematicians design algorithms, one of the key considerations is exactly how to arrange the data that is used. This choice can make an enormous difference to the performance of the algorithm. The two next structures that you are likely to come across are ***sets*** and ***dicts***."
   ]
  },
  {
   "cell_type": "markdown",
   "id": "9c5ea25b",
   "metadata": {},
   "source": [
    "## Sets\n",
    "\n",
    "Python sets, as you might hope, are used to represent (finite) mathematical sets, i.e. finite collections of objects with no duplicates. You could also represent this using a duplicate-free `list`, but it is clearer and often more efficient to use a `set`. Here's a basic example:"
   ]
  },
  {
   "cell_type": "code",
   "execution_count": 1,
   "id": "a65d5fc3",
   "metadata": {},
   "outputs": [
    {
     "data": {
      "text/plain": [
       "{1}"
      ]
     },
     "execution_count": 1,
     "metadata": {},
     "output_type": "execute_result"
    }
   ],
   "source": [
    "# create an empty set\n",
    "my_set = set()\n",
    "\n",
    "# add 1 to the set\n",
    "my_set.add(1)\n",
    "\n",
    "# try to add 1 again\n",
    "my_set.add(1)\n",
    "\n",
    "#display the set\n",
    "my_set"
   ]
  },
  {
   "cell_type": "markdown",
   "id": "b53f1354",
   "metadata": {},
   "source": [
    "There are several things to note. Firstly, Python didn't complain when we tried to add the number 1 a second time - it just didn't add it.\n",
    "\n",
    "Secondly, we `add` things to a `set` rather than `append` them as for a `list`. This is because `sets` are not inherently ordered. They do not care what order elements were inserted or deleted in, or how you would sort the objects naturally.\n",
    "\n",
    "This might seem strange to you as most mathematical sets you will have seen have an obvious order on their elements, but strictly speaking mathematical sets are not inherently ordered either - the order is an *extra* structure you put on top of the set. \n",
    "\n",
    "To make things more confusing, `sets` of will often *look* like they are naturally ordered when you ask Python to display them."
   ]
  },
  {
   "cell_type": "code",
   "execution_count": 2,
   "id": "8479ccac",
   "metadata": {},
   "outputs": [
    {
     "data": {
      "text/plain": [
       "{'a', 'c', 'e', 'p', 't', 'u'}"
      ]
     },
     "execution_count": 2,
     "metadata": {},
     "output_type": "execute_result"
    }
   ],
   "source": [
    "tea_set = set(\"teacup\")   # make a set from the letters in \"teacup\"\n",
    "\n",
    "tea_set  # the set appears to be in order"
   ]
  },
  {
   "cell_type": "code",
   "execution_count": 3,
   "id": "eb16ae2f",
   "metadata": {},
   "outputs": [
    {
     "name": "stdout",
     "output_type": "stream",
     "text": [
      "p\n",
      "c\n",
      "u\n",
      "a\n",
      "t\n",
      "e\n"
     ]
    }
   ],
   "source": [
    "# Now try looping through the elements of the set.\n",
    "# Note that the order now seems totally arbitrary!\n",
    "for x in tea_set:\n",
    "    print(x)"
   ]
  },
  {
   "cell_type": "markdown",
   "id": "a455a4aa",
   "metadata": {},
   "source": [
    "The moral of all of this is to not rely on any order from a `set`. If you really want the elements in value order, then you must use `sorted`, which returns a list with the values in sorted order:"
   ]
  },
  {
   "cell_type": "code",
   "execution_count": 4,
   "id": "1e6dba9c",
   "metadata": {},
   "outputs": [
    {
     "data": {
      "text/plain": [
       "['a', 'c', 'e', 'p', 't', 'u']"
      ]
     },
     "execution_count": 4,
     "metadata": {},
     "output_type": "execute_result"
    }
   ],
   "source": [
    "sorted(tea_set)"
   ]
  },
  {
   "cell_type": "markdown",
   "id": "b2ab8fa0",
   "metadata": {},
   "source": [
    "### Set operations\n",
    "\n",
    "There are a number of useful operations to be aware of with sets. Here are a few of them:"
   ]
  },
  {
   "cell_type": "code",
   "execution_count": 5,
   "id": "463c39ba",
   "metadata": {},
   "outputs": [],
   "source": [
    "# Create two example sets\n",
    "set1 = {1, 2, 3, \"a\", \"b\"}\n",
    "set2 = {\"a\", \"c\", \"e\", 4, 1}"
   ]
  },
  {
   "cell_type": "markdown",
   "id": "fb6c7b00",
   "metadata": {},
   "source": [
    "### Add or remove an element"
   ]
  },
  {
   "cell_type": "code",
   "execution_count": 6,
   "id": "d2caa8d3",
   "metadata": {},
   "outputs": [
    {
     "data": {
      "text/plain": [
       "{1, 2, 3, 'a', 'abc', 'b'}"
      ]
     },
     "execution_count": 6,
     "metadata": {},
     "output_type": "execute_result"
    }
   ],
   "source": [
    "set1.add(\"abc\")\n",
    "set1"
   ]
  },
  {
   "cell_type": "code",
   "execution_count": 7,
   "id": "f98ef795",
   "metadata": {},
   "outputs": [
    {
     "data": {
      "text/plain": [
       "{1, 2, 3, 'a', 'b'}"
      ]
     },
     "execution_count": 7,
     "metadata": {},
     "output_type": "execute_result"
    }
   ],
   "source": [
    "set1.remove(\"abc\")\n",
    "set1"
   ]
  },
  {
   "cell_type": "markdown",
   "id": "d658cc25",
   "metadata": {},
   "source": [
    "### Membership"
   ]
  },
  {
   "cell_type": "code",
   "execution_count": 8,
   "id": "96ae5ba6",
   "metadata": {},
   "outputs": [
    {
     "data": {
      "text/plain": [
       "True"
      ]
     },
     "execution_count": 8,
     "metadata": {},
     "output_type": "execute_result"
    }
   ],
   "source": [
    "1 in set1"
   ]
  },
  {
   "cell_type": "code",
   "execution_count": 9,
   "id": "cb1b046a",
   "metadata": {},
   "outputs": [
    {
     "data": {
      "text/plain": [
       "False"
      ]
     },
     "execution_count": 9,
     "metadata": {},
     "output_type": "execute_result"
    }
   ],
   "source": [
    "\"b\" in set2"
   ]
  },
  {
   "cell_type": "markdown",
   "id": "e4c19152",
   "metadata": {},
   "source": [
    "### Intersection"
   ]
  },
  {
   "cell_type": "code",
   "execution_count": 10,
   "id": "cbbba276",
   "metadata": {},
   "outputs": [
    {
     "data": {
      "text/plain": [
       "{1, 'a'}"
      ]
     },
     "execution_count": 10,
     "metadata": {},
     "output_type": "execute_result"
    }
   ],
   "source": [
    "# Read \"the elements that are in set1 and in set2\"\n",
    "set1 & set2"
   ]
  },
  {
   "cell_type": "code",
   "execution_count": 11,
   "id": "771e44eb",
   "metadata": {},
   "outputs": [
    {
     "data": {
      "text/plain": [
       "{1, 'a'}"
      ]
     },
     "execution_count": 11,
     "metadata": {},
     "output_type": "execute_result"
    }
   ],
   "source": [
    "# An alternative method\n",
    "set1.intersection(set2)"
   ]
  },
  {
   "cell_type": "markdown",
   "id": "09892402",
   "metadata": {},
   "source": [
    "### Union"
   ]
  },
  {
   "cell_type": "code",
   "execution_count": 12,
   "id": "6d3cd7fe",
   "metadata": {},
   "outputs": [
    {
     "data": {
      "text/plain": [
       "{1, 2, 3, 4, 'a', 'b', 'c', 'e'}"
      ]
     },
     "execution_count": 12,
     "metadata": {},
     "output_type": "execute_result"
    }
   ],
   "source": [
    "# The | symbol usually means \"or\", so read this as\n",
    "# \"the elements that are in set1 or in set2\"\n",
    "set1 | set2"
   ]
  },
  {
   "cell_type": "code",
   "execution_count": 13,
   "id": "ed7a6b94",
   "metadata": {},
   "outputs": [
    {
     "data": {
      "text/plain": [
       "{1, 2, 3, 4, 'a', 'b', 'c', 'e'}"
      ]
     },
     "execution_count": 13,
     "metadata": {},
     "output_type": "execute_result"
    }
   ],
   "source": [
    "# Alternatively:\n",
    "set1.union(set2)"
   ]
  },
  {
   "cell_type": "markdown",
   "id": "0096ca51",
   "metadata": {},
   "source": [
    "### Difference"
   ]
  },
  {
   "cell_type": "code",
   "execution_count": 14,
   "id": "b75569bf",
   "metadata": {},
   "outputs": [
    {
     "data": {
      "text/plain": [
       "{2, 3, 'b'}"
      ]
     },
     "execution_count": 14,
     "metadata": {},
     "output_type": "execute_result"
    }
   ],
   "source": [
    "# The elements of set1 that are not in set2\n",
    "set1 - set2"
   ]
  },
  {
   "cell_type": "code",
   "execution_count": 15,
   "id": "58c35c1e",
   "metadata": {},
   "outputs": [
    {
     "data": {
      "text/plain": [
       "{2, 3, 'b'}"
      ]
     },
     "execution_count": 15,
     "metadata": {},
     "output_type": "execute_result"
    }
   ],
   "source": [
    "# Alternatively:\n",
    "set1.difference(set2)"
   ]
  },
  {
   "cell_type": "markdown",
   "id": "5aad0c20",
   "metadata": {},
   "source": [
    "### Set efficiency\n",
    "\n",
    "Sets are specialised for the sort of operations shown above. If you are doing a lot of them in your code, you should probably be using a `set` rather than a `list` or similar data structure. For example, testing membership in a `set` roughly takes a small and constant amount of time, while testing membership in a `list` takes time proportional to the length of the `list` - so for large `lists` membership testing will be much slower than the same membership testing in a `set`."
   ]
  },
  {
   "cell_type": "markdown",
   "id": "71c9fd7b",
   "metadata": {},
   "source": [
    "## Dicts\n",
    "\n",
    "Short for \"dictionary\", a `dict` stores pairs of ***keys*** and ***values***. You can then \"look up\" the value associated with a given key. This is analagous to how language dictionaries store words (keys) and definitions (values). The keys have to be unique, but the values do not. Here are some examples:"
   ]
  },
  {
   "cell_type": "code",
   "execution_count": 16,
   "id": "c5cab1da",
   "metadata": {},
   "outputs": [
    {
     "data": {
      "text/plain": [
       "'Emmy Noether'"
      ]
     },
     "execution_count": 16,
     "metadata": {},
     "output_type": "execute_result"
    }
   ],
   "source": [
    "# Create a dict with keys being student ids and values being names.\n",
    "# I'll make the student ids strings to avoid leading zero issues.\n",
    "\n",
    "students = {\"00112\" : \"Hypatia\",\n",
    "            \"13401\" : \"Maryam Mirzakhani\",\n",
    "            \"4105201\" : \"Emmy Noether\",\n",
    "            \"10231\": \"Sophie Kowalevski\"}\n",
    "\n",
    "# Get a value by indexing with the key\n",
    "students[\"4105201\"]"
   ]
  },
  {
   "cell_type": "code",
   "execution_count": 17,
   "id": "a2a19c5c",
   "metadata": {},
   "outputs": [
    {
     "ename": "KeyError",
     "evalue": "0",
     "output_type": "error",
     "traceback": [
      "\u001b[0;31m---------------------------------------------------------------------------\u001b[0m",
      "\u001b[0;31mKeyError\u001b[0m                                  Traceback (most recent call last)",
      "Input \u001b[0;32mIn [17]\u001b[0m, in \u001b[0;36m<cell line: 2>\u001b[0;34m()\u001b[0m\n\u001b[1;32m      1\u001b[0m \u001b[38;5;66;03m#Trying to access a non-existent key causes an error\u001b[39;00m\n\u001b[0;32m----> 2\u001b[0m \u001b[43mstudents\u001b[49m\u001b[43m[\u001b[49m\u001b[38;5;241;43m0\u001b[39;49m\u001b[43m]\u001b[49m\n",
      "\u001b[0;31mKeyError\u001b[0m: 0"
     ]
    }
   ],
   "source": [
    "#Trying to access a non-existent key causes an error\n",
    "students[0]"
   ]
  },
  {
   "cell_type": "markdown",
   "id": "3a3320f5",
   "metadata": {},
   "source": [
    "### Dict operations"
   ]
  },
  {
   "cell_type": "markdown",
   "id": "6b082bff",
   "metadata": {},
   "source": [
    "The operations for `dicts` are similar to those for `sets`."
   ]
  },
  {
   "cell_type": "markdown",
   "id": "a9df2cfe",
   "metadata": {},
   "source": [
    "### Add or remove a key-value pair\n",
    "\n",
    "To add a new key-value pair, just set the value for that key:"
   ]
  },
  {
   "cell_type": "code",
   "execution_count": null,
   "id": "e7ef9b3a",
   "metadata": {},
   "outputs": [],
   "source": [
    "students[\"01121\"] = \"Ada Lovelace\"\n",
    "students"
   ]
  },
  {
   "cell_type": "code",
   "execution_count": null,
   "id": "736ce28a",
   "metadata": {},
   "outputs": [],
   "source": [
    "del students[\"01121\"]\n",
    "students"
   ]
  },
  {
   "cell_type": "markdown",
   "id": "ef975064",
   "metadata": {},
   "source": [
    "### Membership"
   ]
  },
  {
   "cell_type": "markdown",
   "id": "848c3291",
   "metadata": {},
   "source": [
    "To check whether a key is in a `dict`, use `in` as usual:"
   ]
  },
  {
   "cell_type": "code",
   "execution_count": null,
   "id": "715e93cb",
   "metadata": {},
   "outputs": [],
   "source": [
    "\"00112\" in students"
   ]
  },
  {
   "cell_type": "markdown",
   "id": "47b230ec",
   "metadata": {},
   "source": [
    "There are many other things you can do with dictionaries, which we will not dive into here. You can get a flavour by skimming through [the documentation](https://docs.python.org/3/library/stdtypes.html#dict)."
   ]
  }
 ],
 "metadata": {
  "kernelspec": {
   "display_name": "Python 3 (ipykernel)",
   "language": "python",
   "name": "python3"
  },
  "language_info": {
   "codemirror_mode": {
    "name": "ipython",
    "version": 3
   },
   "file_extension": ".py",
   "mimetype": "text/x-python",
   "name": "python",
   "nbconvert_exporter": "python",
   "pygments_lexer": "ipython3",
   "version": "3.9.12"
  },
  "toc": {
   "base_numbering": 1,
   "nav_menu": {},
   "number_sections": false,
   "sideBar": true,
   "skip_h1_title": false,
   "title_cell": "Table of Contents",
   "title_sidebar": "Contents",
   "toc_cell": false,
   "toc_position": {},
   "toc_section_display": true,
   "toc_window_display": true
  },
  "varInspector": {
   "cols": {
    "lenName": 16,
    "lenType": 16,
    "lenVar": 40
   },
   "kernels_config": {
    "python": {
     "delete_cmd_postfix": "",
     "delete_cmd_prefix": "del ",
     "library": "var_list.py",
     "varRefreshCmd": "print(var_dic_list())"
    },
    "r": {
     "delete_cmd_postfix": ") ",
     "delete_cmd_prefix": "rm(",
     "library": "var_list.r",
     "varRefreshCmd": "cat(var_dic_list()) "
    }
   },
   "types_to_exclude": [
    "module",
    "function",
    "builtin_function_or_method",
    "instance",
    "_Feature"
   ],
   "window_display": false
  }
 },
 "nbformat": 4,
 "nbformat_minor": 5
}
