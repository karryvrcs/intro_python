{
 "cells": [
  {
   "cell_type": "markdown",
   "id": "c70b6b3e",
   "metadata": {},
   "source": [
    "# Printing to the screen\n",
    "\n",
    "Before we go any further, it's convenient to have a more powerful way of displaying information from Python.\n",
    "\n",
    "So far, you have been getting output to the screen by writing the name of a variable at the end of a cell. This is often not flexible enough, so Python provides a `print` function for displaying output to the screen at any point. This allows you to display multiple values from one cell."
   ]
  },
  {
   "cell_type": "code",
   "execution_count": 1,
   "id": "6a2d5aa3",
   "metadata": {},
   "outputs": [
    {
     "name": "stdout",
     "output_type": "stream",
     "text": [
      "7\n",
      "-1\n"
     ]
    }
   ],
   "source": [
    "a = 3\n",
    "b = 4\n",
    "print(a + b)\n",
    "print(a - b)"
   ]
  },
  {
   "cell_type": "markdown",
   "id": "4760f612",
   "metadata": {},
   "source": [
    "It is considered bad practice to display values on the screen without any context, as in the above code cell. In order to print out a specific bit of text, we have to enclose the text in `\"` marks, like so:"
   ]
  },
  {
   "cell_type": "code",
   "execution_count": 2,
   "id": "f7d9fc87",
   "metadata": {},
   "outputs": [
    {
     "name": "stdout",
     "output_type": "stream",
     "text": [
      "Hello there!\n"
     ]
    }
   ],
   "source": [
    "print(\"Hello there!\")"
   ]
  },
  {
   "cell_type": "markdown",
   "id": "737af924",
   "metadata": {},
   "source": [
    "The `print` function is unlike any you have seen yet: it can take any number of arguments, separated by commas, and will display them all on one line (if possible). This allows us to display values along with a description of the value, which is better than just the value by itself!"
   ]
  },
  {
   "cell_type": "code",
   "execution_count": 3,
   "id": "183c94d6",
   "metadata": {},
   "outputs": [
    {
     "name": "stdout",
     "output_type": "stream",
     "text": [
      "The value of sin(pi/6) is 0.49999999999999994\n"
     ]
    }
   ],
   "source": [
    "import numpy as np\n",
    "\n",
    "print(\"The value of sin(pi/6) is\", np.sin(np.pi/6))"
   ]
  },
  {
   "cell_type": "markdown",
   "id": "e6a53770",
   "metadata": {},
   "source": [
    "Notice that the value displayed should be $0.5$; the difference is due to the rounding errors that occur when we represent decimals on computers using floating point numbers.\n",
    "\n",
    "**Note**: especially in Jupyter notebooks, it is usually unnecessary to `print` output to the screen. It is annoying for users of your code if you `print` large amounts of information or `print` values without context. On the other hand, `print` can be a very valuable tool for debugging: by displaying suitable messages, you can understand what is going on inside your program. Just be sure to remove the `print` statements you added for debugging after you're done!"
   ]
  },
  {
   "cell_type": "markdown",
   "id": "be2b24fc",
   "metadata": {},
   "source": [
    "We call pieces of text enclosed in `\"` marks like above *strings* (meaning letters or characters strung together). You can store strings in variables just like numbers, and manipulate them in many ways using Python. We will learn more about strings throughout future worksheets."
   ]
  },
  {
   "cell_type": "code",
   "execution_count": 4,
   "id": "848c9f5c",
   "metadata": {},
   "outputs": [
    {
     "data": {
      "text/plain": [
       "'Welcome to Moria, enjoy your stay!'"
      ]
     },
     "execution_count": 4,
     "metadata": {},
     "output_type": "execute_result"
    }
   ],
   "source": [
    "place = \"Moria\"\n",
    "\"Welcome to \" + place + \", enjoy your stay!\""
   ]
  },
  {
   "cell_type": "markdown",
   "id": "1309eb93",
   "metadata": {},
   "source": [
    "## Optional: Formatted strings\n",
    "\n",
    "In the future, you will often come across places where you want to print multiple values in the same `print` statement, perhaps like so:"
   ]
  },
  {
   "cell_type": "code",
   "execution_count": 5,
   "id": "1ad80e9b",
   "metadata": {},
   "outputs": [
    {
     "name": "stdout",
     "output_type": "stream",
     "text": [
      "For x = 0.5235987755982988 the value of sin(x) is 0.49999999999999994 and the value of cos(x) is 0.8660254037844387\n"
     ]
    }
   ],
   "source": [
    "x = np.pi/6\n",
    "\n",
    "print(\"For x =\", x, \n",
    "      \"the value of sin(x) is\", np.sin(x),\n",
    "      \"and the value of cos(x) is\", np.cos(x))"
   ]
  },
  {
   "cell_type": "markdown",
   "id": "d37ade1c",
   "metadata": {},
   "source": [
    "It's a little annoying to keep swapping in and out of strings, so Python provides an alternative called *f-strings*. These allow you to insert Python expressions into strings using braces (`{ }`) like so:"
   ]
  },
  {
   "cell_type": "code",
   "execution_count": 6,
   "id": "bf28ff0a",
   "metadata": {},
   "outputs": [
    {
     "name": "stdout",
     "output_type": "stream",
     "text": [
      "For x = 0.5235987755982988, the value of sin(x) is 0.49999999999999994 and the value of cos(x) is 0.8660254037844387\n"
     ]
    }
   ],
   "source": [
    "x = np.pi/6\n",
    "\n",
    "print(f\"For x = {x}, the value of sin(x) is {np.sin(x)} and the value of cos(x) is {np.cos(x)}\")"
   ]
  },
  {
   "cell_type": "markdown",
   "id": "a8205bb8",
   "metadata": {},
   "source": [
    "There are lots of options available to customise how the values from expressions are displayed. Perhaps the most commonly used is the \"number of decimal places\" specifier, which is used like so:"
   ]
  },
  {
   "cell_type": "code",
   "execution_count": 7,
   "id": "c2060843",
   "metadata": {},
   "outputs": [
    {
     "name": "stdout",
     "output_type": "stream",
     "text": [
      "For x = 0.5235987755982988, the value of sin(x) is 0.5 and the value of cos(x) is 0.8660254038\n"
     ]
    }
   ],
   "source": [
    "print(f\"For x = {x}, the value of sin(x) is {np.sin(x):.1f} and the value of cos(x) is {np.cos(x):.10f}\")"
   ]
  },
  {
   "cell_type": "markdown",
   "id": "4f87dafb",
   "metadata": {},
   "source": [
    "You can read `:.1f` as \"*as a 1-decimal-place floating point number*\". Further information on formatting strings can be found [here](https://docs.python.org/3/tutorial/inputoutput.html."
   ]
  }
 ],
 "metadata": {
  "kernelspec": {
   "display_name": "Python 3 (ipykernel)",
   "language": "python",
   "name": "python3"
  },
  "language_info": {
   "codemirror_mode": {
    "name": "ipython",
    "version": 3
   },
   "file_extension": ".py",
   "mimetype": "text/x-python",
   "name": "python",
   "nbconvert_exporter": "python",
   "pygments_lexer": "ipython3",
   "version": "3.9.12"
  },
  "toc": {
   "base_numbering": 1,
   "nav_menu": {},
   "number_sections": false,
   "sideBar": true,
   "skip_h1_title": false,
   "title_cell": "Table of Contents",
   "title_sidebar": "Contents",
   "toc_cell": false,
   "toc_position": {},
   "toc_section_display": true,
   "toc_window_display": true
  },
  "varInspector": {
   "cols": {
    "lenName": 16,
    "lenType": 16,
    "lenVar": 40
   },
   "kernels_config": {
    "python": {
     "delete_cmd_postfix": "",
     "delete_cmd_prefix": "del ",
     "library": "var_list.py",
     "varRefreshCmd": "print(var_dic_list())"
    },
    "r": {
     "delete_cmd_postfix": ") ",
     "delete_cmd_prefix": "rm(",
     "library": "var_list.r",
     "varRefreshCmd": "cat(var_dic_list()) "
    }
   },
   "types_to_exclude": [
    "module",
    "function",
    "builtin_function_or_method",
    "instance",
    "_Feature"
   ],
   "window_display": false
  }
 },
 "nbformat": 4,
 "nbformat_minor": 5
}
