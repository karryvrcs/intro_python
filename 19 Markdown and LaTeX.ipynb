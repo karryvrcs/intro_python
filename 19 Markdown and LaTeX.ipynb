{
 "cells": [
  {
   "cell_type": "markdown",
   "id": "d034f0c2",
   "metadata": {},
   "source": [
    "# Markdown\n",
    "\n",
    "You can add formatting to your text cells using [Markdown syntax](https://www.markdownguide.org/basic-syntax/). Below are most of the formatting options you are likely to want; just double click the cell they are in to see what it looks like in Markdown (and then `Run` the cell to make it look like regular text again). For more details, see the guide linked above."
   ]
  },
  {
   "cell_type": "markdown",
   "id": "739e948c",
   "metadata": {},
   "source": [
    "## Sections\n",
    "\n",
    "To create a section, write a new heading with the hash symbol before it. Multiple hash symbols are used for sub-headings, with the number of hashes dictating the level of the sub-heading.\n",
    "\n",
    "### Here's a sub-sub-heading\n",
    "\n",
    "#### Containing a sub-sub-sub-heading"
   ]
  },
  {
   "cell_type": "markdown",
   "id": "e45ec2ce",
   "metadata": {},
   "source": [
    "## Emphasis"
   ]
  },
  {
   "cell_type": "markdown",
   "id": "4b16c346",
   "metadata": {},
   "source": [
    "To emphasise text, surround it in asterisks `*text*`, like so: *this is important.* One level of asterisks gets you *italicised text*, two gets you **bold text**, and three gets you ***italicised bold text.***"
   ]
  },
  {
   "cell_type": "markdown",
   "id": "053b4178",
   "metadata": {},
   "source": [
    "## Lists\n",
    "\n",
    "Here's an ordered list:\n",
    "\n",
    "1. Green eggs\n",
    "2. Ham\n",
    "\n",
    "and here's an unordered list, with a sublist:\n",
    "\n",
    "- Journey to the:\n",
    "    - West\n",
    "    - Centre of the Earth\n",
    "    - River Sea"
   ]
  },
  {
   "cell_type": "markdown",
   "id": "033cf433",
   "metadata": {},
   "source": [
    "## Code\n",
    "\n",
    "If you want to include a snippet of code, surround it with backticks `` `code` `` like so: `some interesting code`. If it is a multiline-snippet, indent it by four spaces:\n",
    "\n",
    "    terry = Turtle()\n",
    "    terry.forward(50)\n",
    "    terry.left(30)"
   ]
  },
  {
   "cell_type": "markdown",
   "id": "e0ea13df",
   "metadata": {},
   "source": [
    "## Links\n",
    "\n",
    "The basic format for links is `[link text](thing to link to)`. For example, the Wikipedia page for Python can be found [here](https://en.wikipedia.org/wiki/Python_(programming_language)), and the section in this notebook on emphasis in Markdown can be found [here](#Emphasis)."
   ]
  },
  {
   "cell_type": "markdown",
   "id": "c1f56043",
   "metadata": {},
   "source": [
    "## Images\n",
    "\n",
    "Images are similar to links: ` ![alt text](path/to/image.png)`. For example, there is a file called \"rotated-pentagons.png\" in the \"images\" folder, so ` ![ten pentagons originating from a common vertex, evenly rotated to create an interwoven effect](images/rotated-pentagons.png) ` produces the following: ![ten pentagons originating from a common vertex, evenly rotated to create an interwoven effect](images/rotated-pentagons.png)\n",
    "\n",
    "The description given becomes \"alt text\", which is good practice to include; it improves accessibility and can help if the image cannot be displayed.\n",
    "\n",
    "Annoyingly, Windows and MacOS/Linux have different conventions on which slash to use, so paths written for one will not work for the other. The easiest way of getting around this is to just include the images in the same folder as the notebook."
   ]
  },
  {
   "cell_type": "markdown",
   "id": "e1c521d9",
   "metadata": {},
   "source": [
    "## Tables\n",
    "\n",
    "Tables are best seen by example: just double click this cell to reveal how the following table is formatted.\n",
    "\n",
    "| Operator    | Description                            |\n",
    "| :---------- | ---------------------------------------|\n",
    "| `<`, `<=`   | less than, less than or equal to       |\n",
    "| `>`, `>=`   | greater than, greater than or equal to |\n",
    "| `==`        | equal to |\n",
    "| `!=`        | not equal to |"
   ]
  },
  {
   "cell_type": "markdown",
   "id": "2db295f0",
   "metadata": {},
   "source": [
    "## Optional: writing maths using $\\LaTeX$"
   ]
  },
  {
   "cell_type": "markdown",
   "id": "144401c0",
   "metadata": {},
   "source": [
    "You might have noticed that some notebooks have nicely-formatted mathematics, like this:\n",
    "\n",
    "$$\\prod_{\\text{prime $p$}} \\frac{1}{1 - p^{-s}} = \\sum_{n = 1}^\\infty\\frac{1}{n^{s}}.$$\n",
    "\n",
    "This is written in LaTeX (pronounced lay-tek), a typesetting language widely used in mathematics. Most course material for most maths modules is written in LaTeX, and many students choose to use it to produce their honours projects. Here we will list some of the very-commonly used LaTeX commands; for more see [this quick guide](https://www.overleaf.com/latex/templates/a-quick-guide-to-latex/fghqpfgnxggz), [this webpage](https://personal.math.ubc.ca/~pwalls/math-python/jupyter/latex/) (recommended), or [this more extensive guide](https://en.wikibooks.org/wiki/LaTeX/Mathematics)."
   ]
  },
  {
   "cell_type": "markdown",
   "id": "e8996154",
   "metadata": {},
   "source": [
    "## Entering math mode\n",
    "\n",
    "To typeset maths using LaTeX, you must enter math-mode using either `$ some maths $`, which renders the maths inline with your text (e.g. $\\sin(0) = 0$) or `\\\\[ some maths \\\\]`, which renders it in \"display mode\":\n",
    "\n",
    "\\\\[ \\sin(0) = 0. \\\\]"
   ]
  },
  {
   "cell_type": "markdown",
   "id": "568e7e80",
   "metadata": {},
   "source": [
    "## Greek symbols\n",
    "\n",
    "To obtain Greek symbols, write them out in English with a preceding backslash: `\\alpha` gives $\\alpha$. Most upper-case symbols can be obtained by capitalising the command: `\\Delta` gives $\\Delta$, which is upper-case $\\delta$. There is no command for upper-case letters that coincide with Latin characters (for example, no `\\Alpha` or `\\Rho`)."
   ]
  },
  {
   "cell_type": "markdown",
   "id": "da72bb54",
   "metadata": {},
   "source": [
    "## Superscripts and subscripts\n",
    "\n",
    "Within math-mode, you can create superscripts using `^` and subscripts using `_`, e.g. $x_0^3$. If you need multiple characters in super- or sub-script, you need to group them with braces: `x^{12}` produces $x^{12}$."
   ]
  },
  {
   "cell_type": "markdown",
   "id": "0dd5847f",
   "metadata": {},
   "source": [
    "## Fractions\n",
    "\n",
    "Fractions are typeset using `\\frac{a}{b}`, so that `\\frac{1}{1 - p^{-s}}` renders as $\\frac{1}{1 - p^{-s}}$."
   ]
  },
  {
   "cell_type": "markdown",
   "id": "043942f3",
   "metadata": {},
   "source": [
    "## Named functions\n",
    "\n",
    "Many named functions are defined as LaTeX commands, which you should use instead of just writing the function normally: `sin(0)` produces $sin(0)$, while `\\sin(0)` properly produces $\\sin(0)$."
   ]
  },
  {
   "cell_type": "markdown",
   "id": "ba5dab3c",
   "metadata": {},
   "source": [
    "## Sums and integrals\n",
    "\n",
    "To produce a sum, use `\\sum_{lower limit}^{upper limit}`, e.g. `\\sum_{n = 1}^{\\infty} \\alpha^s` produces $\\sum_{n = 1}^{\\infty} \\alpha^s$. You can exclude the lower limit or upper limit as necessary. When written in display mode, the sum will expand to be more readable:\n",
    "\n",
    "\\\\[ \\sum_{n = 1}^{\\infty} \\alpha^s \\\\]\n",
    "\n",
    "The same principles apply to integrals (`\\int_{lower}^{upper}`):\n",
    "\n",
    "\\\\[ \\sum_{k = N + 1}^{\\infty} \\frac{1}{k^2} < \\int_N^\\infty \\frac{1}{t^2} \\mathop{dt}. \\\\]\n",
    "\n",
    "The typesetting of $\\mathop{dt}$ seems to be a point of great debate."
   ]
  },
  {
   "cell_type": "markdown",
   "id": "8596d54f",
   "metadata": {},
   "source": [
    "## Matplotlib\n",
    "\n",
    "It's worth noting that you can use LaTeX in your Matplotlib plots. For example:"
   ]
  },
  {
   "cell_type": "code",
   "execution_count": 1,
   "id": "9b869260",
   "metadata": {},
   "outputs": [],
   "source": [
    "import matplotlib.pyplot as plt\n",
    "import numpy as np"
   ]
  },
  {
   "cell_type": "code",
   "execution_count": 2,
   "id": "8db1ee77",
   "metadata": {},
   "outputs": [
    {
     "data": {
      "image/png": "[encoded data removed]",
      "text/plain": [
       "<Figure size 432x288 with 1 Axes>"
      ]
     },
     "metadata": {
      "needs_background": "light"
     },
     "output_type": "display_data"
    }
   ],
   "source": [
    "%matplotlib inline\n",
    "\n",
    "x = np.arange(-np.pi, 3/2*np.pi, 0.01)\n",
    "y = np.sin(x)\n",
    "y2 = y2 = x - x**3/6 + x**5/120\n",
    "\n",
    "fig, ax = plt.subplots()\n",
    "\n",
    "# Note that the strings have an \"r\" before them.\n",
    "# This stops Python from messing with the backslashes in the LaTeX commands.\n",
    "ax.plot(x, y, color=\"red\", label=r\"$\\sin(x)$\")\n",
    "ax.plot(x, y2, color=\"b\", linestyle=':', linewidth=3, label=r\"$x-x^3/3!+x^5/5!$\")\n",
    "\n",
    "ax.scatter(np.pi/2, 1, marker=\"*\", color=\"orange\", s=200, zorder=2)\n",
    "ax.text(np.pi/2, 1.5, r\"$x = \\frac{\\pi}{2}$\")\n",
    "\n",
    "ax.set_xlabel(\"x\")\n",
    "ax.set_ylabel(\"y\")\n",
    "ax.legend()\n",
    "ax.set_title(\"Comparison of sine with its three-term MacLaurin series\");"
   ]
  }
 ],
 "metadata": {
  "kernelspec": {
   "display_name": "Python 3 (ipykernel)",
   "language": "python",
   "name": "python3"
  },
  "language_info": {
   "codemirror_mode": {
    "name": "ipython",
    "version": 3
   },
   "file_extension": ".py",
   "mimetype": "text/x-python",
   "name": "python",
   "nbconvert_exporter": "python",
   "pygments_lexer": "ipython3",
   "version": "3.9.12"
  },
  "toc": {
   "base_numbering": 1,
   "nav_menu": {},
   "number_sections": false,
   "sideBar": true,
   "skip_h1_title": false,
   "title_cell": "Table of Contents",
   "title_sidebar": "Contents",
   "toc_cell": false,
   "toc_position": {},
   "toc_section_display": true,
   "toc_window_display": true
  },
  "varInspector": {
   "cols": {
    "lenName": 16,
    "lenType": 16,
    "lenVar": 40
   },
   "kernels_config": {
    "python": {
     "delete_cmd_postfix": "",
     "delete_cmd_prefix": "del ",
     "library": "var_list.py",
     "varRefreshCmd": "print(var_dic_list())"
    },
    "r": {
     "delete_cmd_postfix": ") ",
     "delete_cmd_prefix": "rm(",
     "library": "var_list.r",
     "varRefreshCmd": "cat(var_dic_list()) "
    }
   },
   "types_to_exclude": [
    "module",
    "function",
    "builtin_function_or_method",
    "instance",
    "_Feature"
   ],
   "window_display": false
  }
 },
 "nbformat": 4,
 "nbformat_minor": 5
}
